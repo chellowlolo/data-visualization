{
  "cells": [
    {
      "cell_type": "markdown",
      "source": [
        "# Deep Learning with Keras (TensorFlow backend)"
      ],
      "metadata": {}
    },
    {
      "cell_type": "markdown",
      "source": [
        "## Import required libraries\n",
        "\n",
        "Note that tensorflow-gpu on Mac is somewhat buggy, be sure to check online for a solution if TensorFlow does not work straight out of the box.\n",
        "\n",
        "Fixes for common include setting the .bash_profile, making a symlink of libcuda.dylib to libcuda.1.dylib and/or disabling rootless mode.\n",
        "\nCPU-only builds of TensorFlow should work just fine."
      ],
      "metadata": {}
    },
    {
      "cell_type": "code",
      "source": [
        "import numpy as np\n",
        "import tensorflow as tf\n",
        "import matplotlib.pyplot as plt\n",
        "\n",
        "from keras.models import Sequential\n",
        "from keras.layers import Dense, Dropout, Activation, Flatten\n",
        "from keras.layers import Convolution2D, MaxPooling2D\n",
        "from keras.utils import np_utils\n",
        "\n",
        "# MNIST dataset\n",
        "from keras.datasets import mnist"
      ],
      "outputs": [
        {
          "output_type": "stream",
          "name": "stderr",
          "text": [
            "Using TensorFlow backend.\n"
          ]
        }
      ],
      "execution_count": 2,
      "metadata": {
        "collapsed": false,
        "outputHidden": false,
        "inputHidden": false
      }
    },
    {
      "cell_type": "markdown",
      "source": [
        "## Set parameters / hyperparemeters"
      ],
      "metadata": {}
    },
    {
      "cell_type": "code",
      "source": [
        "batch_size = 128\n",
        "nb_classes = 10 # Since 10 digits only\n",
        "nb_epoch = 12 \n",
        "\n",
        "nb_filters = 32\n",
        "pool_size = 2, 2\n",
        "kernel_size = 3, 3"
      ],
      "outputs": [],
      "execution_count": 25,
      "metadata": {
        "collapsed": false,
        "outputHidden": false,
        "inputHidden": false
      }
    },
    {
      "cell_type": "markdown",
      "source": [
        "## Import data"
      ],
      "metadata": {}
    },
    {
      "cell_type": "code",
      "source": [
        "(X_train, Y_train), (X_test, Y_test) = mnist.load_data()\n",
        "\n",
        "input_shape = (28, 28, 1)\n",
        "\n",
        "plt.imshow(X_train[5])\n",
        "plt.show()\n",
        "plt.imshow(X_train[10])\n",
        "plt.show()\n",
        "plt.imshow(X_train[4223])\n",
        "plt.show()"
      ],
      "outputs": [
        {
          "output_type": "display_data",
          "data": {
            "text/plain": [
              "<matplotlib.figure.Figure at 0x13feeaef0>"
            ],
            "image/png": "[encoded data removed]"
          },
          "metadata": {}
        },
        {
          "output_type": "display_data",
          "data": {
            "text/plain": [
              "<matplotlib.figure.Figure at 0x14013f198>"
            ],
            "image/png": "[encoded data removed]"
          },
          "metadata": {}
        },
        {
          "output_type": "display_data",
          "data": {
            "text/plain": [
              "<matplotlib.figure.Figure at 0x13ff83c88>"
            ],
            "image/png": "[encoded data removed]"
          },
          "metadata": {}
        }
      ],
      "execution_count": 26,
      "metadata": {
        "collapsed": false,
        "outputHidden": false,
        "inputHidden": false
      }
    },
    {
      "cell_type": "markdown",
      "source": [
        "## Preprocess data"
      ],
      "metadata": {}
    },
    {
      "cell_type": "code",
      "source": [
        "# Reshape data (if theano place the '1's as first argument)\n",
        "\n",
        "X_train = X_train.reshape(X_train.shape[0], input_shape[0], input_shape[1], input_shape[2])\n",
        "X_test = X_test.reshape(X_test.shape[0], input_shape[0], input_shape[1], input_shape[2])\n",
        "\n",
        "# Other\n",
        "X_train = X_train.astype('float32')\n",
        "X_test = X_test.astype('float32')\n",
        "X_train /= 255\n",
        "X_test /= 255\n",
        "\n",
        "# Labels\n",
        "Y_train = np_utils.to_categorical(Y_train, 10)\n",
        "Y_test = np_utils.to_categorical(Y_test, 10)"
      ],
      "outputs": [],
      "execution_count": 27,
      "metadata": {
        "collapsed": false,
        "outputHidden": false,
        "inputHidden": false
      }
    },
    {
      "cell_type": "markdown",
      "source": [
        "## Build CNN model using Keras"
      ],
      "metadata": {}
    },
    {
      "cell_type": "code",
      "source": [
        "# Keras Sequential API\n",
        "model = Sequential()\n",
        "\n",
        "# Add layers to model\n",
        "\n",
        "# Input layer\n",
        "model.add(Convolution2D(nb_filters, kernel_size[0], kernel_size[1], border_mode='valid', input_shape=input_shape))\n",
        "model.add(Activation('relu'))\n",
        "\n",
        "# Convolutional layer 1\n",
        "model.add(Convolution2D(nb_filters, kernel_size[0], kernel_size[1]))\n",
        "model.add(Activation('relu'))\n",
        "\n",
        "# Pooling layer 2\n",
        "model.add(MaxPooling2D(pool_size=pool_size))\n",
        "model.add(Dropout(0.25)) # Dropout to prevent overfitting\n",
        "model.add(Flatten())\n",
        "\n",
        "# Hidden layer 3\n",
        "model.add(Dense(128))\n",
        "model.add(Activation('relu'))\n",
        "model.add(Dropout(0.5))\n",
        "\n",
        "# Output layer\n",
        "model.add(Dense(nb_classes))\n",
        "model.add(Activation('softmax'))\n",
        "\n",
        "# Compile model\n",
        "model.compile(loss='categorical_crossentropy', \n",
        "             optimizer='adadelta', \n",
        "             metrics=['accuracy'])"
      ],
      "outputs": [],
      "execution_count": 28,
      "metadata": {
        "collapsed": false,
        "outputHidden": false,
        "inputHidden": false
      }
    },
    {
      "cell_type": "markdown",
      "source": [
        "## Run and save model"
      ],
      "metadata": {}
    },
    {
      "cell_type": "code",
      "source": [
        "model.fit(X_train, Y_train, batch_size=batch_size, nb_epoch=nb_epoch,\n",
        "         verbose=1, validation_data=(X_test, Y_test))"
      ],
      "outputs": [
        {
          "output_type": "stream",
          "name": "stdout",
          "text": [
            "Train on 60000 samples, validate on 10000 samples\n",
            "Epoch 1/12\n"
          ]
        }
      ],
      "execution_count": 31,
      "metadata": {
        "collapsed": false,
        "outputHidden": false,
        "inputHidden": false
      }
    },
    {
      "cell_type": "code",
      "source": [
        "score = model.evaluate(X_test, Y_test, verbose=0)\n",
        "print('Test score:', score[0])\n",
        "print('Test accuracy:', score[1])\n",
        "model.save('mnist_model.h5')"
      ],
      "outputs": [],
      "execution_count": null,
      "metadata": {
        "collapsed": false,
        "outputHidden": false,
        "inputHidden": false
      }
    }
  ],
  "metadata": {
    "kernelspec": {
      "name": "python3",
      "language": "python",
      "display_name": "Python 3"
    },
    "kernel_info": {
      "name": "python3"
    },
    "language_info": {
      "name": "python",
      "version": "3.6.0",
      "mimetype": "text/x-python",
      "codemirror_mode": {
        "name": "ipython",
        "version": 3
      },
      "pygments_lexer": "ipython3",
      "nbconvert_exporter": "python",
      "file_extension": ".py"
    }
  },
  "nbformat": 4,
  "nbformat_minor": 4
}