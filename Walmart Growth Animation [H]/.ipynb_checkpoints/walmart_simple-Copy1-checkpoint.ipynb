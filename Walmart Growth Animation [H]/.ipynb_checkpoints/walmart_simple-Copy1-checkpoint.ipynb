{
 "cells": [
  {
   "cell_type": "markdown",
   "metadata": {},
   "source": [
    "# Walmart growth, 1962-2006 (full version with subplots) using Plotly"
   ]
  },
  {
   "cell_type": "markdown",
   "metadata": {},
   "source": [
    "## Import required libraries\n",
    "\n",
    "------------------\n",
    "\n",
    "Note that Plotly requires an API key for Python (not stored on this file).\n",
    "\n",
    "Attempting to graph without authentication will NOT WORK.\n",
    "\n",
    "View instructions here to setup your API:\n",
    "\n",
    "https://plot.ly/python/getting-started/\n",
    "\n",
    "Furthermore, if the Mapbox API below does not work, create a new Mapbox account. Then go under \"API access tokens\" and paste the key."
   ]
  },
  {
   "cell_type": "code",
   "execution_count": 1,
   "metadata": {
    "collapsed": true
   },
   "outputs": [],
   "source": [
    "from datetime import datetime\n",
    "import numpy as np\n",
    "import pandas as pd\n",
    "\n",
    "import plotly.plotly as py\n",
    "from plotly.graph_objs import *\n",
    "from plotly.grid_objs import Grid, Column\n",
    "\n",
    "mapbox_access_token = 'pk.eyJ1IjoiamFja2x1byIsImEiOiJjaXhzYTB0bHcwOHNoMnFtOWZ3YWdreDB3In0.pjROwb9_CEuyKPE-x0lRUw'\n"
   ]
  },
  {
   "cell_type": "markdown",
   "metadata": {},
   "source": [
    "## Select data"
   ]
  },
  {
   "cell_type": "code",
   "execution_count": 2,
   "metadata": {
    "collapsed": true
   },
   "outputs": [],
   "source": [
    "filename = \"data/walmart_store_openings.csv\"\n",
    "chart_filename = \"Walmart \" + str(datetime.now())\n",
    "\n",
    "df = pd.read_csv(filename, encoding = \"utf-8-sig\")\n",
    "#df\n",
    "#print(df.columns)\n",
    "\n",
    "# Get list of years\n",
    "years = df[\"YEAR\"].unique()\n",
    "years = list(sorted(years.astype(str)))\n",
    "\n",
    "# Bug with Grid parsing if dataset isn't sanitized, need to return NaN instead of empty []\n",
    "#years = [str(i) for i in range(1962,2007)]\n",
    "\n",
    "# Group by year and count number of stores\n",
    "ylist = df.groupby(\"YEAR\").count()[\"storenum\"].astype(int)\n",
    "ylist_cum = ylist.cumsum()\n",
    "\n",
    "# Get max range for subplot (minimum set to 0, no y-axis jump)\n",
    "max_range = max(ylist) * 1.15\n",
    "max_range_cum = max(ylist_cum) * 1.15\n",
    "\n",
    "# Convert list items to string\n",
    "ylist = list(ylist.astype(str))\n",
    "ylist_cum = list(ylist_cum.astype(str))\n"
   ]
  },
  {
   "cell_type": "markdown",
   "metadata": {},
   "source": [
    "## Upload grid"
   ]
  },
  {
   "cell_type": "code",
   "execution_count": 3,
   "metadata": {
    "collapsed": false
   },
   "outputs": [
    {
     "data": {
      "text/plain": [
       "'https://plot.ly/~jackluo/2168/'"
      ]
     },
     "execution_count": 3,
     "metadata": {},
     "output_type": "execute_result"
    }
   ],
   "source": [
    "# Since Grid has a size limit, it is good practice to upload multiple Grids for suplots in case of large datasets\n",
    "grid_filename = chart_filename + \" Grid\"\n",
    "grid_filename2 = grid_filename + \"2\"\n",
    "\n",
    "columns = []\n",
    "columns2 = []\n",
    "\n",
    "for i, year in enumerate(years):\n",
    "\n",
    "    # Filter df for current year only\n",
    "    current_year = df[df[\"YEAR\"] == int(year)]\n",
    "\n",
    "    lons = list(current_year[\"LON\"].astype(float))\n",
    "    lats = list(current_year[\"LAT\"].astype(float))\n",
    "    texts = list(current_year[\"STRCITY\"].astype(str))\n",
    "\n",
    "    # Iteratively grow list to create running counts\n",
    "    xvalues = years[:i + 1]\n",
    "    yvalues = ylist[:i + 1]\n",
    "    yvalues_cum = ylist_cum[:i + 1]\n",
    "\n",
    "    columns.append(Column(lons, \"x{}\".format(i + 1)))\n",
    "    columns.append(Column(lats, \"y{}\".format(i + 1)))\n",
    "    columns.append(Column(texts, \"text{}\".format(i + 1)))\n",
    "\n",
    "    columns2.append(Column(xvalues, \"x{}\".format(i + 1)))\n",
    "    columns2.append(Column(yvalues, \"y{}\".format(i + 1)))\n",
    "    columns2.append(Column(yvalues_cum, \"y_cum{}\".format(i + 1)))\n",
    "\n",
    "# Will throw error if file exists or path is not root\n",
    "grid = Grid(columns)\n",
    "py.grid_ops.upload(grid, grid_filename, auto_open=False)\n",
    "\n",
    "grid2 = Grid(columns2)\n",
    "py.grid_ops.upload(grid2, grid_filename2, auto_open=False)\n"
   ]
  },
  {
   "cell_type": "markdown",
   "metadata": {},
   "source": [
    "## Create data"
   ]
  },
  {
   "cell_type": "code",
   "execution_count": 4,
   "metadata": {
    "collapsed": true
   },
   "outputs": [],
   "source": [
    "# Main trace\n",
    "trace1 = Scattermapbox(\n",
    "\n",
    "    # GENERAL\n",
    "    lonsrc = grid.get_column_reference(\"x1\"),\n",
    "    latsrc = grid.get_column_reference(\"y1\"),\n",
    "    textsrc = grid.get_column_reference(\"text1\"),\n",
    "    mode = \"markers\",\n",
    "    hoverinfo = \"lon+lat+text\",\n",
    "\n",
    "    # SPECS\n",
    "    marker = dict(\n",
    "        size = 10,\n",
    "        color = \"#54D9F3\",\n",
    "        opacity = \"0.6\",\n",
    "    ),\n",
    ")\n",
    "\n",
    "# Non-cumulative secondary\n",
    "trace2 = Scatter(\n",
    "\n",
    "    # GENERAL\n",
    "    xsrc = grid2.get_column_reference(\"x1\"),\n",
    "    ysrc = grid2.get_column_reference(\"y1\"),\n",
    "    mode = \"lines+markers\",\n",
    "    hoverinfo = \"x+y\",\n",
    "\n",
    "    # SPECS\n",
    "    line = dict(\n",
    "        color = \"#4ADFD0\",\n",
    "    ),\n",
    "    marker = dict(\n",
    "        symbol = \"cross-thin-open\",\n",
    "    ),\n",
    "    xaxis = \"x\",\n",
    "    yaxis = \"y2\",\n",
    "\n",
    ")\n",
    "\n",
    "# Cumulative secondary\n",
    "trace3 = Scatter(\n",
    "\n",
    "    # GENERAL\n",
    "    xsrc = grid2.get_column_reference(\"x1\"),\n",
    "    ysrc = grid2.get_column_reference(\"y_cum1\"),\n",
    "    mode = \"lines\",\n",
    "    fill = \"tozeroy\",\n",
    "    hoverinfo = \"x+y\",\n",
    "\n",
    "    # SPECS\n",
    "    line = dict(\n",
    "        color = \"#1CA9E2\",\n",
    "    ),\n",
    "    xaxis = \"x2\",\n",
    "    yaxis = \"y\",\n",
    "\n",
    ")\n",
    "\n",
    "# Note that subplots are mapped to reversed yaxis (temporary solution, bugfix impending)\n"
   ]
  },
  {
   "cell_type": "markdown",
   "metadata": {},
   "source": [
    "## Set up slider and buttons"
   ]
  },
  {
   "cell_type": "code",
   "execution_count": 5,
   "metadata": {
    "collapsed": true
   },
   "outputs": [],
   "source": [
    "slider = dict(\n",
    "\n",
    "    # GENERAL\n",
    "    plotlycommand = \"animate\",\n",
    "    values = years,\n",
    "    initialValue = years[0],\n",
    "    visible = True,\n",
    "\n",
    "    # ARGUMENTS\n",
    "    args = [\n",
    "        \"slider.value\",\n",
    "        dict(\n",
    "            duration = 300,\n",
    "            ease = \"cubic-in-out\",\n",
    "        ),\n",
    "    ],\n",
    "\n",
    ")\n",
    "\n",
    "sliders = dict(\n",
    "\n",
    "    # GENERAL\n",
    "    active = 0,\n",
    "    steps = [],\n",
    "\n",
    "    currentvalue = dict(\n",
    "        font = dict(size = 16),\n",
    "        prefix = \"Year : \",\n",
    "        xanchor = \"right\",\n",
    "        visible = True,\n",
    "    ),\n",
    "    transition = dict(\n",
    "        duration = 300,\n",
    "        easing = \"cubic-in-out\",\n",
    "    ),\n",
    "\n",
    "    # PLACEMENT\n",
    "    x = 0.1,\n",
    "    y = 0,\n",
    "    pad = dict(t = 40, b = 10),\n",
    "    len = 0.9,\n",
    "    xanchor = \"left\",\n",
    "    yanchor = \"top\",\n",
    "\n",
    ")\n",
    "\n",
    "for year in years:\n",
    "\n",
    "    slider_step = dict(\n",
    "\n",
    "            # GENERAL\n",
    "            method = \"animate\",\n",
    "            value = year,\n",
    "            label = year,\n",
    "\n",
    "            # ARGUMENTS\n",
    "            args = [\n",
    "                [year],\n",
    "                dict(\n",
    "                    frame = dict(duration = 300, redraw = False),\n",
    "                    transition = dict(duration = 300),\n",
    "                    mode = \"immediate\",\n",
    "                    ),\n",
    "                ],\n",
    "\n",
    "            )\n",
    "\n",
    "    sliders[\"steps\"].append(slider_step)\n",
    "\n",
    "\n",
    "updatemenus = dict(\n",
    "\n",
    "    # GENERAL\n",
    "    type = \"buttons\",\n",
    "    showactive = False,\n",
    "    x = 0.1, #x = 1.1\n",
    "    y = 0, #y = 1\n",
    "    pad = dict(t = 60, r = 10),\n",
    "    xanchor = 'right',\n",
    "    yanchor = 'top',\n",
    "    direction = \"left\",\n",
    "\n",
    "    # BUTTONS\n",
    "    buttons=[\n",
    "        dict(\n",
    "            method = \"animate\",\n",
    "            label = \"Play\",\n",
    "\n",
    "            # PLAY\n",
    "            args = [\n",
    "                None,\n",
    "                dict(\n",
    "                    frame = dict(duration = 300, redraw = True), # False quicker but disables animations\n",
    "                    fromcurrent = True,\n",
    "                    transition = dict(duration = 50, easing = \"quadratic-in-out\"), # easing = \"cubic-in-out\"\n",
    "                    mode = \"immediate\",\n",
    "                    ),\n",
    "                ],\n",
    "            ),\n",
    "        dict(\n",
    "            method = \"animate\",\n",
    "            label = \"Pause\",\n",
    "\n",
    "            # PAUSE\n",
    "            args = [\n",
    "                [None], # Note the list\n",
    "                dict(\n",
    "                    frame = dict(duration = 0, redraw = True), # Idem\n",
    "                    mode = \"immediate\",\n",
    "                    transition = dict(duration = 0),\n",
    "                    ),\n",
    "                ],\n",
    "            ),\n",
    "        ],\n",
    "\n",
    ")\n"
   ]
  },
  {
   "cell_type": "markdown",
   "metadata": {},
   "source": [
    "## Create layout"
   ]
  },
  {
   "cell_type": "code",
   "execution_count": 6,
   "metadata": {
    "collapsed": true
   },
   "outputs": [],
   "source": [
    "layout = dict(\n",
    "\n",
    "    title = \"Growth of Walmart stores, 1962-2006\",\n",
    "\n",
    "    # GENERAL LAYOUT\n",
    "    width = 960,\n",
    "    height = 720,\n",
    "    autosize = True,\n",
    "    font = dict(\n",
    "        family = \"Overpass\",\n",
    "        size = 12,\n",
    "        color = \"#CCCCCC\",\n",
    "    ),\n",
    "    margin = dict(\n",
    "        t = 80,\n",
    "        l = 80,\n",
    "        b = 80,\n",
    "        r = 80,\n",
    "        pad = 2,\n",
    "    ),\n",
    "    showlegend = False,\n",
    "    hovermode = \"closest\",\n",
    "\n",
    "    # ANIMATIONS\n",
    "    slider = slider,\n",
    "    sliders = [sliders],\n",
    "    updatemenus = [updatemenus],\n",
    "\n",
    "    # COLOR THEME\n",
    "    plot_bgcolor = \"#191A1A\",\n",
    "    paper_bgcolor = \"#151515\",\n",
    "\n",
    "    # MAPBOX\n",
    "    mapbox = dict(\n",
    "        accesstoken = mapbox_access_token,\n",
    "        center = dict(\n",
    "            lon = -96.00,\n",
    "            lat = 38.50,\n",
    "        ),\n",
    "        zoom = 3.0,\n",
    "        style = \"dark\",\n",
    "        domain = dict(\n",
    "            x = [0, 1],\n",
    "            y = [0.24, 1]\n",
    "        ),\n",
    "    ),\n",
    "\n",
    "    # AXIS (see current bug above)\n",
    "    xaxis = dict(\n",
    "        range = [\"1962\", \"2006\"],\n",
    "        domain = [0, 0.48],\n",
    "        anchor = \"y2\",\n",
    "        title = \"Stores/year\",\n",
    "    ),\n",
    "    yaxis2 = dict(\n",
    "        range = [0, max_range],\n",
    "        domain = [0, 0.20],\n",
    "        anchor = \"x\",\n",
    "    ),\n",
    "\n",
    "    xaxis2 = dict(\n",
    "        range = [\"1962\", \"2006\"],\n",
    "        domain = [0.53, 1],\n",
    "        anchor = \"y\",\n",
    "        title = \"Total stores\",\n",
    "    ),\n",
    "    yaxis = dict(\n",
    "        range = [0, max_range_cum],\n",
    "        domain = [0, 0.20],\n",
    "        anchor = \"x2\",\n",
    "    ),\n",
    "\n",
    ")\n"
   ]
  },
  {
   "cell_type": "markdown",
   "metadata": {},
   "source": [
    "## Create frames"
   ]
  },
  {
   "cell_type": "code",
   "execution_count": 7,
   "metadata": {
    "collapsed": true
   },
   "outputs": [],
   "source": [
    "frames = []\n",
    "\n",
    "for i, year in enumerate(years):\n",
    "\n",
    "    # Create frame for each subplot\n",
    "    frame_trace1 = dict(\n",
    "        lonsrc = grid.get_column_reference(\"x{}\".format(i + 1)),\n",
    "        latsrc = grid.get_column_reference(\"y{}\".format(i + 1)),\n",
    "        textsrc = grid.get_column_reference(\"text{}\".format(i + 1)),\n",
    "    )\n",
    "\n",
    "    frame_trace2 = dict(\n",
    "        xsrc = grid2.get_column_reference(\"x{}\".format(i + 1)),\n",
    "        ysrc = grid2.get_column_reference(\"y{}\".format(i + 1)),\n",
    "    )\n",
    "\n",
    "    frame_trace3 = dict(\n",
    "        xsrc = grid2.get_column_reference(\"x{}\".format(i + 1)),\n",
    "        ysrc = grid2.get_column_reference(\"y_cum{}\".format(i + 1)),\n",
    "    )\n",
    "\n",
    "    # No Grid upload needed since not plot data\n",
    "    frame_layout = dict(\n",
    "        annotations = [\n",
    "            dict(\n",
    "                text = year + \" stores: {:>4}\".format(ylist[i]) + \"<br>\" + \"Total stores: {:>4}\".format(ylist_cum[i]),\n",
    "                x = 1,\n",
    "                y = 0.98,\n",
    "                font = dict(size = 16),\n",
    "                xanchor = \"right\",\n",
    "                showarrow = False,\n",
    "                xref = \"paper\",\n",
    "                yref = \"paper\",\n",
    "            )\n",
    "        ]\n",
    "    )\n",
    "\n",
    "    # [0,1,2] specifies the 3 subplots to apply frames to\n",
    "    frame = dict(\n",
    "        data = [frame_trace1, frame_trace2, frame_trace3],\n",
    "        name = year,\n",
    "        traces = [0, 1, 2],\n",
    "        layout = frame_layout, # Need redraw = True to refresh\n",
    "    )\n",
    "\n",
    "    frames.append(frame)\n",
    "    "
   ]
  },
  {
   "cell_type": "markdown",
   "metadata": {},
   "source": [
    "## Upload animation"
   ]
  },
  {
   "cell_type": "code",
   "execution_count": 8,
   "metadata": {
    "collapsed": false
   },
   "outputs": [
    {
     "data": {
      "text/html": [
       "<iframe id=\"igraph\" scrolling=\"no\" style=\"border:none;\" seamless=\"seamless\" src=\"https://plot.ly/~jackluo/2169.embed\" height=\"720px\" width=\"960px\"></iframe>"
      ],
      "text/plain": [
       "<plotly.tools.PlotlyDisplay object>"
      ]
     },
     "execution_count": 8,
     "metadata": {},
     "output_type": "execute_result"
    }
   ],
   "source": [
    "data = [trace1]\n",
    "figure = dict(data=data, layout=layout, frames=frames)\n",
    "py.icreate_animations(figure, filename=chart_filename, auto_open=False)\n"
   ]
  }
 ],
 "metadata": {
  "anaconda-cloud": {},
  "kernelspec": {
   "display_name": "Python 3",
   "language": "python",
   "name": "python3"
  },
  "language_info": {
   "codemirror_mode": {
    "name": "ipython",
    "version": 3
   },
   "file_extension": ".py",
   "mimetype": "text/x-python",
   "name": "python",
   "nbconvert_exporter": "python",
   "pygments_lexer": "ipython3",
   "version": "3.5.2"
  }
 },
 "nbformat": 4,
 "nbformat_minor": 1
}
