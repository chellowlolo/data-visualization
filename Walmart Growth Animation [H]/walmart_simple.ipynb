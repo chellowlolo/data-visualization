{
 "cells": [
  {
   "cell_type": "markdown",
   "metadata": {},
   "source": [
    "# Walmart growth, 1962-2006 (simple version) using Plotly"
   ]
  },
  {
   "cell_type": "markdown",
   "metadata": {},
   "source": [
    "## Import required libraries\n",
    "\n",
    "------------------\n",
    "\n",
    "Note that Plotly requires an API key for Python (not stored on this file).\n",
    "\n",
    "Attempting to graph without authentication will NOT WORK.\n",
    "\n",
    "View instructions here to setup your API:\n",
    "\n",
    "https://plot.ly/python/getting-started/\n",
    "\n",
    "Furthermore, if the Mapbox API below does not work, create a new Mapbox account. Then go under \"API access tokens\" and paste the key."
   ]
  },
  {
   "cell_type": "code",
   "execution_count": 1,
   "metadata": {
    "collapsed": true
   },
   "outputs": [],
   "source": [
    "from datetime import datetime\n",
    "import numpy as np\n",
    "import pandas as pd\n",
    "\n",
    "import plotly.plotly as py\n",
    "from plotly.graph_objs import *\n",
    "from plotly.grid_objs import Grid, Column\n",
    "\n",
    "mapbox_access_token = 'pk.eyJ1IjoiamFja2x1byIsImEiOiJjaXhzYTB0bHcwOHNoMnFtOWZ3YWdreDB3In0.pjROwb9_CEuyKPE-x0lRUw'\n"
   ]
  },
  {
   "cell_type": "markdown",
   "metadata": {},
   "source": [
    "## Select data"
   ]
  },
  {
   "cell_type": "code",
   "execution_count": 3,
   "metadata": {
    "collapsed": true
   },
   "outputs": [],
   "source": [
    "filename = \"data/walmart_store_openings.csv\"\n",
    "chart_filename = \"Walmart simple \" + str(datetime.now())\n",
    "\n",
    "df = pd.read_csv(filename, encoding=\"utf-8-sig\")\n",
    "#df\n",
    "#print(df.columns)\n",
    "\n",
    "# Get list of years\n",
    "years = df[\"YEAR\"].unique()\n",
    "years = list(sorted(years.astype(str)))\n",
    "\n",
    "# Bug with Grid parsing if dataset isn't sanitized, need to return NaN instead of empty []\n",
    "#years = [str(i) for i in range(1962,2007)]\n"
   ]
  },
  {
   "cell_type": "markdown",
   "metadata": {},
   "source": [
    "## Upload grid"
   ]
  },
  {
   "cell_type": "code",
   "execution_count": 4,
   "metadata": {
    "collapsed": false
   },
   "outputs": [
    {
     "data": {
      "text/plain": [
       "'https://plot.ly/~jackluo/2165/'"
      ]
     },
     "execution_count": 4,
     "metadata": {},
     "output_type": "execute_result"
    }
   ],
   "source": [
    "grid_filename = chart_filename + \" Grid\"\n",
    "columns = []\n",
    "\n",
    "for i, year in enumerate(years):\n",
    "\n",
    "    lons = df[df[\"YEAR\"] == int(year)][\"LON\"].astype(float)\n",
    "    lats = df[df[\"YEAR\"] == int(year)][\"LAT\"].astype(float)\n",
    "    texts = df[df[\"YEAR\"] == int(year)][\"STRCITY\"].astype(str)\n",
    "\n",
    "    columns.append(Column(lons, \"x{}\".format(i + 1)))\n",
    "    columns.append(Column(lats, \"y{}\".format(i + 1)))\n",
    "    columns.append(Column(texts, \"text{}\".format(i + 1)))\n",
    "\n",
    "# Will throw error if file exists or path is not root\n",
    "grid = Grid(columns)\n",
    "py.grid_ops.upload(grid, grid_filename, auto_open=False)\n"
   ]
  },
  {
   "cell_type": "markdown",
   "metadata": {},
   "source": [
    "## Create data"
   ]
  },
  {
   "cell_type": "code",
   "execution_count": 5,
   "metadata": {
    "collapsed": true
   },
   "outputs": [],
   "source": [
    "trace1 = Scattermapbox(\n",
    "\n",
    "    # GENERAL\n",
    "    lonsrc = grid.get_column_reference(\"x1\"),\n",
    "    latsrc = grid.get_column_reference(\"y1\"),\n",
    "    textsrc = grid.get_column_reference(\"text1\"),\n",
    "    hoverinfo = \"lon+lat+text\",\n",
    "    mode = \"markers\",\n",
    "\n",
    "    marker = dict(\n",
    "        size = 10,\n",
    "        color = \"#54D9F3\",\n",
    "        opacity = \"0.6\",\n",
    "    ),\n",
    "\n",
    ")\n"
   ]
  },
  {
   "cell_type": "markdown",
   "metadata": {},
   "source": [
    "## Set up slider and buttons"
   ]
  },
  {
   "cell_type": "code",
   "execution_count": 7,
   "metadata": {
    "collapsed": true
   },
   "outputs": [],
   "source": [
    "slider = dict(\n",
    "\n",
    "    # GENERAL\n",
    "    plotlycommand = \"animate\",\n",
    "    values = years,\n",
    "    initialValue = years[0],\n",
    "    visible = True,\n",
    "\n",
    "    # ARGUMENTS\n",
    "    args = [\n",
    "        \"slider.value\",\n",
    "        dict(\n",
    "            duration = 300,\n",
    "            ease = \"cubic-in-out\",\n",
    "        ),\n",
    "    ],\n",
    "\n",
    ")\n",
    "\n",
    "sliders = dict(\n",
    "\n",
    "    # GENERAL\n",
    "    active = 0,\n",
    "    steps = [],\n",
    "\n",
    "    currentvalue = dict(\n",
    "        font = dict(size = 16),\n",
    "        prefix = \"Year : \",\n",
    "        xanchor = \"right\",\n",
    "        visible = True,\n",
    "    ),\n",
    "    transition = dict(\n",
    "        duration = 300,\n",
    "        easing = \"cubic-in-out\",\n",
    "    ),\n",
    "\n",
    "    # PLACEMENT\n",
    "    x = 0.1,\n",
    "    y = 0,\n",
    "    pad = dict(t = 40, b = 10),\n",
    "    len = 0.9,\n",
    "    xanchor = \"left\",\n",
    "    yanchor = \"top\",\n",
    "\n",
    ")\n",
    "\n",
    "for year in years:\n",
    "\n",
    "    slider_step = dict(\n",
    "\n",
    "            # GENERAL\n",
    "            method = \"animate\",\n",
    "            value = year,\n",
    "            label = year,\n",
    "\n",
    "            # ARGUMENTS\n",
    "            args = [\n",
    "                [year],\n",
    "                dict(\n",
    "                    frame = dict(duration = 300, redraw = False),\n",
    "                    transition = dict(duration = 300),\n",
    "                    mode = \"immediate\",\n",
    "                    ),\n",
    "                ],\n",
    "\n",
    "            )\n",
    "\n",
    "    sliders[\"steps\"].append(slider_step)\n",
    "\n",
    "\n",
    "updatemenus = dict(\n",
    "\n",
    "    # GENERAL\n",
    "    type = \"buttons\",\n",
    "    showactive = False,\n",
    "    x = 0.1, #x = 1.1\n",
    "    y = 0, #y = 1\n",
    "    pad = dict(t = 60, r = 10),\n",
    "    xanchor = \"right\",\n",
    "    yanchor = \"top\",\n",
    "    direction = \"left\",\n",
    "\n",
    "    # BUTTONS\n",
    "    buttons=[\n",
    "        dict(\n",
    "            method = \"animate\",\n",
    "            label = \"Play\",\n",
    "\n",
    "            # PLAY\n",
    "            args = [\n",
    "                None,\n",
    "                dict(\n",
    "                    frame = dict(duration = 300, redraw = False),\n",
    "                    fromcurrent = True,\n",
    "                    transition = dict(duration = 50, easing = \"quadratic-in-out\"), # easing = \"cubic-in-out\"\n",
    "                    mode = \"immediate\",\n",
    "                    ),\n",
    "                ],\n",
    "            ),\n",
    "        dict(\n",
    "            method = \"animate\",\n",
    "            label = \"Pause\",\n",
    "\n",
    "            # PAUSE\n",
    "            args = [\n",
    "                [None], # Note the list\n",
    "                dict(\n",
    "                    frame = dict(duration = 0, redraw = False),\n",
    "                    mode = \"immediate\",\n",
    "                    transition = dict(duration = 0),\n",
    "                    ),\n",
    "                ],\n",
    "            ),\n",
    "        ],\n",
    "\n",
    ")\n"
   ]
  },
  {
   "cell_type": "markdown",
   "metadata": {},
   "source": [
    "## Create layout"
   ]
  },
  {
   "cell_type": "code",
   "execution_count": 8,
   "metadata": {
    "collapsed": true
   },
   "outputs": [],
   "source": [
    "layout = dict(\n",
    "\n",
    "    # GENERAL LAYOUT\n",
    "    width = 1080,\n",
    "    height = 720,\n",
    "    autosize = True,\n",
    "    font = dict(\n",
    "        family = 'Overpass',\n",
    "        size = 12,\n",
    "        color = \"#CCCCCC\",\n",
    "    ),\n",
    "    margin = dict(\n",
    "        t = 80,\n",
    "        l = 80,\n",
    "        b = 80,\n",
    "        r = 80,\n",
    "        pad = 2,\n",
    "    ),\n",
    "    title = \"Growth of Walmart stores, 1962-2006\",\n",
    "    showlegend = False,\n",
    "    hovermode = \"closest\",\n",
    "\n",
    "    # ANIMATIONS\n",
    "    slider = slider,\n",
    "    sliders = [sliders],\n",
    "    updatemenus = [updatemenus],\n",
    "\n",
    "    # COLOR THEME\n",
    "    plot_bgcolor = \"#191A1A\",\n",
    "    paper_bgcolor = \"#151515\",\n",
    "\n",
    "    # MAPBOX\n",
    "    mapbox = dict(\n",
    "        accesstoken = mapbox_access_token,\n",
    "        center = dict(\n",
    "            lon = -96.00,\n",
    "            lat = 38.50,\n",
    "        ),\n",
    "        pitch = 0,\n",
    "        zoom = 3.0,\n",
    "        style = \"dark\",\n",
    "    ),\n",
    "\n",
    ")\n"
   ]
  },
  {
   "cell_type": "markdown",
   "metadata": {},
   "source": [
    "## Create frames"
   ]
  },
  {
   "cell_type": "code",
   "execution_count": 10,
   "metadata": {
    "collapsed": true
   },
   "outputs": [],
   "source": [
    "frames = []\n",
    "\n",
    "for i, year in enumerate(years):\n",
    "    frame = dict(\n",
    "        data = [dict(lonsrc = grid.get_column_reference(\"x{}\".format(i + 1)),\n",
    "                     latsrc = grid.get_column_reference(\"y{}\".format(i + 1)),\n",
    "                     textsrc = grid.get_column_reference(\"text{}\".format(i + 1)),\n",
    "                     )],\n",
    "        name = str(year),\n",
    "    )\n",
    "    frames.append(frame)\n"
   ]
  },
  {
   "cell_type": "markdown",
   "metadata": {},
   "source": [
    "## Upload animation"
   ]
  },
  {
   "cell_type": "code",
   "execution_count": 12,
   "metadata": {
    "collapsed": false
   },
   "outputs": [
    {
     "data": {
      "text/html": [
       "<iframe id=\"igraph\" scrolling=\"no\" style=\"border:none;\" seamless=\"seamless\" src=\"https://plot.ly/~jackluo/2166.embed\" height=\"720px\" width=\"1080px\"></iframe>"
      ],
      "text/plain": [
       "<plotly.tools.PlotlyDisplay object>"
      ]
     },
     "execution_count": 12,
     "metadata": {},
     "output_type": "execute_result"
    }
   ],
   "source": [
    "data = [trace1]\n",
    "figure = dict(data=data, layout=layout, frames=frames)\n",
    "py.icreate_animations(figure, filename=chart_filename, auto_open=False)\n"
   ]
  }
 ],
 "metadata": {
  "anaconda-cloud": {},
  "kernelspec": {
   "display_name": "Python 3",
   "language": "python",
   "name": "python3"
  },
  "language_info": {
   "codemirror_mode": {
    "name": "ipython",
    "version": 3
   },
   "file_extension": ".py",
   "mimetype": "text/x-python",
   "name": "python",
   "nbconvert_exporter": "python",
   "pygments_lexer": "ipython3",
   "version": "3.5.2"
  }
 },
 "nbformat": 4,
 "nbformat_minor": 1
}
