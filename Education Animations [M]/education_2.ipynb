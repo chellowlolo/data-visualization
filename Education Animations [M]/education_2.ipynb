{
 "cells": [
  {
   "cell_type": "markdown",
   "metadata": {},
   "source": [
    "# Education 2: Mean years of schooling, 1870-2010 (different dataset)"
   ]
  },
  {
   "cell_type": "markdown",
   "metadata": {
    "collapsed": true
   },
   "source": [
    "All three education notebooks are very similar !"
   ]
  },
  {
   "cell_type": "markdown",
   "metadata": {},
   "source": [
    "## Import required libraries\n",
    "\n",
    "------------------\n",
    "\n",
    "Note that Plotly requires an API key for Python not stored on this file.\n",
    "\n",
    "Attempting to graph without authentication will NOT WORK.\n",
    "\n",
    "View instructions here for API setup:\n",
    "\n",
    "https://plot.ly/python/getting-started/\n",
    "\n",
    "If Mapbox API does not work, create an account and go under \"API access tokens\", then paste the key."
   ]
  },
  {
   "cell_type": "code",
   "execution_count": 1,
   "metadata": {
    "collapsed": true
   },
   "outputs": [],
   "source": [
    "from datetime import datetime\n",
    "import numpy as np\n",
    "import pandas as pd\n",
    "\n",
    "import plotly.plotly as py\n",
    "from plotly.graph_objs import *\n",
    "from plotly.grid_objs import Grid, Column\n",
    "\n",
    "mapbox_access_token = 'pk.eyJ1IjoiamFja2x1byIsImEiOiJjaXhzYTB0bHcwOHNoMnFtOWZ3YWdreDB3In0.pjROwb9_CEuyKPE-x0lRUw'\n"
   ]
  },
  {
   "cell_type": "markdown",
   "metadata": {},
   "source": [
    "## Select data"
   ]
  },
  {
   "cell_type": "code",
   "execution_count": 2,
   "metadata": {
    "collapsed": true
   },
   "outputs": [],
   "source": [
    "filename = \"data/mean-years-of-schooling-selected-countries.csv\"\n",
    "chart_filename = \"Education 2 \" + str(datetime.now())\n",
    "\n",
    "df = pd.read_csv(filename, encoding=\"utf-8-sig\")\n",
    "\n",
    "# Pivots Table (Very important!)\n",
    "df = df.pivot(index=\"Year\", columns=\"Country\", values=\"Total_YearsSchool – Lee-Lee (2016)\")\n",
    "#df = df.pivot(index=\"Year\", columns=\"Country\", values=\"Barro Lee Education Dataset: Educational Attainment (average years of total education)\")\n",
    "#df\n",
    "\n",
    "# Gets list of years\n",
    "years = df.index.unique()\n",
    "years = list(sorted(years.astype(str)))\n"
   ]
  },
  {
   "cell_type": "markdown",
   "metadata": {},
   "source": [
    "## Upload Grid"
   ]
  },
  {
   "cell_type": "code",
   "execution_count": 3,
   "metadata": {
    "collapsed": false
   },
   "outputs": [
    {
     "data": {
      "text/plain": [
       "'https://plot.ly/~jackluo/2145/'"
      ]
     },
     "execution_count": 3,
     "metadata": {},
     "output_type": "execute_result"
    }
   ],
   "source": [
    "grid_filename = chart_filename + \" Grid\"\n",
    "columns = []\n",
    "\n",
    "for i, year in enumerate(years):\n",
    "\n",
    "    # Filter df for current year only\n",
    "    current_year = df[df.index == int(year)]\n",
    "\n",
    "    # Get countries and their years ([0] since .valures returns a list of numpy arrays)\n",
    "    countries = list(current_year.columns.astype(str))\n",
    "    zvalues = list(current_year.values.astype(float)[0])\n",
    "    #print(countries, zvalues)\n",
    "\n",
    "    columns.append(Column(countries, \"location{}\".format(i + 1)))\n",
    "    columns.append(Column(zvalues, \"z{}\".format(i + 1)))\n",
    "\n",
    "    #print(countries,zvalues)\n",
    "\n",
    "# Will throw error if file exists or path is not root\n",
    "grid = Grid(columns)\n",
    "py.grid_ops.upload(grid, grid_filename, auto_open=False)\n"
   ]
  },
  {
   "cell_type": "markdown",
   "metadata": {},
   "source": [
    "## Create data"
   ]
  },
  {
   "cell_type": "code",
   "execution_count": 4,
   "metadata": {
    "collapsed": true
   },
   "outputs": [],
   "source": [
    "yellowblue = [[0, \"rgb(255,255,204)\"], [0.35, \"rgb(161,218,180)\"], [0.5, \"rgb(65,182,196)\"],\n",
    "            [0.6, \"rgb(44,127,184)\"], [0.7, \"rgb(8,104,172)\"], [1, \"rgb(37,52,148)\"]]\n",
    "\n",
    "# Main trace\n",
    "trace1 = Choropleth(\n",
    "\n",
    "    # GENERAL\n",
    "    locationssrc = grid.get_column_reference(\"location1\"),\n",
    "    zsrc = grid.get_column_reference(\"z1\"),\n",
    "    hoverinfo = \"location+z\",\n",
    "    locationmode = \"country names\",\n",
    "\n",
    "    # COLORSCALE\n",
    "    zmin = 0,\n",
    "    zmax = 14,\n",
    "    autocolorscale = False,\n",
    "    colorscale = yellowblue,\n",
    "    showscale = True,\n",
    "    colorbar = dict(\n",
    "        title = \"Years<br>\",\n",
    "        nticks = 14,\n",
    "    ),\n",
    "\n",
    ")\n"
   ]
  },
  {
   "cell_type": "markdown",
   "metadata": {},
   "source": [
    "## Set up slider and buttons"
   ]
  },
  {
   "cell_type": "code",
   "execution_count": 5,
   "metadata": {
    "collapsed": true
   },
   "outputs": [],
   "source": [
    "animation_time = 500\n",
    "transition_time = 300\n",
    "slider_transition_time = 300\n",
    "\n",
    "slider = dict(\n",
    "\n",
    "    # GENERAL\n",
    "    plotlycommand = \"animate\",\n",
    "    values = years,\n",
    "    initialValue = years[0],\n",
    "    visible = True,\n",
    "\n",
    "    # ARGUMENTS\n",
    "    args = [\n",
    "        \"slider.value\",\n",
    "        dict(\n",
    "            duration = animation_time,\n",
    "            ease = \"cubic-in-out\",\n",
    "        ),\n",
    "    ],\n",
    "\n",
    ")\n",
    "\n",
    "sliders = dict(\n",
    "\n",
    "    # GENERAL\n",
    "    active = 0,\n",
    "    steps = [],\n",
    "\n",
    "    currentvalue = dict(\n",
    "        font = dict(size = 16),\n",
    "        prefix = \"Year : \",\n",
    "        xanchor = \"right\",\n",
    "        visible = True,\n",
    "    ),\n",
    "    transition = dict(\n",
    "        duration = slider_transition_time,\n",
    "        easing = \"cubic-in-out\",\n",
    "    ),\n",
    "\n",
    "    # PLACEMENT\n",
    "    x = 0.1,\n",
    "    y = 0,\n",
    "    pad = dict(t = 40, b = 10),\n",
    "    len = 0.9,\n",
    "    xanchor = \"left\",\n",
    "    yanchor = \"top\",\n",
    "\n",
    ")\n",
    "\n",
    "for year in years:\n",
    "\n",
    "    slider_step = dict(\n",
    "\n",
    "            # GENERAL\n",
    "            method = \"animate\",\n",
    "            value = year,\n",
    "            label = year,\n",
    "\n",
    "            # ARGUMENTS\n",
    "            args = [\n",
    "                [year],\n",
    "                dict(\n",
    "                    frame = dict(duration = animation_time, redraw = False),\n",
    "                    transition = dict(duration = slider_transition_time),\n",
    "                    mode = \"immediate\",\n",
    "                    ),\n",
    "                ],\n",
    "\n",
    "            )\n",
    "\n",
    "    sliders[\"steps\"].append(slider_step)\n",
    "\n",
    "\n",
    "updatemenus = dict(\n",
    "\n",
    "    # GENERAL\n",
    "    type = \"buttons\",\n",
    "    #showactive = False,\n",
    "    x = 0.1, #x = 1.1\n",
    "    y = 0, #y = 1\n",
    "    pad = dict(t = 60, r = 10),\n",
    "    xanchor = \"right\",\n",
    "    yanchor = \"top\",\n",
    "    direction = \"left\",\n",
    "\n",
    "    # BUTTONS\n",
    "    buttons=[\n",
    "        dict(\n",
    "            method = \"animate\",\n",
    "            label = \"Play\",\n",
    "\n",
    "            # PLAY\n",
    "            args = [\n",
    "                None,\n",
    "                dict(\n",
    "                    frame = dict(duration = animation_time, redraw = False), # False quicker but disables animations\n",
    "                    fromcurrent = True,\n",
    "                    transition = dict(duration = transition_time, easing = \"quadratic-in-out\"), # easing = \"cubic-in-out\"\n",
    "                    mode = \"immediate\",\n",
    "                    ),\n",
    "                ],\n",
    "            ),\n",
    "        dict(\n",
    "            method = \"animate\",\n",
    "            label = \"Pause\",\n",
    "\n",
    "            # PAUSE\n",
    "            args = [\n",
    "                [None], # Note the list\n",
    "                dict(\n",
    "                    frame = dict(duration = 0, redraw = False), # Idem\n",
    "                    mode = \"immediate\",\n",
    "                    transition = dict(duration = 0),\n",
    "                    ),\n",
    "                ],\n",
    "            ),\n",
    "        ],\n",
    "\n",
    ")\n"
   ]
  },
  {
   "cell_type": "markdown",
   "metadata": {},
   "source": [
    "## Create layout"
   ]
  },
  {
   "cell_type": "code",
   "execution_count": 6,
   "metadata": {
    "collapsed": true
   },
   "outputs": [],
   "source": [
    "layout = dict(\n",
    "\n",
    "    title = \"Mean years of schooling, 1870-2010\",\n",
    "\n",
    "    # GENERAL LAYOUT\n",
    "    width = 1080,\n",
    "    height = 720,\n",
    "    autosize = True,\n",
    "    font = dict(\n",
    "        family = \"Overpass\",\n",
    "        size = 12,\n",
    "    ),\n",
    "    margin = dict(\n",
    "        t = 80,\n",
    "        l = 80,\n",
    "        b = 80,\n",
    "        r = 80,\n",
    "        pad = 2,\n",
    "    ),\n",
    "    showlegend = False,\n",
    "    hovermode = \"closest\",\n",
    "\n",
    "    # ANIMATIONS\n",
    "    slider = slider,\n",
    "    sliders = [sliders],\n",
    "    updatemenus = [updatemenus],\n",
    "\n",
    "    annotations = [\n",
    "        dict(\n",
    "            text = 'Source: <a href=\"https://ourworldindata.org/grapher/mean-years-of-schooling\">Our World in Data (Lee and Lee)</a>',\n",
    "            x = 0.01,\n",
    "            y = -0.08,\n",
    "            align = \"left\",\n",
    "            showarrow = False,\n",
    "            xref = \"paper\",\n",
    "            yref = \"paper\",\n",
    "        )\n",
    "    ],\n",
    "\n",
    "    # COLOR THEME\n",
    "    plot_bgcolor = \"#F5F5F5\",\n",
    "    paper_bgcolor = \"#F5F5F5\",\n",
    "\n",
    "    # GEO PLOTS\n",
    "    geo = dict(\n",
    "\n",
    "        #GENERAL\n",
    "        projection = dict(\n",
    "            type = \"natural earth\",\n",
    "            scale = 1,\n",
    "            #rotation = dict(lat = 0, lon = 0, roll = 0),\n",
    "        ),\n",
    "        scope = \"world\",\n",
    "        showframe = False,\n",
    "        bgcolor = \"#ECF6FC\",\n",
    "\n",
    "        # CONFIG\n",
    "        showcountries = True,\n",
    "        countrywidth = 0.5,\n",
    "        showocean = True,\n",
    "        oceancolor = \"#ECF6FC\",\n",
    "        showland = True,\n",
    "        landcolor = \"#ADACAC\",\n",
    "        showcoastlines = True,\n",
    "        coastlinewidth = 0.5,\n",
    "\n",
    "    ),\n",
    "\n",
    ")\n"
   ]
  },
  {
   "cell_type": "markdown",
   "metadata": {},
   "source": [
    "## Create frames"
   ]
  },
  {
   "cell_type": "code",
   "execution_count": 8,
   "metadata": {
    "collapsed": true
   },
   "outputs": [],
   "source": [
    "frames = []\n",
    "\n",
    "for i, year in enumerate(years):\n",
    "\n",
    "    # Create frame for each subplot\n",
    "    frame_trace1 = dict(\n",
    "        locationssrc = grid.get_column_reference(\"location{}\".format(i + 1)),\n",
    "        zsrc = grid.get_column_reference(\"z{}\".format(i + 1)),\n",
    "    )\n",
    "\n",
    "    frame = dict(\n",
    "        data = [frame_trace1],\n",
    "        name = year,\n",
    "        traces = [0],\n",
    "    )\n",
    "\n",
    "    frames.append(frame)\n"
   ]
  },
  {
   "cell_type": "markdown",
   "metadata": {},
   "source": [
    "## Upload animation"
   ]
  },
  {
   "cell_type": "code",
   "execution_count": 9,
   "metadata": {
    "collapsed": false
   },
   "outputs": [
    {
     "data": {
      "text/html": [
       "<iframe id=\"igraph\" scrolling=\"no\" style=\"border:none;\" seamless=\"seamless\" src=\"https://plot.ly/~jackluo/2146.embed\" height=\"720px\" width=\"1080px\"></iframe>"
      ],
      "text/plain": [
       "<plotly.tools.PlotlyDisplay object>"
      ]
     },
     "execution_count": 9,
     "metadata": {},
     "output_type": "execute_result"
    }
   ],
   "source": [
    "data = [trace1]\n",
    "figure = dict(data=data, layout=layout, frames=frames)\n",
    "py.icreate_animations(figure, filename=chart_filename, auto_open=False)"
   ]
  }
 ],
 "metadata": {
  "anaconda-cloud": {},
  "kernelspec": {
   "display_name": "Python 3",
   "language": "python",
   "name": "python3"
  },
  "language_info": {
   "codemirror_mode": {
    "name": "ipython",
    "version": 3
   },
   "file_extension": ".py",
   "mimetype": "text/x-python",
   "name": "python",
   "nbconvert_exporter": "python",
   "pygments_lexer": "ipython3",
   "version": "3.5.2"
  }
 },
 "nbformat": 4,
 "nbformat_minor": 1
}
