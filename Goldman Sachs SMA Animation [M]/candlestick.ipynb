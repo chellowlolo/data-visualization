{
 "cells": [
  {
   "cell_type": "markdown",
   "metadata": {
    "outputExpanded": false
   },
   "source": [
    "# Moving SMA Slider Visualization with Plotly"
   ]
  },
  {
   "cell_type": "markdown",
   "metadata": {
    "outputExpanded": false
   },
   "source": [
    "## Import required libraries\n",
    "\n",
    "------------------\n",
    "\n",
    "Note that Plotly requires an API key for Python not stored on this file.\n",
    "\n",
    "Attempting to graph without authentication will NOT WORK.\n",
    "\n",
    "View instructions here for API setup:\n",
    "\n",
    "https://plot.ly/python/getting-started/\n"
   ]
  },
  {
   "cell_type": "code",
   "execution_count": 7,
   "metadata": {
    "collapsed": true,
    "outputExpanded": false
   },
   "outputs": [],
   "source": [
    "import numpy as np\n",
    "import pandas as pd\n",
    "import pandas_datareader.data as web\n",
    "\n",
    "import plotly.plotly as py\n",
    "from plotly.graph_objs import *\n"
   ]
  },
  {
   "cell_type": "markdown",
   "metadata": {
    "outputExpanded": false
   },
   "source": [
    "## Select ticker, SMA range, date range and other options"
   ]
  },
  {
   "cell_type": "code",
   "execution_count": 8,
   "metadata": {
    "collapsed": true,
    "outputExpanded": false
   },
   "outputs": [],
   "source": [
    "ticker = \"GS\"\n",
    "sma_range = 200\n",
    "log_yaxis = False\n",
    "\n",
    "# Specify a bit more time because rolling average needs backward data\n",
    "date_start = \"2014-01-01\"\n",
    "date_range_start = \"2015-01-01\"\n",
    "date_end = \"2016-12-31\"\n",
    "\n",
    "chart_filename = ticker + \" \" + date_start + \" to \" + date_end\n",
    "df = web.get_data_yahoo(ticker, date_start, date_end)\n"
   ]
  },
  {
   "cell_type": "markdown",
   "metadata": {
    "outputExpanded": false
   },
   "source": [
    "## Create Candlestick chart"
   ]
  },
  {
   "cell_type": "code",
   "execution_count": 9,
   "metadata": {
    "collapsed": true,
    "outputExpanded": false
   },
   "outputs": [],
   "source": [
    "trace1 = Candlestick(\n",
    "    x = df.index,\n",
    "    open = df[\"Open\"],\n",
    "    high = df[\"High\"],\n",
    "    low = df[\"Low\"],\n",
    "    close = df[\"Close\"],\n",
    "    name = ticker,\n",
    ")\n",
    "\n",
    "data = [trace1]\n",
    "\n",
    "for i in range(5, (sma_range + 1), 5):\n",
    "\n",
    "    sma = Scatter(\n",
    "        x = df.index,\n",
    "        y = df[\"Close\"].rolling(i).mean(), # Pandas SMA\n",
    "        name = \"SMA\" + str(i),\n",
    "        mode = \"line\",\n",
    "        line = dict(color = \"#3E86AB\"),\n",
    "        opacity = 0.7,\n",
    "        visible = False,\n",
    "    )\n",
    "\n",
    "    data.append(sma)\n",
    "    "
   ]
  },
  {
   "cell_type": "markdown",
   "metadata": {
    "outputExpanded": false
   },
   "source": [
    "## Set up slider and buttons"
   ]
  },
  {
   "cell_type": "code",
   "execution_count": 10,
   "metadata": {
    "collapsed": true,
    "outputExpanded": false
   },
   "outputs": [],
   "source": [
    "sliders = dict(\n",
    "\n",
    "    # GENERAL\n",
    "    steps = [],\n",
    "    currentvalue = dict(\n",
    "        font = dict(size = 16),\n",
    "        prefix = \"SMA: \",\n",
    "        xanchor = \"left\",\n",
    "    ),\n",
    "\n",
    "    # PLACEMENT\n",
    "    x = 0.15,\n",
    "    y = 0,\n",
    "    len = 0.85,\n",
    "    pad = dict(t = 0, b = 0),\n",
    "    yanchor = \"bottom\",\n",
    "    xanchor = \"left\",\n",
    ")\n",
    "\n",
    "for i in range((sma_range // 5) + 1):\n",
    "\n",
    "    step = dict(\n",
    "        method = \"restyle\",\n",
    "        label = str(i * 5),\n",
    "        value = str(i * 5),\n",
    "        args = [\"visible\", [False] * ((sma_range // 5) + 1)], # Sets all to false\n",
    "    )\n",
    "\n",
    "    step['args'][1][0] = True # Main trace\n",
    "    step['args'][1][i] = True # Selected trace through slider\n",
    "    sliders[\"steps\"].append(step)\n",
    "\n",
    "updatemenus = dict(\n",
    "\n",
    "    # GENERAL\n",
    "    type = \"buttons\",\n",
    "    showactive = False,\n",
    "    x = 0,\n",
    "    y = 0,\n",
    "    pad = dict(t = 0, b = 0),\n",
    "    yanchor = \"bottom\",\n",
    "    xanchor = \"left\",\n",
    "\n",
    "    # BUTTONS\n",
    "    buttons=[\n",
    "        dict(\n",
    "            method = \"restyle\",\n",
    "            label = \"Golden Cross\",\n",
    "            args = [\"visible\", [False] * ((sma_range // 5) + 1)],\n",
    "        ),\n",
    "        dict(\n",
    "            method = \"restyle\",\n",
    "            label = \"Common SMAs\",\n",
    "            args = [\"visible\", [False] * ((sma_range // 5) + 1)],\n",
    "        )\n",
    "    ],\n",
    "\n",
    ")\n",
    "\n",
    "# Set all traces to invisible, then toggle these ones selectively\n",
    "\n",
    "# Golden cross refers to the 50SMA and 200SMA cross\n",
    "# and is an indicator of long term market support\n",
    "updatemenus[\"buttons\"][0][\"args\"][1][0] = True # Main plot\n",
    "updatemenus[\"buttons\"][0][\"args\"][1][10] = True # SMA 50\n",
    "updatemenus[\"buttons\"][0][\"args\"][1][40] = True # SMA 200\n",
    "\n",
    "# Here are other common SMAs used in trading (5, 10, 20, 50 SMA)\n",
    "updatemenus[\"buttons\"][1][\"args\"][1][0] = True # Main plot\n",
    "updatemenus[\"buttons\"][1][\"args\"][1][1] = True # SMA 5\n",
    "updatemenus[\"buttons\"][1][\"args\"][1][2] = True # etc.\n",
    "updatemenus[\"buttons\"][1][\"args\"][1][4] = True\n",
    "updatemenus[\"buttons\"][1][\"args\"][1][10] = True\n"
   ]
  },
  {
   "cell_type": "markdown",
   "metadata": {
    "outputExpanded": false
   },
   "source": [
    "## Create layout"
   ]
  },
  {
   "cell_type": "code",
   "execution_count": 11,
   "metadata": {
    "collapsed": true,
    "outputExpanded": false
   },
   "outputs": [],
   "source": [
    "layout = dict(\n",
    "\n",
    "    title = chart_filename,\n",
    "\n",
    "    # GENERAL LAYOUT\n",
    "    width = 1080,\n",
    "    height = 720,\n",
    "    autosize = True,\n",
    "    font = dict(\n",
    "        family = \"Overpass\",\n",
    "        size = 12,\n",
    "    ),\n",
    "    margin = dict(\n",
    "        t = 80,\n",
    "        l = 50,\n",
    "        b = 50,\n",
    "        r = 50,\n",
    "        pad = 5,\n",
    "    ),\n",
    "    showlegend = False,\n",
    "\n",
    "    # ANIMATIONS\n",
    "    sliders = [sliders],\n",
    "    updatemenus = [updatemenus],\n",
    "\n",
    "    # COLOR THEME\n",
    "    plot_bgcolor = \"#FFFFFF\",\n",
    "    paper_bgcolor = \"#FAFAFA\",\n",
    "\n",
    "    # LINEAR PLOTS\n",
    "    xaxis = dict(\n",
    "\n",
    "        # RANGE\n",
    "        range = [date_range_start, date_end],\n",
    "\n",
    "        # RANGE SLIDER AND SELECTOR\n",
    "        rangeslider = dict(\n",
    "            bordercolor = \"#FFFFFF\",\n",
    "            bgcolor = \"#FFFFFF\",\n",
    "            thickness = 0.1,\n",
    "        ),\n",
    "\n",
    "        # Buttons for date range (1D, 5D, 1M, 3M, 6M, 1Y, 2Y, 5Y, Max, YTD)\n",
    "        rangeselector = dict(\n",
    "            activecolor = \"#888888\",\n",
    "            bgcolor = \"#DDDDDD\",\n",
    "            buttons = [\n",
    "                dict(count = 1, step = \"day\", stepmode = \"backward\", label = \"1D\"),\n",
    "                dict(count = 5, step = \"day\", stepmode = \"backward\", label = \"5D\"),\n",
    "                dict(count = 1, step = \"month\", stepmode = \"backward\", label = \"1M\"),\n",
    "                dict(count = 3, step = \"month\", stepmode = \"backward\", label = \"3M\"),\n",
    "                dict(count = 6, step = \"month\", stepmode = \"backward\", label = \"6M\"),\n",
    "                dict(count = 1, step = \"year\", stepmode = \"backward\", label = \"1Y\"),\n",
    "                dict(count = 2, step = \"year\", stepmode = \"backward\", label = \"2Y\"),\n",
    "                dict(count = 5, step = \"year\", stepmode = \"backward\", label = \"5Y\"),\n",
    "                dict(count = 1, step = \"all\", stepmode = \"backward\", label = \"MAX\"),\n",
    "                dict(count = 1, step = \"year\", stepmode = \"todate\", label = \"YTD\"),\n",
    "            ]\n",
    "        ),\n",
    "\n",
    "    ),\n",
    "    yaxis = dict(\n",
    "        tickprefix = \"$\",\n",
    "        type = \"linear\",\n",
    "        domain = [0.25, 1],\n",
    "    ),\n",
    "\n",
    ")\n",
    "\n",
    "if log_yaxis: layout[\"yaxis\"][\"type\"] = \"log\"\n"
   ]
  },
  {
   "cell_type": "markdown",
   "metadata": {
    "outputExpanded": false
   },
   "source": [
    "## Upload graph"
   ]
  },
  {
   "cell_type": "code",
   "execution_count": 15,
   "metadata": {
    "collapsed": false,
    "outputExpanded": false
   },
   "outputs": [
    {
     "data": {
      "text/plain": [
       "<plotly.tools.PlotlyDisplay object>"
      ],
      "text/html": [
       "<iframe id=\"igraph\" scrolling=\"no\" style=\"border:none;\" seamless=\"seamless\" src=\"https://plot.ly/~jackluo/2226.embed\" height=\"720px\" width=\"1080px\"></iframe>"
      ]
     },
     "metadata": {},
     "execution_count": 15,
     "output_type": "execute_result"
    }
   ],
   "source": [
    "figure = dict(data=data, layout=layout)\n",
    "py.iplot(figure, filename=chart_filename, fileopt=\"overwrite\")"
   ]
  }
 ],
 "metadata": {
  "anaconda-cloud": {},
  "kernelspec": {
   "name": "python3",
   "language": "python",
   "display_name": "Python 3"
  },
  "language_info": {
   "name": "python",
   "version": "3.6.0",
   "mimetype": "text/x-python",
   "codemirror_mode": {
    "name": "ipython",
    "version": 3
   },
   "pygments_lexer": "ipython3",
   "nbconvert_exporter": "python",
   "file_extension": ".py"
  },
  "kernel_info": {
   "name": "python3"
  }
 },
 "nbformat": 4,
 "nbformat_minor": 1
}