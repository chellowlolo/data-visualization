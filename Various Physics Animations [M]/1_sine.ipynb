{
 "cells": [
  {
   "cell_type": "markdown",
   "metadata": {},
   "source": [
    "# Sine function animation"
   ]
  },
  {
   "cell_type": "code",
   "execution_count": 26,
   "metadata": {
    "collapsed": true
   },
   "outputs": [],
   "source": [
    "# Import required libraries\n",
    "\n",
    "from datetime import datetime\n",
    "import numpy as np\n",
    "\n",
    "import plotly.plotly as py\n",
    "from plotly.graph_objs import *\n",
    "from plotly.grid_objs import Grid, Column\n"
   ]
  },
  {
   "cell_type": "code",
   "execution_count": 27,
   "metadata": {
    "collapsed": true
   },
   "outputs": [],
   "source": [
    "# Sine function\n",
    "# https://jakevdp.github.io/blog/2012/08/18/matplotlib-animation-tutorial/\n",
    "\n",
    "def sin(i):\n",
    "    x = np.linspace(0, 2, 100)\n",
    "    y = np.sin(2 * np.pi * (x - 0.01 * i))\n",
    "    return x, y\n"
   ]
  },
  {
   "cell_type": "code",
   "execution_count": 28,
   "metadata": {
    "collapsed": false
   },
   "outputs": [
    {
     "data": {
      "text/plain": [
       "'https://plot.ly/~jackluo/2025/'"
      ]
     },
     "execution_count": 28,
     "metadata": {},
     "output_type": "execute_result"
    }
   ],
   "source": [
    "# Upload Grid\n",
    "\n",
    "chart_filename = \"Sine \" + str(datetime.now())\n",
    "grid_filename = chart_filename + \" Grid\"\n",
    "columns = []\n",
    "\n",
    "# Actual animation function\n",
    "for i in range(200):\n",
    "\n",
    "    x, y = sin(i)\n",
    "\n",
    "    columns.append(Column(x, \"x{}\".format(i + 1)))\n",
    "    columns.append(Column(y, \"y{}\".format(i + 1)))\n",
    "\n",
    "grid = Grid(columns)\n",
    "py.grid_ops.upload(grid, grid_filename, auto_open=False)\n"
   ]
  },
  {
   "cell_type": "code",
   "execution_count": 29,
   "metadata": {
    "collapsed": false
   },
   "outputs": [],
   "source": [
    "# Create data\n",
    "\n",
    "trace1 = Scatter(\n",
    "    xsrc = grid.get_column_reference(\"x1\"),\n",
    "    ysrc = grid.get_column_reference(\"y1\"),\n",
    "    mode = \"lines\",\n",
    ")\n"
   ]
  },
  {
   "cell_type": "code",
   "execution_count": 30,
   "metadata": {
    "collapsed": true
   },
   "outputs": [],
   "source": [
    "# Create layout\n",
    "\n",
    "animation_time = 15\n",
    "\n",
    "updatemenus = dict(\n",
    "    type = \"buttons\",\n",
    "    buttons=[\n",
    "            dict(\n",
    "                method = \"animate\",\n",
    "                label = \"Play\",\n",
    "                args = [None,\n",
    "                        dict(frame = dict(duration = animation_time, redraw = False), mode = \"immediate\", fromcurrent = True),\n",
    "                        ],\n",
    "                ),\n",
    "            dict(\n",
    "                method = \"animate\",\n",
    "                label = \"Pause\",\n",
    "                args = [[None], # Note the list\n",
    "                        dict(frame = dict(duration = 0, redraw = False), mode = \"immediate\"),\n",
    "                        ],\n",
    "                ),\n",
    "            ],\n",
    ")\n",
    "\n",
    "layout = dict(updatemenus = [updatemenus])\n"
   ]
  },
  {
   "cell_type": "code",
   "execution_count": 31,
   "metadata": {
    "collapsed": true
   },
   "outputs": [],
   "source": [
    "# Create frames\n",
    "\n",
    "frames = []\n",
    "\n",
    "for i in range(200):\n",
    "    frame = dict(\n",
    "        data = [dict(xsrc = grid.get_column_reference(\"x{}\".format(i+1)),\n",
    "                     ysrc = grid.get_column_reference(\"y{}\".format(i+1))\n",
    "                     )],\n",
    "        traces = [0],\n",
    "    )\n",
    "    frames.append(frame)\n",
    "    "
   ]
  },
  {
   "cell_type": "code",
   "execution_count": 32,
   "metadata": {
    "collapsed": false
   },
   "outputs": [
    {
     "data": {
      "text/html": [
       "<iframe id=\"igraph\" scrolling=\"no\" style=\"border:none;\" seamless=\"seamless\" src=\"https://plot.ly/~jackluo/2026.embed\" height=\"525px\" width=\"100%\"></iframe>"
      ],
      "text/plain": [
       "<plotly.tools.PlotlyDisplay object>"
      ]
     },
     "execution_count": 32,
     "metadata": {},
     "output_type": "execute_result"
    }
   ],
   "source": [
    "# Upload animation\n",
    "\n",
    "figure = dict(data=[trace1], layout=layout, frames=frames)\n",
    "py.icreate_animations(figure, filename=chart_filename, auto_open=False)\n"
   ]
  }
 ],
 "metadata": {
  "anaconda-cloud": {},
  "kernelspec": {
   "display_name": "Python 3",
   "language": "python",
   "name": "python3"
  },
  "language_info": {
   "codemirror_mode": {
    "name": "ipython",
    "version": 3
   },
   "file_extension": ".py",
   "mimetype": "text/x-python",
   "name": "python",
   "nbconvert_exporter": "python",
   "pygments_lexer": "ipython3",
   "version": "3.5.2"
  }
 },
 "nbformat": 4,
 "nbformat_minor": 1
}
