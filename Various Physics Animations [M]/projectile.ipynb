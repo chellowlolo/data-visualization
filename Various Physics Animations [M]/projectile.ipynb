{
  "cells": [
    {
      "cell_type": "markdown",
      "source": [
        "# Playing with projectile motion and Plotly"
      ],
      "metadata": {}
    },
    {
      "cell_type": "markdown",
      "source": [
        "## Required imports"
      ],
      "metadata": {}
    },
    {
      "cell_type": "code",
      "source": [
        "import numpy as np\n",
        "import pandas as pd\n",
        "import plotly.plotly as py"
      ],
      "outputs": [],
      "execution_count": 20,
      "metadata": {
        "collapsed": false,
        "outputHidden": false,
        "inputHidden": false
      }
    },
    {
      "cell_type": "markdown",
      "source": [
        "## Differential kinematics motion equation"
      ],
      "metadata": {}
    },
    {
      "cell_type": "code",
      "source": [
        "def projectile_diff(s, v, a, time, delta):\n",
        "\n",
        "    x = s[0]\n",
        "    y = s[1]\n",
        "    \n",
        "    vx = v[0]\n",
        "    vy = v[1]\n",
        "    \n",
        "    ax = a[0]\n",
        "    ay = a[1]\n",
        "    \n",
        "    ts = []\n",
        "    xs = []\n",
        "    ys = []\n",
        "    \n",
        "    t = 0\n",
        "    \n",
        "    ts.append(t)\n",
        "    xs.append(x)\n",
        "    ys.append(y)\n",
        "    \n",
        "    while (y >= 0 and t <= time):\n",
        "       \n",
        "        t += delta\n",
        "        \n",
        "        vx += ax * delta\n",
        "        vy += ay * delta\n",
        "        \n",
        "        x += vx * delta\n",
        "        y += vy * delta\n",
        "        \n",
        "        ts.append(t)\n",
        "        xs.append(x)\n",
        "        ys.append(y)\n",
        "        \n",
        "    return ts, xs, ys"
      ],
      "outputs": [],
      "execution_count": 12,
      "metadata": {
        "collapsed": false,
        "outputHidden": false,
        "inputHidden": false
      }
    },
    {
      "cell_type": "markdown",
      "source": [
        "## Closed-form kinematics motion equation"
      ],
      "metadata": {}
    },
    {
      "cell_type": "code",
      "source": [
        "def projectile_closed(s, v, a, time, delta):\n",
        "    \n",
        "    x = s[0]\n",
        "    y = s[1]\n",
        "    \n",
        "    x0 = x\n",
        "    y0 = y\n",
        "    \n",
        "    vx0 = v[0]\n",
        "    vy0 = v[1]\n",
        "    \n",
        "    ax0 = a[0]\n",
        "    ay0 = a[1]\n",
        "    \n",
        "    ts = []\n",
        "    xs = []\n",
        "    ys = []\n",
        "    \n",
        "    t = 0\n",
        "    while (y >= 0 and t <= time):\n",
        "\n",
        "        x = x0 + vx0 * t + 1/2 * ax0 * (t ** 2)\n",
        "        y = y0 + vy0 * t + 1/2 * ay0 * (t ** 2)\n",
        "        \n",
        "        t += delta\n",
        "        \n",
        "        ts.append(t)\n",
        "        xs.append(x)\n",
        "        ys.append(y)\n",
        "        \n",
        "    return ts, xs, ys"
      ],
      "outputs": [],
      "execution_count": 13,
      "metadata": {
        "collapsed": false,
        "outputHidden": false,
        "inputHidden": false
      }
    },
    {
      "cell_type": "code",
      "source": [
        "ts, xs, ys = projectile_diff((0,0), (10, 10), (0, -9.8), 10, 0.001)\n",
        "df = pd.DataFrame(ys, index=xs, columns=['y'])\n",
        "#df.iplot()"
      ],
      "outputs": [],
      "execution_count": 14,
      "metadata": {
        "collapsed": false,
        "outputHidden": false,
        "inputHidden": false
      }
    },
    {
      "cell_type": "code",
      "source": [
        "ts2, xs2, ys2 = projectile_closed((0,0), (10, 10), (0, -9.8), 10, 0.001)\n",
        "df2 = pd.DataFrame(ys2, index=xs2, columns=['y2'])\n",
        "#df2.iplot()"
      ],
      "outputs": [],
      "execution_count": 15,
      "metadata": {
        "collapsed": false,
        "outputHidden": false,
        "inputHidden": false
      }
    },
    {
      "cell_type": "markdown",
      "source": [
        "## Measuring differential equation error\n",
        "\nWe observe jumps in accuracy as delta decreases. Any explanations?"
      ],
      "metadata": {}
    },
    {
      "cell_type": "code",
      "source": [
        "ies = []\n",
        "diffs = []\n",
        "\n",
        "i = 1.000\n",
        "while i > 0.00001:\n",
        "    ts, xs, ys = projectile_diff((0,0), (10, 10), (0, -9.8), 10, i)\n",
        "    ts2, xs2, ys2 = projectile_closed((0,0), (10, 10), (0, -9.8), 10, i)\n",
        "    \n",
        "    diff = ys2[len(xs) - 1] - ys[len(xs) - 1]\n",
        "    diffs.append(diff)\n",
        "    ies.append(i)\n",
        "    \n",
        "    i -= 0.00001"
      ],
      "outputs": [],
      "execution_count": 16,
      "metadata": {
        "collapsed": false,
        "outputHidden": false,
        "inputHidden": false
      }
    },
    {
      "cell_type": "code",
      "source": [
        "trace = dict(\n",
        "    type = 'scatter',\n",
        "    mode = 'line',\n",
        "    x = ies,\n",
        "    y = diffs,\n",
        ")\n",
        "\n",
        "data = [trace]\n",
        "fig = dict(data=data, layout=dict())\n",
        "py.iplot(fig, filename='Projectile motion error')"
      ],
      "outputs": [
        {
          "output_type": "stream",
          "name": "stderr",
          "text": [
            "/Users/admin/anaconda/lib/python3.6/site-packages/plotly/plotly/plotly.py:215: UserWarning:\n",
            "\n",
            "Woah there! Look at all those points! Due to browser limitations, the Plotly SVG drawing functions have a hard time graphing more than 500k data points for line charts, or 40k points for other types of charts. Here are some suggestions:\n",
            "(1) Use the `plotly.graph_objs.Scattergl` trace object to generate a WebGl graph.\n",
            "(2) Trying using the image API to return an image instead of a graph URL\n",
            "(3) Use matplotlib\n",
            "(4) See if you can create your visualization with fewer data points\n",
            "\n",
            "If the visualization you're using aggregates points (e.g., box plot, histogram, etc.) you can disregard this warning.\n",
            "\n",
            "/Users/admin/anaconda/lib/python3.6/site-packages/plotly/api/v1/clientresp.py:40: UserWarning:\n",
            "\n",
            "Estimated Draw Time Too Long\n",
            "\n"
          ]
        },
        {
          "output_type": "stream",
          "name": "stdout",
          "text": [
            "The draw time for this plot will be slow for all clients.\n"
          ]
        },
        {
          "output_type": "execute_result",
          "execution_count": 17,
          "data": {
            "text/plain": [
              "<plotly.tools.PlotlyDisplay object>"
            ],
            "text/html": [
              "<iframe id=\"igraph\" scrolling=\"no\" style=\"border:none;\" seamless=\"seamless\" src=\"https://plot.ly/~jackluo/2809.embed\" height=\"525px\" width=\"100%\"></iframe>"
            ]
          },
          "metadata": {}
        }
      ],
      "execution_count": 17,
      "metadata": {
        "collapsed": false,
        "outputHidden": false,
        "inputHidden": false
      }
    },
    {
      "cell_type": "markdown",
      "source": [
        "## Plotting it all together"
      ],
      "metadata": {}
    },
    {
      "cell_type": "code",
      "source": [
        "trace1 = dict(\n",
        "    type = 'scatter',\n",
        "    mode = 'line',\n",
        "    x = xs,\n",
        "    y = ys,\n",
        ")\n",
        "\n",
        "trace2 = dict(\n",
        "    type = 'scatter',\n",
        "    mode = 'line',\n",
        "    x = xs2,\n",
        "    y = ys2,\n",
        ")\n",
        "\n",
        "data = [trace1, trace2]\n",
        "fig = dict(data=data, layout=dict())\n",
        "\npy.iplot(fig, filename='Projectile motion')"
      ],
      "outputs": [
        {
          "output_type": "stream",
          "name": "stderr",
          "text": [
            "/Users/admin/anaconda/lib/python3.6/site-packages/plotly/plotly/plotly.py:215: UserWarning:\n",
            "\n",
            "Woah there! Look at all those points! Due to browser limitations, the Plotly SVG drawing functions have a hard time graphing more than 500k data points for line charts, or 40k points for other types of charts. Here are some suggestions:\n",
            "(1) Use the `plotly.graph_objs.Scattergl` trace object to generate a WebGl graph.\n",
            "(2) Trying using the image API to return an image instead of a graph URL\n",
            "(3) Use matplotlib\n",
            "(4) See if you can create your visualization with fewer data points\n",
            "\n",
            "If the visualization you're using aggregates points (e.g., box plot, histogram, etc.) you can disregard this warning.\n",
            "\n",
            "/Users/admin/anaconda/lib/python3.6/site-packages/plotly/api/v1/clientresp.py:40: UserWarning:\n",
            "\n",
            "Estimated Draw Time Too Long\n",
            "\n"
          ]
        },
        {
          "output_type": "stream",
          "name": "stdout",
          "text": [
            "The draw time for this plot will be slow for all clients.\n"
          ]
        },
        {
          "output_type": "execute_result",
          "execution_count": 19,
          "data": {
            "text/plain": [
              "<plotly.tools.PlotlyDisplay object>"
            ],
            "text/html": [
              "<iframe id=\"igraph\" scrolling=\"no\" style=\"border:none;\" seamless=\"seamless\" src=\"https://plot.ly/~jackluo/2811.embed\" height=\"525px\" width=\"100%\"></iframe>"
            ]
          },
          "metadata": {}
        }
      ],
      "execution_count": 19,
      "metadata": {
        "collapsed": false,
        "outputHidden": false,
        "inputHidden": false
      }
    }
  ],
  "metadata": {
    "kernelspec": {
      "name": "python3",
      "language": "python",
      "display_name": "Python 3"
    },
    "kernel_info": {
      "name": "python3"
    },
    "language_info": {
      "name": "python",
      "version": "3.6.0",
      "mimetype": "text/x-python",
      "codemirror_mode": {
        "name": "ipython",
        "version": 3
      },
      "pygments_lexer": "ipython3",
      "nbconvert_exporter": "python",
      "file_extension": ".py"
    }
  },
  "nbformat": 4,
  "nbformat_minor": 4
}