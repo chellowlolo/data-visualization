{
 "cells": [
  {
   "cell_type": "markdown",
   "metadata": {},
   "source": [
    "# Particle box"
   ]
  },
  {
   "cell_type": "code",
   "execution_count": 1,
   "metadata": {
    "collapsed": true
   },
   "outputs": [],
   "source": [
    "# Import required libraries\n",
    "\n",
    "from datetime import datetime\n",
    "import numpy as np\n",
    "from scipy.spatial.distance import pdist, squareform\n",
    "\n",
    "import plotly.plotly as py\n",
    "from plotly.graph_objs import *\n",
    "from plotly.grid_objs import Grid, Column\n"
   ]
  },
  {
   "cell_type": "code",
   "execution_count": 2,
   "metadata": {
    "collapsed": true
   },
   "outputs": [],
   "source": [
    "# ParticleBox class\n",
    "# https://jakevdp.github.io/blog/2012/08/18/matplotlib-animation-tutorial/\n",
    "\n",
    "class ParticleBox(object):\n",
    "    \"\"\"Orbits class\n",
    "\n",
    "    init_state is an [N x 4] array, where N is the number of particles:\n",
    "       [[x1, y1, vx1, vy1],\n",
    "        [x2, y2, vx2, vy2],\n",
    "        ...               ]\n",
    "\n",
    "    bounds is the size of the box: [xmin, xmax, ymin, ymax]\n",
    "    \"\"\"\n",
    "    def __init__(self,\n",
    "                 init_state = [[1, 0, 0, -1],\n",
    "                               [-0.5, 0.5, 0.5, 0.5],\n",
    "                               [-0.5, -0.5, -0.5, 0.5]],\n",
    "                 bounds = [-2, 2, -2, 2],\n",
    "                 size = 0.04,\n",
    "                 M = 0.05,\n",
    "                 G = 9.8):\n",
    "        self.init_state = np.asarray(init_state, dtype=float)\n",
    "        self.M = M * np.ones(self.init_state.shape[0])\n",
    "        self.size = size\n",
    "        self.state = self.init_state.copy()\n",
    "        self.time_elapsed = 0\n",
    "        self.bounds = bounds\n",
    "        self.G = G\n",
    "\n",
    "    def step(self, dt):\n",
    "        \"\"\"step once by dt seconds\"\"\"\n",
    "        self.time_elapsed += dt\n",
    "\n",
    "        # update positions\n",
    "        self.state[:, :2] += dt * self.state[:, 2:]\n",
    "\n",
    "        # find pairs of particles undergoing a collision\n",
    "        D = squareform(pdist(self.state[:, :2]))\n",
    "        ind1, ind2 = np.where(D < 2 * self.size)\n",
    "        unique = (ind1 < ind2)\n",
    "        ind1 = ind1[unique]\n",
    "        ind2 = ind2[unique]\n",
    "\n",
    "        # update velocities of colliding pairs\n",
    "        for i1, i2 in zip(ind1, ind2):\n",
    "            # mass\n",
    "            m1 = self.M[i1]\n",
    "            m2 = self.M[i2]\n",
    "\n",
    "            # location vector\n",
    "            r1 = self.state[i1, :2]\n",
    "            r2 = self.state[i2, :2]\n",
    "\n",
    "            # velocity vector\n",
    "            v1 = self.state[i1, 2:]\n",
    "            v2 = self.state[i2, 2:]\n",
    "\n",
    "            # relative location & velocity vectors\n",
    "            r_rel = r1 - r2\n",
    "            v_rel = v1 - v2\n",
    "\n",
    "            # momentum vector of the center of mass\n",
    "            v_cm = (m1 * v1 + m2 * v2) / (m1 + m2)\n",
    "\n",
    "            # collisions of spheres reflect v_rel over r_rel\n",
    "            rr_rel = np.dot(r_rel, r_rel)\n",
    "            vr_rel = np.dot(v_rel, r_rel)\n",
    "            v_rel = 2 * r_rel * vr_rel / rr_rel - v_rel\n",
    "\n",
    "            # assign new velocities\n",
    "            self.state[i1, 2:] = v_cm + v_rel * m2 / (m1 + m2)\n",
    "            self.state[i2, 2:] = v_cm - v_rel * m1 / (m1 + m2)\n",
    "\n",
    "        # check for crossing boundary\n",
    "        crossed_x1 = (self.state[:, 0] < self.bounds[0] + self.size)\n",
    "        crossed_x2 = (self.state[:, 0] > self.bounds[1] - self.size)\n",
    "        crossed_y1 = (self.state[:, 1] < self.bounds[2] + self.size)\n",
    "        crossed_y2 = (self.state[:, 1] > self.bounds[3] - self.size)\n",
    "\n",
    "        self.state[crossed_x1, 0] = self.bounds[0] + self.size\n",
    "        self.state[crossed_x2, 0] = self.bounds[1] - self.size\n",
    "\n",
    "        self.state[crossed_y1, 1] = self.bounds[2] + self.size\n",
    "        self.state[crossed_y2, 1] = self.bounds[3] - self.size\n",
    "\n",
    "        self.state[crossed_x1 | crossed_x2, 2] *= -1\n",
    "        self.state[crossed_y1 | crossed_y2, 3] *= -1\n",
    "\n",
    "        # add gravity\n",
    "        self.state[:, 3] -= self.M * self.G * dt\n",
    "        "
   ]
  },
  {
   "cell_type": "code",
   "execution_count": 3,
   "metadata": {
    "collapsed": true
   },
   "outputs": [],
   "source": [
    "# Set up initial state\n",
    "\n",
    "np.random.seed(0)\n",
    "init_state = -0.5 + np.random.random((50, 4))\n",
    "init_state[:, :2] *= 3.9\n",
    "\n",
    "box = ParticleBox(init_state, size=0.04)\n",
    "dt = 1. / 60 # 60fps\n"
   ]
  },
  {
   "cell_type": "code",
   "execution_count": 4,
   "metadata": {
    "collapsed": false
   },
   "outputs": [
    {
     "data": {
      "text/plain": [
       "'https://plot.ly/~jackluo/2029/'"
      ]
     },
     "execution_count": 4,
     "metadata": {},
     "output_type": "execute_result"
    }
   ],
   "source": [
    "# Upload Grid and performs animation\n",
    "\n",
    "chart_filename = \"Particles \" + str(datetime.now())\n",
    "grid_filename = chart_filename + \" Grid\"\n",
    "columns = []\n",
    "\n",
    "# Actual animation function\n",
    "for i in range(1200):\n",
    "\n",
    "    box.step(dt)\n",
    "    x, y = box.state[:, 0], box.state[:, 1]\n",
    "    x = list(x)\n",
    "    y = list(y)\n",
    "\n",
    "    columns.append(Column(x, \"x{}\".format(i + 1)))\n",
    "    columns.append(Column(y, \"y{}\".format(i + 1)))\n",
    "\n",
    "grid = Grid(columns)\n",
    "py.grid_ops.upload(grid, grid_filename, auto_open=False)\n"
   ]
  },
  {
   "cell_type": "code",
   "execution_count": 5,
   "metadata": {
    "collapsed": true
   },
   "outputs": [],
   "source": [
    "# Create data\n",
    "\n",
    "trace1 = Scatter(\n",
    "    xsrc = grid.get_column_reference(\"x1\"),\n",
    "    ysrc = grid.get_column_reference(\"y1\"),\n",
    "    mode = \"markers\",\n",
    ")\n"
   ]
  },
  {
   "cell_type": "code",
   "execution_count": 7,
   "metadata": {
    "collapsed": true
   },
   "outputs": [],
   "source": [
    "# Create layout\n",
    "\n",
    "animation_time = 15\n",
    "\n",
    "updatemenus = dict(\n",
    "    type = \"buttons\",\n",
    "    buttons=[\n",
    "        dict(\n",
    "            method = \"animate\",\n",
    "            label = \"Play\",\n",
    "            args = [None,\n",
    "                    dict(frame = dict(duration = animation_time, redraw = False), mode = \"immediate\", fromcurrent = True),\n",
    "            ],\n",
    "        ),\n",
    "        dict(\n",
    "            method = \"animate\",\n",
    "            label = \"Pause\",\n",
    "            args = [[None], # Note the list\n",
    "                    dict(frame = dict(duration = 0, redraw = False), mode = \"immediate\"),\n",
    "            ],\n",
    "        ),\n",
    "    ],\n",
    ")\n",
    "\n",
    "shapes = dict(\n",
    "    opacity = 1,\n",
    "    layer = \"below\",\n",
    "    xref = \"x\",\n",
    "    yref = \"y\",\n",
    "    y0 = -2, y1 = 2,\n",
    "    x0 = -2, x1 = 2,\n",
    "    type = \"rectangle\",\n",
    "    line = dict(color = \"#00000\", width = 1),\n",
    ")\n",
    "\n",
    "layout = dict(\n",
    "    width = 720, height = 720,\n",
    "    xaxis = dict(range = [-2.4, 2.4], showline = False, showgrid = False, zeroline = False, showticklabels = False),\n",
    "    yaxis = dict(range = [-2.4, 2.4], showline = False, showgrid = False, zeroline = False, showticklabels = False),\n",
    "    shapes = [shapes],\n",
    "    updatemenus = [updatemenus],\n",
    ")\n"
   ]
  },
  {
   "cell_type": "code",
   "execution_count": 8,
   "metadata": {
    "collapsed": true
   },
   "outputs": [],
   "source": [
    "# Create frames\n",
    "\n",
    "frames = []\n",
    "\n",
    "for i in range(1200):\n",
    "    frame = dict(\n",
    "        data = [dict(xsrc = grid.get_column_reference(\"x{}\".format(i+1)),\n",
    "                     ysrc = grid.get_column_reference(\"y{}\".format(i+1))\n",
    "                     )],\n",
    "        traces = [0],\n",
    "    )\n",
    "    frames.append(frame)\n"
   ]
  },
  {
   "cell_type": "code",
   "execution_count": 9,
   "metadata": {
    "collapsed": false
   },
   "outputs": [
    {
     "data": {
      "text/html": [
       "<iframe id=\"igraph\" scrolling=\"no\" style=\"border:none;\" seamless=\"seamless\" src=\"https://plot.ly/~jackluo/2030.embed\" height=\"720px\" width=\"720px\"></iframe>"
      ],
      "text/plain": [
       "<plotly.tools.PlotlyDisplay object>"
      ]
     },
     "execution_count": 9,
     "metadata": {},
     "output_type": "execute_result"
    }
   ],
   "source": [
    "# Upload animation\n",
    "\n",
    "figure = dict(data=[trace1], layout=layout, frames=frames)\n",
    "py.icreate_animations(figure, filename=chart_filename, auto_open=False)\n"
   ]
  }
 ],
 "metadata": {
  "anaconda-cloud": {},
  "kernelspec": {
   "display_name": "Python 3",
   "language": "python",
   "name": "python3"
  },
  "language_info": {
   "codemirror_mode": {
    "name": "ipython",
    "version": 3
   },
   "file_extension": ".py",
   "mimetype": "text/x-python",
   "name": "python",
   "nbconvert_exporter": "python",
   "pygments_lexer": "ipython3",
   "version": "3.5.2"
  }
 },
 "nbformat": 4,
 "nbformat_minor": 1
}
