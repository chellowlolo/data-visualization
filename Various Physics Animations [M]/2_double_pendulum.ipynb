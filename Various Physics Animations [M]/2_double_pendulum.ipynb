{
 "cells": [
  {
   "cell_type": "markdown",
   "metadata": {},
   "source": [
    "# Double pendulum"
   ]
  },
  {
   "cell_type": "code",
   "execution_count": 1,
   "metadata": {
    "collapsed": true
   },
   "outputs": [],
   "source": [
    "# Import required libraries\n",
    "\n",
    "from datetime import datetime\n",
    "import numpy as np\n",
    "from numpy import sin, cos\n",
    "import scipy.integrate as integrate\n",
    "\n",
    "import plotly.plotly as py\n",
    "from plotly.graph_objs import *\n",
    "from plotly.grid_objs import Grid, Column\n"
   ]
  },
  {
   "cell_type": "code",
   "execution_count": 2,
   "metadata": {
    "collapsed": true
   },
   "outputs": [],
   "source": [
    "# Pendulum class\n",
    "# https://jakevdp.github.io/blog/2012/08/18/matplotlib-animation-tutorial/\n",
    "\n",
    "class DoublePendulum(object):\n",
    "    \"\"\"Double Pendulum Class\n",
    "\n",
    "    init_state is [theta1, omega1, theta2, omega2] in degrees,\n",
    "    where theta1, omega1 is the angular position and velocity of the first\n",
    "    pendulum arm, and theta2, omega2 is that of the second pendulum arm\n",
    "    \"\"\"\n",
    "    def __init__(self,\n",
    "                 init_state = [120, 0, -20, 0],\n",
    "                 L1=1.0,  # length of pendulum 1 in m\n",
    "                 L2=1.0,  # length of pendulum 2 in m\n",
    "                 M1=1.0,  # mass of pendulum 1 in kg\n",
    "                 M2=1.0,  # mass of pendulum 2 in kg\n",
    "                 G=9.8,  # acceleration due to gravity, in m/s^2\n",
    "                 origin=(0, 0)):\n",
    "        self.init_state = np.asarray(init_state, dtype='float')\n",
    "        self.params = (L1, L2, M1, M2, G)\n",
    "        self.origin = origin\n",
    "        self.time_elapsed = 0\n",
    "\n",
    "        self.state = self.init_state * np.pi / 180.\n",
    "\n",
    "    def position(self):\n",
    "        \"\"\"compute the current x,y positions of the pendulum arms\"\"\"\n",
    "        (L1, L2, M1, M2, G) = self.params\n",
    "\n",
    "        x = np.cumsum([self.origin[0],\n",
    "                       L1 * sin(self.state[0]),\n",
    "                       L2 * sin(self.state[2])])\n",
    "        y = np.cumsum([self.origin[1],\n",
    "                       -L1 * cos(self.state[0]),\n",
    "                       -L2 * cos(self.state[2])])\n",
    "        return x, y\n",
    "\n",
    "    def energy(self):\n",
    "        \"\"\"compute the energy of the current state\"\"\"\n",
    "        (L1, L2, M1, M2, G) = self.params\n",
    "\n",
    "        x = np.cumsum([L1 * sin(self.state[0]),\n",
    "                       L2 * sin(self.state[2])])\n",
    "        y = np.cumsum([-L1 * cos(self.state[0]),\n",
    "                       -L2 * cos(self.state[2])])\n",
    "        vx = np.cumsum([L1 * self.state[1] * cos(self.state[0]),\n",
    "                        L2 * self.state[3] * cos(self.state[2])])\n",
    "        vy = np.cumsum([L1 * self.state[1] * sin(self.state[0]),\n",
    "                        L2 * self.state[3] * sin(self.state[2])])\n",
    "\n",
    "        U = G * (M1 * y[0] + M2 * y[1])\n",
    "        K = 0.5 * (M1 * np.dot(vx, vx) + M2 * np.dot(vy, vy))\n",
    "\n",
    "        return U + K\n",
    "\n",
    "    def dstate_dt(self, state, t):\n",
    "        \"\"\"compute the derivative of the given state\"\"\"\n",
    "        (M1, M2, L1, L2, G) = self.params\n",
    "\n",
    "        dydx = np.zeros_like(state)\n",
    "        dydx[0] = state[1]\n",
    "        dydx[2] = state[3]\n",
    "\n",
    "        cos_delta = cos(state[2] - state[0])\n",
    "        sin_delta = sin(state[2] - state[0])\n",
    "\n",
    "        den1 = (M1 + M2) * L1 - M2 * L1 * cos_delta * cos_delta\n",
    "        dydx[1] = (M2 * L1 * state[1] * state[1] * sin_delta * cos_delta\n",
    "                   + M2 * G * sin(state[2]) * cos_delta\n",
    "                   + M2 * L2 * state[3] * state[3] * sin_delta\n",
    "                   - (M1 + M2) * G * sin(state[0])) / den1\n",
    "\n",
    "        den2 = (L2 / L1) * den1\n",
    "        dydx[3] = (-M2 * L2 * state[3] * state[3] * sin_delta * cos_delta\n",
    "                   + (M1 + M2) * G * sin(state[0]) * cos_delta\n",
    "                   - (M1 + M2) * L1 * state[1] * state[1] * sin_delta\n",
    "                   - (M1 + M2) * G * sin(state[2])) / den2\n",
    "\n",
    "        return dydx\n",
    "\n",
    "    def step(self, dt):\n",
    "        \"\"\"execute one time step of length dt and update state\"\"\"\n",
    "        self.state = integrate.odeint(self.dstate_dt, self.state, [0, dt])[1]\n",
    "        self.time_elapsed += dt    \n",
    "        "
   ]
  },
  {
   "cell_type": "code",
   "execution_count": 3,
   "metadata": {
    "collapsed": true
   },
   "outputs": [],
   "source": [
    "# Set up pendulum\n",
    "\n",
    "pendulum = DoublePendulum([180., 0.0, -20., 0.0])\n",
    "dt = 1./60 # 60 fps\n"
   ]
  },
  {
   "cell_type": "code",
   "execution_count": 5,
   "metadata": {
    "collapsed": false
   },
   "outputs": [
    {
     "data": {
      "text/plain": [
       "'https://plot.ly/~jackluo/2027/'"
      ]
     },
     "execution_count": 5,
     "metadata": {},
     "output_type": "execute_result"
    }
   ],
   "source": [
    "# Upload Grid\n",
    "\n",
    "chart_filename = \"Pendulum \" + str(datetime.now())\n",
    "grid_filename = chart_filename + \" Grid\"\n",
    "columns = []\n",
    "\n",
    "# Actual animation function\n",
    "for i in range(1000):\n",
    "\n",
    "    pendulum.step(dt)\n",
    "    x, y = pendulum.position()\n",
    "    x = list(x)\n",
    "    y = list(y)\n",
    "\n",
    "    columns.append(Column(x, \"x{}\".format(i + 1)))\n",
    "    columns.append(Column(y, \"y{}\".format(i + 1)))\n",
    "\n",
    "grid = Grid(columns)\n",
    "py.grid_ops.upload(grid, grid_filename, auto_open=False)\n"
   ]
  },
  {
   "cell_type": "code",
   "execution_count": 6,
   "metadata": {
    "collapsed": true
   },
   "outputs": [],
   "source": [
    "# Create data\n",
    "\n",
    "trace1 = Scatter(\n",
    "    xsrc = grid.get_column_reference(\"x1\"),\n",
    "    ysrc = grid.get_column_reference(\"y1\"),\n",
    "    mode = \"lines+markers\",\n",
    ")\n"
   ]
  },
  {
   "cell_type": "code",
   "execution_count": 7,
   "metadata": {
    "collapsed": true
   },
   "outputs": [],
   "source": [
    "# Create layout\n",
    "\n",
    "animation_time = 15\n",
    "\n",
    "updatemenus = dict(\n",
    "    type = \"buttons\",\n",
    "    buttons=[\n",
    "        dict(\n",
    "            method = \"animate\",\n",
    "            label = \"Play\",\n",
    "            args = [None,\n",
    "                    dict(frame = dict(duration = animation_time, redraw = False), mode = \"immediate\", fromcurrent = True),\n",
    "            ],\n",
    "        ),\n",
    "        dict(\n",
    "            method = \"animate\",\n",
    "            label = \"Pause\",\n",
    "            args = [[None], # Note the list\n",
    "                    dict(frame = dict(duration = 0, redraw = False), mode = \"immediate\"),\n",
    "            ],\n",
    "        ),\n",
    "    ],\n",
    ")\n",
    "\n",
    "layout = dict(\n",
    "    width = 720, height = 720,\n",
    "    xaxis = dict(range = [-2, 2]),\n",
    "    yaxis = dict(range = [-2, 2]),\n",
    "    hovermode = \"closest\",\n",
    "    updatemenus = [updatemenus],\n",
    ")\n"
   ]
  },
  {
   "cell_type": "code",
   "execution_count": 8,
   "metadata": {
    "collapsed": true
   },
   "outputs": [],
   "source": [
    "# Create frames\n",
    "\n",
    "frames = []\n",
    "\n",
    "for i in range(1000):\n",
    "    frame = dict(\n",
    "        data = [dict(xsrc = grid.get_column_reference(\"x{}\".format(i+1)),\n",
    "                     ysrc = grid.get_column_reference(\"y{}\".format(i+1))\n",
    "                     )],\n",
    "        traces = [0],\n",
    "    )\n",
    "    frames.append(frame)\n",
    "    "
   ]
  },
  {
   "cell_type": "code",
   "execution_count": 9,
   "metadata": {
    "collapsed": false
   },
   "outputs": [
    {
     "data": {
      "text/html": [
       "<iframe id=\"igraph\" scrolling=\"no\" style=\"border:none;\" seamless=\"seamless\" src=\"https://plot.ly/~jackluo/2028.embed\" height=\"720px\" width=\"720px\"></iframe>"
      ],
      "text/plain": [
       "<plotly.tools.PlotlyDisplay object>"
      ]
     },
     "execution_count": 9,
     "metadata": {},
     "output_type": "execute_result"
    }
   ],
   "source": [
    "#Upload animation\n",
    "\n",
    "figure = dict(data=[trace1], layout=layout, frames=frames)\n",
    "py.icreate_animations(figure, filename=chart_filename, auto_open=False)\n"
   ]
  }
 ],
 "metadata": {
  "anaconda-cloud": {},
  "kernelspec": {
   "display_name": "Python 3",
   "language": "python",
   "name": "python3"
  },
  "language_info": {
   "codemirror_mode": {
    "name": "ipython",
    "version": 3
   },
   "file_extension": ".py",
   "mimetype": "text/x-python",
   "name": "python",
   "nbconvert_exporter": "python",
   "pygments_lexer": "ipython3",
   "version": "3.5.2"
  }
 },
 "nbformat": 4,
 "nbformat_minor": 1
}
