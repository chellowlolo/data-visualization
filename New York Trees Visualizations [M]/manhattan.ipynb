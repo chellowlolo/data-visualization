{
  "cells": [
    {
      "cell_type": "markdown",
      "source": [
        "# Visualization of Manhattan Trees using Plotly and Mapbox"
      ],
      "metadata": {}
    },
    {
      "cell_type": "markdown",
      "source": [
        "## Import required libraries\n",
        "\n",
        "------------------\n",
        "\n",
        "Note that Plotly requires an API key for Python not stored on this file.\n",
        "\n",
        "Attempting to graph without authentication will NOT WORK.\n",
        "\n",
        "View instructions here for API setup:\n",
        "\n",
        "https://plot.ly/python/getting-started/\n",
        "\nIf Mapbox API does not work, create an account and go under \"API access tokens\", then paste the key."
      ],
      "metadata": {}
    },
    {
      "cell_type": "code",
      "source": [
        "import numpy as np\n",
        "import pandas as pd\n",
        "\n",
        "import plotly.plotly as py\n",
        "from plotly.graph_objs import *\n",
        "\nmapbox_access_token = 'pk.eyJ1IjoiamFja2x1byIsImEiOiJjaXhzYTB0bHcwOHNoMnFtOWZ3YWdreDB3In0.pjROwb9_CEuyKPE-x0lRUw'"
      ],
      "outputs": [],
      "execution_count": 15,
      "metadata": {
        "collapsed": false
      }
    },
    {
      "cell_type": "markdown",
      "source": [
        "## Unzip dataset beforehand (else code will NOT work)"
      ],
      "metadata": {}
    },
    {
      "cell_type": "code",
      "source": [
        "filename = \"data/2015_Street_Tree_Census_-_Tree_Data.csv\"\n",
        "chart_filename = \"Manhattan trees\""
      ],
      "outputs": [],
      "execution_count": 18,
      "metadata": {
        "collapsed": false
      }
    },
    {
      "cell_type": "markdown",
      "source": [
        "## Create functions\n",
        "\n",
        "------------------\n",
        "\nThese two functions normalizes outlier data and cleans up text respectively."
      ],
      "metadata": {}
    },
    {
      "cell_type": "code",
      "source": [
        "# Divides size by 2 and sets max, min values so that points don't pop from map\n",
        "def get_size(tree_dbh):\n",
        "    size = tree_dbh / 2\n",
        "    size = max(1, size)\n",
        "    return min(10, size)\n",
        "\n",
        "# Returns properly formatted text for species\n",
        "def title(x):\n",
        "    x = str(x)\n",
        "    return x.title()"
      ],
      "outputs": [],
      "execution_count": 19,
      "metadata": {
        "collapsed": false
      }
    },
    {
      "cell_type": "markdown",
      "source": [
        "## Wrangle data\n",
        "\n",
        "-----------------\n",
        "\n",
        "Panda's built-in CSV reader will be used to load the 100+ mb dataset.\n",
        "\nComments/notes inside code."
      ],
      "metadata": {}
    },
    {
      "cell_type": "code",
      "source": [
        "# Loads the CSV file and times it \n",
        "\n",
        "%time df = pd.read_csv(filename, encoding=\"utf-8-sig\")\n",
        "#print df.columns\n",
        "\n",
        "# Limits borough to Manhattan only, otherwise map may crash due to too many (500k+) points\n",
        "\n",
        "df = df[df[\"boroname\"] == \"Manhattan\"]\n",
        "\n",
        "# Divides the trees by three health categories: healthy, fair, and poor\n",
        "# This is done to ensure that the final map has 3 toggleable traces\n",
        "\n",
        "healthy = df[df[\"health\"] == \"Good\"]\n",
        "fair = df[df[\"health\"] == \"Fair\"]\n",
        "poor = df[df[\"health\"] == \"Poor\"]\n",
        "\n",
        "# For each health level, get Series for latitudes, longitudes\n",
        "# capitalized species, and normalized sizes (with pandas.apply())\n",
        "\n",
        "h_latitudes = healthy[\"latitude\"]\n",
        "h_longitudes = healthy[\"longitude\"]\n",
        "h_species = healthy[\"spc_common\"].apply(title)\n",
        "h_sizes = healthy[\"tree_dbh\"].apply(get_size)\n",
        "\n",
        "f_latitudes = fair[\"latitude\"]\n",
        "f_longitudes = fair[\"longitude\"]\n",
        "f_species = fair[\"spc_common\"].apply(title)\n",
        "f_sizes = fair[\"tree_dbh\"].apply(get_size)\n",
        "\n",
        "p_latitudes = poor[\"latitude\"]\n",
        "p_longitudes = poor[\"longitude\"]\n",
        "p_species = poor[\"spc_common\"].apply(title)\n",
        "p_sizes = poor[\"tree_dbh\"].apply(get_size)"
      ],
      "outputs": [
        {
          "output_type": "stream",
          "name": "stdout",
          "text": [
            "CPU times: user 3.59 s, sys: 208 ms, total: 3.8 s\n",
            "Wall time: 3.8 s\n"
          ]
        }
      ],
      "execution_count": 20,
      "metadata": {
        "collapsed": false
      }
    },
    {
      "cell_type": "markdown",
      "source": [
        "## Create traces\n",
        "\n",
        "-------------\n",
        "\n",
        "Here we create 3 Scattermapbox traces that are used to plot the trees on the map. \n",
        "\n",
        "Healthy trees are colored green, fair ones yellow, and poor ones orange.\n",
        "\n",
        "Attributes of a Scattermapbox() object used here are:\n",
        "\n",
        "- lat : list of latitudes of each point on trace\n",
        "- long : list of longitudes of each point on trace\n",
        "- mode : markers (set by default, i.e. we are simply plotting points)\n",
        "- name : name of the trace (e.g. Healthy, Fair, Poor)\n",
        "- text : list of text shown when hovering on individual points on trace (e.g. species)\n",
        "\n",
        "And for Marker(), we have:\n",
        "\n",
        "- color : color of all markers for a given trace (optionally, list of colors for each marker)\n",
        "- size : list of sizes for each point on trace (size scales w.r.t diameter, not area)\n",
        "- opacity : opacity of each point\n",
        "\n",
        "Note that name identifies one of the three traces, while text will display the individual species of a tree\n",
        "\n",
        "Also, none of these are really \"lists\". Plotly accepts a Pandas Series by default w/o need for conversion.\n"
      ],
      "metadata": {}
    },
    {
      "cell_type": "code",
      "source": [
        "\n",
        "# Healthy, green\n",
        "trace0 = Scattermapbox(\n",
        "    lat = h_latitudes,\n",
        "    lon = h_longitudes,\n",
        "    mode = 'markers',\n",
        "    marker = Marker(\n",
        "        color = \"#46BE60\",\n",
        "        size = h_sizes,\n",
        "        opacity = 0.5,   \n",
        "    ),\n",
        "    name = \"Healthy\",\n",
        "    text = h_species,\n",
        ")\n",
        "\n",
        "# Fair, yellow\n",
        "trace1 = Scattermapbox(\n",
        "    lat = f_latitudes,\n",
        "    lon = f_longitudes,\n",
        "    mode = 'markers',\n",
        "    marker = Marker(\n",
        "        color = \"#D6C13C\",\n",
        "        size = f_sizes,\n",
        "        opacity = 0.5,   \n",
        "    ),\n",
        "    name = \"Fair\",\n",
        "    text = f_species,\n",
        ")\n",
        "\n",
        "# Poor, orange\n",
        "trace2 = Scattermapbox(\n",
        "    lat = p_latitudes,\n",
        "    lon = p_longitudes,\n",
        "    mode = 'markers',\n",
        "    marker = Marker(\n",
        "        color = \"#C2772C\",\n",
        "        size = p_sizes,\n",
        "        opacity = 0.5,   \n",
        "    ),\n",
        "    name = \"Poor\",\n",
        "    text = p_species,\n",
        ")\n"
      ],
      "outputs": [],
      "execution_count": 21,
      "metadata": {
        "collapsed": false
      }
    },
    {
      "cell_type": "markdown",
      "source": [
        "# Create layout\n",
        "\n",
        "-------------\n",
        "\n",
        "Specifies looks of the map and some of its properties not related to individual data.\n",
        "\n",
        "- Annotations() : list of one Annotation() that tells the user he/she can toggle individual traces\n",
        "- autosize : determine if graph resizes dynamically\n",
        "- height, width : specifies default height and width (if autosize true, affects map ratio)\n",
        "- Font() : specifies defaut font propreties (font-family, color and size)\n",
        "- margin : specifies margins of the map\n",
        "- paper_bgcolor : specifies background color of the margin\n",
        "- hovermode : specifies whether marker info is shown for closest point; or if info is shown for all points of a given axis (e.g. to compare prices of 3 different stocks at same time)\n",
        "- legend : specify location of legend (moved slighly downwards for annotation)\n",
        "- title : title of the graph\n",
        "\n",
        "As for Mapbox specifications:\n",
        "\n",
        "- mapbox_access_token : API key\n",
        "- bearing : degree of map rotation (for Manhattan, 28.5 degrees gives streets perpendicular to main map axis)\n",
        "- center : specifies coordinates the map should be centered\n",
        "- pitch : not used, speicifies if map is seen from bird's eye view, or with a lower viewing angle\n",
        "- zoom : specifies how zoomed in the map should be\n",
        "- style : uses the dark Mapbox style for a more aesthetic visualization\n",
        "\n",
        "Note that Plotly objects can alternatively be structured as dicts.\n"
      ],
      "metadata": {}
    },
    {
      "cell_type": "code",
      "source": [
        "layout = Layout(\n",
        "    annotations=Annotations([\n",
        "       Annotation(\n",
        "           x=1,\n",
        "           y=1,\n",
        "           align='right',\n",
        "           showarrow=False,\n",
        "           text='    Toggle view:',\n",
        "           xanchor='left',\n",
        "           xref='paper',\n",
        "           yref='paper'\n",
        "       )]),\n",
        "    autosize=True,\n",
        "    height=1024,\n",
        "    width=1024,\n",
        "    font=Font(\n",
        "        family = 'Overpass',\n",
        "        color = \"#CCCCCC\",\n",
        "        size = 14,\n",
        "    ),\n",
        "    margin=Margin(\n",
        "        t=80,\n",
        "        l=40,\n",
        "        b=40,\n",
        "        r=40,\n",
        "        pad=0,\n",
        "    ),\n",
        "    paper_bgcolor = \"#020202\",\n",
        "    hovermode='closest',\n",
        "    legend = dict(x=1, y=0.97),\n",
        "    title = \"Visualization of trees in Manhattan\",\n",
        "    mapbox=dict(\n",
        "        accesstoken=mapbox_access_token,\n",
        "        bearing=28.5,\n",
        "        center=dict(\n",
        "            lat=40.785,\n",
        "            lon=-73.96\n",
        "        ),\n",
        "        pitch=0,\n",
        "        zoom=11.15,\n",
        "        style=\"dark\"\n",
        "    ),\n",
        ")"
      ],
      "outputs": [],
      "execution_count": 22,
      "metadata": {
        "collapsed": false
      }
    },
    {
      "cell_type": "markdown",
      "source": [
        "# Upload map\n",
        "\n",
        "--------------\n",
        "\n",
        "Plotly figures (e.g. graphs, or a map in this case) are structured in two parts: data and layout. These are stored in the Figure() object.\n",
        "\n",
        "Data contains all the traces, while layout specifies the layout.\n",
        "\n",
        "Alongside the figure, a plot also has a filename, along with other file creation options not discussed here.\n",
        "\npy.plot() takes all these objects and creates a Plotly plot."
      ],
      "metadata": {}
    },
    {
      "cell_type": "code",
      "source": [
        "traces = [trace0, trace1, trace2]\n",
        "data = Data(traces)\n",
        "figure = Figure(data=data, layout=layout)\n",
        "py.iplot(figure, filename=chart_filename, fileopt=\"overwrite\")"
      ],
      "outputs": [
        {
          "output_type": "execute_result",
          "execution_count": 25,
          "data": {
            "text/html": [
              "<iframe id=\"igraph\" scrolling=\"no\" style=\"border:none;\" seamless=\"seamless\" src=\"https://plot.ly/~jackluo/444.embed\" height=\"1024px\" width=\"1024px\"></iframe>"
            ],
            "text/plain": [
              "<plotly.tools.PlotlyDisplay object>"
            ]
          },
          "metadata": {}
        }
      ],
      "execution_count": 25,
      "metadata": {
        "collapsed": false
      }
    }
  ],
  "metadata": {
    "anaconda-cloud": {},
    "kernel_info": {
      "name": "python3"
    },
    "kernelspec": {
      "name": "python3",
      "language": "python",
      "display_name": "Python 3"
    },
    "language_info": {
      "name": "python",
      "version": "3.6.0",
      "mimetype": "text/x-python",
      "codemirror_mode": {
        "name": "ipython",
        "version": 3
      },
      "pygments_lexer": "ipython3",
      "nbconvert_exporter": "python",
      "file_extension": ".py"
    }
  },
  "nbformat": 4,
  "nbformat_minor": 0
}