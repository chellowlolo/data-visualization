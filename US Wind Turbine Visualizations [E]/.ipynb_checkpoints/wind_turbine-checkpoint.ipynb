{
 "cells": [
  {
   "cell_type": "markdown",
   "metadata": {},
   "source": [
    "# US Wind Turbine dataset visualization using Plotly, Pandas and SQLite"
   ]
  },
  {
   "cell_type": "markdown",
   "metadata": {
    "collapsed": false,
    "outputExpanded": false
   },
   "source": [
    "Note that Plotly requires an API key for Python not stored on this file.\n",
    "\n",
    "Attempting to graph without authentication will NOT WORK.\n",
    "\n",
    "View instructions here for API setup:\n",
    "\n",
    "https://plot.ly/python/getting-started/"
   ]
  },
  {
   "cell_type": "code",
   "execution_count": 22,
   "metadata": {
    "collapsed": false,
    "outputExpanded": false
   },
   "outputs": [],
   "source": [
    "import pandas as pd \n",
    "from sqlalchemy import create_engine\n",
    "\n",
    "import plotly.plotly as py\n",
    "from plotly.graph_objs import *"
   ]
  },
  {
   "cell_type": "markdown",
   "metadata": {
    "collapsed": false,
    "outputExpanded": false
   },
   "source": [
    "Import the SQLite database so that it can be read with Pandas.\n",
    "\n",
    "Note the three slashes instead of just one for a relative path."
   ]
  },
  {
   "cell_type": "code",
   "execution_count": 23,
   "metadata": {
    "collapsed": false,
    "outputExpanded": false
   },
   "outputs": [],
   "source": [
    "disk_engine = create_engine(\"sqlite:///data/turbine_locations.db\")"
   ]
  },
  {
   "cell_type": "code",
   "execution_count": 24,
   "metadata": {
    "collapsed": false,
    "outputExpanded": false
   },
   "outputs": [],
   "source": [
    "df = pd.read_sql_query(\"Select lat_DD, long_DD, count(*) from data group by lat_DD, long_DD \", disk_engine)"
   ]
  },
  {
   "cell_type": "markdown",
   "metadata": {
    "collapsed": false,
    "outputExpanded": false
   },
   "source": [
    "Let's query the dataframe to see everything works fine so far."
   ]
  },
  {
   "cell_type": "code",
   "execution_count": 25,
   "metadata": {
    "collapsed": false,
    "outputExpanded": false
   },
   "outputs": [],
   "source": [
    "#df = pd.read_csv(\"data/turbine_locations.csv\") \n",
    "#print(df)"
   ]
  },
  {
   "cell_type": "code",
   "execution_count": 30,
   "metadata": {
    "collapsed": false,
    "outputExpanded": false
   },
   "outputs": [
    {
     "name": "stdout",
     "output_type": "stream",
     "text": [
      "['18.964696' '18.965596' '18.966796' ..., '66.839901' '66.839901'\n",
      " '66.839901']\n",
      "Index(['lat_DD', 'long_DD', 'count(*)'], dtype='object')\n"
     ]
    }
   ],
   "source": [
    "print(df[\"lat_DD\"].values)"
   ]
  },
  {
   "cell_type": "markdown",
   "metadata": {
    "collapsed": false,
    "outputExpanded": false
   },
   "source": [
    "Now let's do a basic graph with Plotly. First setup your account for Plotly graphing here if you haven't used Plotly before : \n",
    "\n",
    "https://plot.ly/python/getting-started/\n",
    "\n",
    "Do not skip this step as Plotly requires API authentication prior to graphing."
   ]
  },
  {
   "cell_type": "code",
   "execution_count": 27,
   "metadata": {
    "collapsed": false,
    "outputExpanded": false
   },
   "outputs": [
    {
     "name": "stderr",
     "output_type": "stream",
     "text": [
      "/Users/admin/anaconda/lib/python3.5/site-packages/plotly/plotly/plotly.py:236: UserWarning:\n",
      "\n",
      "Woah there! Look at all those points! Due to browser limitations, the Plotly SVG drawing functions have a hard time graphing more than 500k data points for line charts, or 40k points for other types of charts. Here are some suggestions:\n",
      "(1) Use the `plotly.graph_objs.Scattergl` trace object to generate a WebGl graph.\n",
      "(2) Trying using the image API to return an image instead of a graph URL\n",
      "(3) Use matplotlib\n",
      "(4) See if you can create your visualization with fewer data points\n",
      "\n",
      "If the visualization you're using aggregates points (e.g., box plot, histogram, etc.) you can disregard this warning.\n",
      "\n"
     ]
    },
    {
     "data": {
      "text/html": [
       "<iframe id=\"igraph\" scrolling=\"no\" style=\"border:none;\" seamless=\"seamless\" src=\"https://plot.ly/~jackluo/2156.embed\" height=\"525px\" width=\"100%\"></iframe>"
      ],
      "text/plain": [
       "<plotly.tools.PlotlyDisplay object>"
      ]
     },
     "execution_count": 27,
     "metadata": {},
     "output_type": "execute_result"
    }
   ],
   "source": [
    "mapbox_access_token = 'pk.eyJ1IjoiamFja2x1byIsImEiOiJjaXhzYTB0bHcwOHNoMnFtOWZ3YWdreDB3In0.pjROwb9_CEuyKPE-x0lRUw'\n",
    "\n",
    "trace = Scattermapbox(\n",
    "        lat=df['lat_DD'].values,\n",
    "        lon=df['long_DD'].values,\n",
    "        mode='markers',\n",
    "        marker=Marker(\n",
    "            size=5\n",
    "        ),\n",
    "    )\n",
    "\n",
    "data = Data([trace])\n",
    "\n",
    "layout = Layout(\n",
    "    autosize=True,\n",
    "    hovermode='closest',\n",
    "    mapbox=dict(\n",
    "        accesstoken=mapbox_access_token,\n",
    "        bearing=0,\n",
    "        center=dict(\n",
    "            lat=42,\n",
    "            lon=-95\n",
    "        ),\n",
    "        pitch=0,\n",
    "        zoom=5\n",
    "    ),\n",
    ")\n",
    "\n",
    "fig = Figure(data=data,layout=layout)\n",
    "py.iplot(fig, filename = \"Wind turbine 1\", validate=False)"
   ]
  },
  {
   "cell_type": "code",
   "execution_count": 28,
   "metadata": {
    "collapsed": false,
    "outputExpanded": false
   },
   "outputs": [
    {
     "name": "stderr",
     "output_type": "stream",
     "text": [
      "/Users/admin/anaconda/lib/python3.5/site-packages/plotly/plotly/plotly.py:236: UserWarning:\n",
      "\n",
      "Woah there! Look at all those points! Due to browser limitations, the Plotly SVG drawing functions have a hard time graphing more than 500k data points for line charts, or 40k points for other types of charts. Here are some suggestions:\n",
      "(1) Use the `plotly.graph_objs.Scattergl` trace object to generate a WebGl graph.\n",
      "(2) Trying using the image API to return an image instead of a graph URL\n",
      "(3) Use matplotlib\n",
      "(4) See if you can create your visualization with fewer data points\n",
      "\n",
      "If the visualization you're using aggregates points (e.g., box plot, histogram, etc.) you can disregard this warning.\n",
      "\n"
     ]
    },
    {
     "data": {
      "text/html": [
       "<iframe id=\"igraph\" scrolling=\"no\" style=\"border:none;\" seamless=\"seamless\" src=\"https://plot.ly/~jackluo/2158.embed\" height=\"525px\" width=\"100%\"></iframe>"
      ],
      "text/plain": [
       "<plotly.tools.PlotlyDisplay object>"
      ]
     },
     "execution_count": 28,
     "metadata": {},
     "output_type": "execute_result"
    }
   ],
   "source": [
    "mapbox_access_token = 'pk.eyJ1IjoiamFja2x1byIsImEiOiJjaXhzYTB0bHcwOHNoMnFtOWZ3YWdreDB3In0.pjROwb9_CEuyKPE-x0lRUw'\n",
    "\n",
    "trace = Scattermapbox(\n",
    "        lat=df['lat_DD'].values,\n",
    "        lon=df['long_DD'].values,\n",
    "        mode='markers',\n",
    "        marker=Marker(\n",
    "            color=\"#FFFFFF\",\n",
    "            size=5\n",
    "        ),\n",
    "    )\n",
    "\n",
    "data = Data([trace])\n",
    "\n",
    "layout = Layout(\n",
    "    annotations=Annotations([\n",
    "        Annotation(\n",
    "            x=0.00,\n",
    "            y=1.07,\n",
    "            showarrow=False,\n",
    "            text=\"Map 1 : Visualization of wind turbine locations in the US\",\n",
    "            xref='paper',\n",
    "            yref='paper'\n",
    "        )\n",
    "    ]),\n",
    "    font=Font(family=\"Droid Sans\", size=14, color=\"FFFFFF\"),\n",
    "    autosize=True,\n",
    "    hovermode='closest',\n",
    "    paper_bgcolor='rgb(40, 40, 40)',\n",
    "    margin=Margin(\n",
    "        t=60,\n",
    "        l=20,\n",
    "        b=20,\n",
    "        r=20,\n",
    "        pad=0\n",
    "    ),\n",
    "    title = \"\",\n",
    "    mapbox=dict(\n",
    "        accesstoken=mapbox_access_token,\n",
    "        bearing=0,\n",
    "        center=dict(\n",
    "            lat=42,\n",
    "            lon=-95\n",
    "        ),\n",
    "        pitch=0,\n",
    "        zoom=5,\n",
    "        style=\"dark\"\n",
    "    ),\n",
    ")\n",
    "\n",
    "fig = Figure(data=data,layout=layout)\n",
    "py.iplot(fig, filename = \"Wind turbine 1 styled\", validate=False)"
   ]
  },
  {
   "cell_type": "markdown",
   "metadata": {
    "collapsed": false,
    "outputExpanded": false
   },
   "source": [
    "Looks much better already. Now let's add color and vary the size of the points with respect to blade length."
   ]
  },
  {
   "cell_type": "code",
   "execution_count": 32,
   "metadata": {
    "collapsed": true
   },
   "outputs": [],
   "source": [
    "df = pd.read_sql_query(\"Select lat_DD, long_DD, blade_l, count(*) from data group by lat_DD, long_DD, blade_l\", disk_engine)"
   ]
  },
  {
   "cell_type": "code",
   "execution_count": 35,
   "metadata": {
    "collapsed": false,
    "outputExpanded": false,
    "scrolled": false
   },
   "outputs": [
    {
     "name": "stderr",
     "output_type": "stream",
     "text": [
      "/Users/admin/anaconda/lib/python3.5/site-packages/plotly/plotly/plotly.py:236: UserWarning:\n",
      "\n",
      "Woah there! Look at all those points! Due to browser limitations, the Plotly SVG drawing functions have a hard time graphing more than 500k data points for line charts, or 40k points for other types of charts. Here are some suggestions:\n",
      "(1) Use the `plotly.graph_objs.Scattergl` trace object to generate a WebGl graph.\n",
      "(2) Trying using the image API to return an image instead of a graph URL\n",
      "(3) Use matplotlib\n",
      "(4) See if you can create your visualization with fewer data points\n",
      "\n",
      "If the visualization you're using aggregates points (e.g., box plot, histogram, etc.) you can disregard this warning.\n",
      "\n"
     ]
    },
    {
     "data": {
      "text/html": [
       "<iframe id=\"igraph\" scrolling=\"no\" style=\"border:none;\" seamless=\"seamless\" src=\"https://plot.ly/~jackluo/2160.embed\" height=\"525px\" width=\"100%\"></iframe>"
      ],
      "text/plain": [
       "<plotly.tools.PlotlyDisplay object>"
      ]
     },
     "execution_count": 35,
     "metadata": {},
     "output_type": "execute_result"
    }
   ],
   "source": [
    "mapbox_access_token = 'pk.eyJ1IjoiamFja2x1byIsImEiOiJjaXhzYTB0bHcwOHNoMnFtOWZ3YWdreDB3In0.pjROwb9_CEuyKPE-x0lRUw'\n",
    "\n",
    "trace = Scattermapbox(\n",
    "    lat=df['lat_DD'].values,\n",
    "    lon=df['long_DD'].values,\n",
    "    mode='markers',\n",
    "    marker=Marker(\n",
    "        color=[max(float(i), 5) for i in df['blade_l'].values],\n",
    "        colorscale=[[0, 'rgb(221,42,145)'], [0.35, 'rgb(177,77,236)'], [0.5, 'rgb(118,117,237)'], [0.6, 'rgb(46,142,191)'], [0.7, 'rgb(11,152,121)'], [1, 'rgb(19,152,99)']],\n",
    "        reversescale=True,\n",
    "        showscale=True,\n",
    "        autocolorscale=False,\n",
    "        colorbar=ColorBar(\n",
    "            title='Turbine<br>blade<br>length (m)'\n",
    "        ),\n",
    "        size=[max(float(i)/5, 5) for i in df['blade_l'].values],\n",
    "        opacity=0.8\n",
    "      \n",
    "    ),\n",
    ")\n",
    " \n",
    "data = Data([trace])\n",
    "\n",
    "layout = Layout(\n",
    "    annotations=Annotations([\n",
    "        Annotation(\n",
    "            x=0.00,\n",
    "            y=1.07,\n",
    "            showarrow=False,\n",
    "            text=\"Map 2 : Visualization of wind turbine locations and their size in the US\",\n",
    "            xref='paper',\n",
    "            yref='paper'\n",
    "        )\n",
    "    ]),\n",
    "    font=Font(family=\"Droid Sans\", size=14, color=\"FFFFFF\"),\n",
    "    autosize=True,\n",
    "    hovermode='closest',\n",
    "    paper_bgcolor='rgb(40, 40, 40)',\n",
    "    margin=Margin(\n",
    "        t=60,\n",
    "        l=20,\n",
    "        b=20,\n",
    "        r=20,\n",
    "        pad=0\n",
    "    ),\n",
    "    title = \"\",\n",
    "    mapbox=dict(\n",
    "        accesstoken=mapbox_access_token,\n",
    "        bearing=0,\n",
    "        center=dict(\n",
    "            lat=42,\n",
    "            lon=-95\n",
    "        ),\n",
    "        pitch=0,\n",
    "        zoom=5,\n",
    "        style=\"dark\"\n",
    "    ),\n",
    ")\n",
    "\n",
    "fig = Figure(data=data,layout=layout)\n",
    "py.iplot(fig, filename = \"Wind turbine 2\", validate=False)"
   ]
  }
 ],
 "metadata": {
  "anaconda-cloud": {},
  "kernel_info": {
   "name": "python3"
  },
  "kernelspec": {
   "display_name": "Python 3",
   "language": "python",
   "name": "python3"
  },
  "language_info": {
   "codemirror_mode": {
    "name": "ipython",
    "version": 3
   },
   "file_extension": ".py",
   "mimetype": "text/x-python",
   "name": "python",
   "nbconvert_exporter": "python",
   "pygments_lexer": "ipython3",
   "version": "3.5.2"
  }
 },
 "nbformat": 4,
 "nbformat_minor": 0
}
