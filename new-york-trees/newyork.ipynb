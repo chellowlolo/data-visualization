{
 "cells": [
  {
   "cell_type": "code",
   "execution_count": null,
   "metadata": {
    "collapsed": false
   },
   "outputs": [],
   "source": [
    "import numpy as np\n",
    "import pandas as pd\n",
    "\n",
    "import plotly.plotly as py\n",
    "from plotly.graph_objs import *"
   ]
  },
  {
   "cell_type": "code",
   "execution_count": null,
   "metadata": {
    "collapsed": false
   },
   "outputs": [],
   "source": [
    "filename = \"2015_Street_Tree_Census_-_Tree_Data.csv\"\n",
    "chart_filename = \"New York trees\""
   ]
  },
  {
   "cell_type": "code",
   "execution_count": null,
   "metadata": {
    "collapsed": false
   },
   "outputs": [],
   "source": [
    "\"\"\"\n",
    "def get_color(health):\n",
    "    if health == \"Poor\":\n",
    "        return \"#C2772C\"\n",
    "    elif health == \"Fair\":\n",
    "        return \"#D6C13C\"\n",
    "    else:\n",
    "        return \"#46BE60\"\n",
    "\"\"\"\n",
    "    \n",
    "def get_size(tree_dbh):\n",
    "    size = tree_dbh / 3\n",
    "    size = max(1, size)\n",
    "    return min(10, size)\n",
    "\n",
    "def title(x):\n",
    "    x = str(x)\n",
    "    return x.title()"
   ]
  },
  {
   "cell_type": "code",
   "execution_count": null,
   "metadata": {
    "collapsed": false
   },
   "outputs": [],
   "source": [
    "%time df = pd.read_csv(filename, encoding=\"utf-8-sig\")\n",
    "#print df.columns\n",
    "\n",
    "#df = df[df[\"boroname\"] == \"Manhattan\"]\n",
    "\n",
    "healthy = df[df[\"health\"] == \"Good\"]\n",
    "fair = df[df[\"health\"] == \"Fair\"]\n",
    "poor = df[df[\"health\"] == \"Poor\"]\n",
    "\n",
    "h_latitudes = healthy[\"latitude\"]\n",
    "h_longitudes = healthy[\"longitude\"]\n",
    "h_species = healthy[\"spc_common\"].apply(title)\n",
    "h_sizes = healthy[\"tree_dbh\"].apply(get_size)\n",
    "\n",
    "f_latitudes = fair[\"latitude\"]\n",
    "f_longitudes = fair[\"longitude\"]\n",
    "f_species = fair[\"spc_common\"].apply(title)\n",
    "f_sizes = fair[\"tree_dbh\"].apply(get_size)\n",
    "\n",
    "p_latitudes = poor[\"latitude\"]\n",
    "p_longitudes = poor[\"longitude\"]\n",
    "p_species = poor[\"spc_common\"].apply(title)\n",
    "p_sizes = poor[\"tree_dbh\"].apply(get_size)"
   ]
  },
  {
   "cell_type": "code",
   "execution_count": null,
   "metadata": {
    "collapsed": false
   },
   "outputs": [],
   "source": [
    "mapbox_access_token = 'pk.eyJ1IjoiamFja2x1byIsImEiOiJjaXZ4NGk0OTMwMWVuMnRwczIxNnAzeXlqIn0.RwC7pCe81JRh0HCmCKQO4A'\n",
    "\n",
    "# Healthy, green\n",
    "trace0 = Scattermapbox(\n",
    "    lat = h_latitudes,\n",
    "    lon = h_longitudes,\n",
    "    mode = 'markers',\n",
    "    marker = Marker(\n",
    "        color = \"#46BE60\",\n",
    "        size = h_sizes,\n",
    "        opacity = 0.5,   \n",
    "    ),\n",
    "    name = \"Healthy\",\n",
    "    text = h_species,\n",
    ")\n",
    "\n",
    "# Fair, yellow\n",
    "trace1 = Scattermapbox(\n",
    "    lat = f_latitudes,\n",
    "    lon = f_longitudes,\n",
    "    mode = 'markers',\n",
    "    marker = Marker(\n",
    "        color = \"#D6C13C\",\n",
    "        size = f_sizes,\n",
    "        opacity = 0.5,   \n",
    "    ),\n",
    "    name = \"Fair\",\n",
    "    text = f_species,\n",
    ")\n",
    "\n",
    "# Poor, orange\n",
    "trace2 = Scattermapbox(\n",
    "    lat = p_latitudes,\n",
    "    lon = p_longitudes,\n",
    "    mode = 'markers',\n",
    "    marker = Marker(\n",
    "        color = \"#C2772C\",\n",
    "        size = p_sizes,\n",
    "        opacity = 0.5,   \n",
    "    ),\n",
    "    name = \"Poor\",\n",
    "    text = p_species,\n",
    ")\n",
    "\n",
    "layout = Layout(\n",
    "    annotations=Annotations([\n",
    "       Annotation(\n",
    "           x=1,\n",
    "           y=1,\n",
    "           align='right',\n",
    "           showarrow=False,\n",
    "           text='    Toggle view:',\n",
    "           xanchor='left',\n",
    "           xref='paper',\n",
    "           yref='paper'\n",
    "       )]),\n",
    "    autosize=True,\n",
    "    height=1024,\n",
    "    width=1024,\n",
    "    font=Font(\n",
    "        family = 'Overpass',\n",
    "        color = \"#CCCCCC\",\n",
    "        size = 14,\n",
    "    ),\n",
    "    margin=Margin(\n",
    "        t=80,\n",
    "        l=40,\n",
    "        b=40,\n",
    "        r=40,\n",
    "        pad=0,\n",
    "    ),\n",
    "    paper_bgcolor = \"#020202\",\n",
    "    hovermode='closest',\n",
    "    legend = dict(x=1, y=0.97),\n",
    "    title = \"Visualization of trees in New York\",\n",
    "    mapbox=dict(\n",
    "        accesstoken=mapbox_access_token,\n",
    "        bearing=0,\n",
    "        center=dict(\n",
    "            lat=40.73195454574818,\n",
    "            lon=-73.98213839177748,\n",
    "        ),\n",
    "        pitch=0,\n",
    "        zoom=9.8,\n",
    "        style=\"dark\"\n",
    "    ),\n",
    ")"
   ]
  },
  {
   "cell_type": "code",
   "execution_count": null,
   "metadata": {
    "collapsed": false
   },
   "outputs": [],
   "source": [
    "traces = [trace0, trace1, trace2]\n",
    "data = Data(traces)\n",
    "figure = Figure(data=data, layout=layout)\n",
    "%time plot_url = py.plot(figure, filename=chart_filename, fileopt=\"overwrite\", auto_open=False)"
   ]
  }
 ],
 "metadata": {
  "anaconda-cloud": {},
  "kernel_info": {
   "name": "python2"
  },
  "kernelspec": {
   "display_name": "Python [conda root]",
   "language": "python",
   "name": "conda-root-py"
  },
  "language_info": {
   "codemirror_mode": {
    "name": "ipython",
    "version": 3
   },
   "file_extension": ".py",
   "mimetype": "text/x-python",
   "name": "python",
   "nbconvert_exporter": "python",
   "pygments_lexer": "ipython3",
   "version": "3.5.2"
  }
 },
 "nbformat": 4,
 "nbformat_minor": 0
}
