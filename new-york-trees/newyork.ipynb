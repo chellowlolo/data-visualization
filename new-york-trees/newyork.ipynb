{
 "cells": [
  {
   "execution_count": 1,
   "metadata": {
    "collapsed": false
   },
   "outputs": [],
   "cell_type": "code",
   "outputExpanded": false,
   "source": [
    "import numpy as np\n",
    "import pandas as pd\n",
    "\n",
    "import plotly.plotly as py\n",
    "from plotly.graph_objs import *"
   ]
  },
  {
   "execution_count": 2,
   "metadata": {
    "collapsed": false
   },
   "outputs": [],
   "cell_type": "code",
   "outputExpanded": false,
   "source": [
    "filename = \"2015_Street_Tree_Census_-_Tree_Data.csv\"\n",
    "chart_filename = \"New York trees\""
   ]
  },
  {
   "execution_count": 3,
   "metadata": {
    "collapsed": false
   },
   "outputs": [],
   "cell_type": "code",
   "outputExpanded": false,
   "source": [
    "\"\"\"\n",
    "def get_color(health):\n",
    "    if health == \"Poor\":\n",
    "        return \"#C2772C\"\n",
    "    elif health == \"Fair\":\n",
    "        return \"#D6C13C\"\n",
    "    else:\n",
    "        return \"#46BE60\"\n",
    "\"\"\"\n",
    "    \n",
    "def get_size(tree_dbh):\n",
    "    size = tree_dbh / 3\n",
    "    size = max(1, size)\n",
    "    return min(10, size)\n",
    "\n",
    "def title(x):\n",
    "    x = str(x)\n",
    "    return x.title()"
   ]
  },
  {
   "execution_count": 4,
   "metadata": {
    "collapsed": false
   },
   "outputs": [
    {
     "text": [
      "CPU times: user 3.91 s, sys: 370 ms, total: 4.28 s\n",
      "Wall time: 4.57 s\n"
     ],
     "name": "stdout",
     "output_type": "stream"
    }
   ],
   "cell_type": "code",
   "outputExpanded": false,
   "source": [
    "%time df = pd.read_csv(filename, encoding=\"utf-8-sig\")\n",
    "#print df.columns\n",
    "\n",
    "#df = df[df[\"boroname\"] == \"Manhattan\"]\n",
    "\n",
    "healthy = df[df[\"health\"] == \"Good\"]\n",
    "fair = df[df[\"health\"] == \"Fair\"]\n",
    "poor = df[df[\"health\"] == \"Poor\"]\n",
    "\n",
    "h_latitudes = healthy[\"latitude\"]\n",
    "h_longitudes = healthy[\"longitude\"]\n",
    "h_species = healthy[\"spc_common\"].apply(title)\n",
    "h_sizes = healthy[\"tree_dbh\"].apply(get_size)\n",
    "\n",
    "f_latitudes = fair[\"latitude\"]\n",
    "f_longitudes = fair[\"longitude\"]\n",
    "f_species = fair[\"spc_common\"].apply(title)\n",
    "f_sizes = fair[\"tree_dbh\"].apply(get_size)\n",
    "\n",
    "p_latitudes = poor[\"latitude\"]\n",
    "p_longitudes = poor[\"longitude\"]\n",
    "p_species = poor[\"spc_common\"].apply(title)\n",
    "p_sizes = poor[\"tree_dbh\"].apply(get_size)"
   ]
  },
  {
   "execution_count": 5,
   "metadata": {
    "collapsed": false
   },
   "outputs": [],
   "cell_type": "code",
   "outputExpanded": false,
   "source": [
    "mapbox_access_token = 'pk.eyJ1IjoiamFja2x1byIsImEiOiJjaXZ4NGk0OTMwMWVuMnRwczIxNnAzeXlqIn0.RwC7pCe81JRh0HCmCKQO4A'\n",
    "\n",
    "# Healthy, green\n",
    "trace0 = Scattermapbox(\n",
    "    lat = h_latitudes,\n",
    "    lon = h_longitudes,\n",
    "    mode = 'markers',\n",
    "    marker = Marker(\n",
    "        color = \"#46BE60\",\n",
    "        size = h_sizes,\n",
    "        opacity = 0.5,   \n",
    "    ),\n",
    "    name = \"Healthy\",\n",
    "    text = h_species,\n",
    ")\n",
    "\n",
    "# Fair, yellow\n",
    "trace1 = Scattermapbox(\n",
    "    lat = f_latitudes,\n",
    "    lon = f_longitudes,\n",
    "    mode = 'markers',\n",
    "    marker = Marker(\n",
    "        color = \"#D6C13C\",\n",
    "        size = f_sizes,\n",
    "        opacity = 0.5,   \n",
    "    ),\n",
    "    name = \"Fair\",\n",
    "    text = f_species,\n",
    ")\n",
    "\n",
    "# Poor, orange\n",
    "trace2 = Scattermapbox(\n",
    "    lat = p_latitudes,\n",
    "    lon = p_longitudes,\n",
    "    mode = 'markers',\n",
    "    marker = Marker(\n",
    "        color = \"#C2772C\",\n",
    "        size = p_sizes,\n",
    "        opacity = 0.5,   \n",
    "    ),\n",
    "    name = \"Poor\",\n",
    "    text = p_species,\n",
    ")\n",
    "\n",
    "layout = Layout(\n",
    "    annotations=Annotations([\n",
    "       Annotation(\n",
    "           x=1,\n",
    "           y=1,\n",
    "           align='right',\n",
    "           showarrow=False,\n",
    "           text='    Toggle view:',\n",
    "           xanchor='left',\n",
    "           xref='paper',\n",
    "           yref='paper'\n",
    "       )]),\n",
    "    autosize=True,\n",
    "    height=1024,\n",
    "    width=1024,\n",
    "    font=Font(\n",
    "        family = 'Overpass',\n",
    "        color = \"#CCCCCC\",\n",
    "        size = 14,\n",
    "    ),\n",
    "    margin=Margin(\n",
    "        t=80,\n",
    "        l=40,\n",
    "        b=40,\n",
    "        r=40,\n",
    "        pad=0,\n",
    "    ),\n",
    "    paper_bgcolor = \"#020202\",\n",
    "    hovermode='closest',\n",
    "    legend = dict(x=1, y=0.97),\n",
    "    title = \"Visualization of trees in New York\",\n",
    "    mapbox=dict(\n",
    "        accesstoken=mapbox_access_token,\n",
    "        bearing=0,\n",
    "        center=dict(\n",
    "            lat=40.73195454574818,\n",
    "            lon=-73.98213839177748,\n",
    "        ),\n",
    "        pitch=0,\n",
    "        zoom=9.8,\n",
    "        style=\"dark\"\n",
    "    ),\n",
    ")"
   ]
  },
  {
   "execution_count": 6,
   "metadata": {
    "collapsed": false
   },
   "outputs": [
    {
     "text": [
      "/usr/local/lib/python2.7/site-packages/plotly/plotly/plotly.py:236: UserWarning:\n",
      "\n",
      "Woah there! Look at all those points! Due to browser limitations, the Plotly SVG drawing functions have a hard time graphing more than 500k data points for line charts, or 40k points for other types of charts. Here are some suggestions:\n",
      "(1) Use the `plotly.graph_objs.Scattergl` trace object to generate a WebGl graph.\n",
      "(2) Trying using the image API to return an image instead of a graph URL\n",
      "(3) Use matplotlib\n",
      "(4) See if you can create your visualization with fewer data points\n",
      "\n",
      "If the visualization you're using aggregates points (e.g., box plot, histogram, etc.) you can disregard this warning.\n",
      "\n"
     ],
     "name": "stderr",
     "output_type": "stream"
    },
    {
     "text": [
      "CPU times: user 5.21 s, sys: 491 ms, total: 5.7 s\n",
      "Wall time: 24.7 s\n"
     ],
     "name": "stdout",
     "output_type": "stream"
    }
   ],
   "cell_type": "code",
   "outputExpanded": false,
   "source": [
    "traces = [trace0, trace1, trace2]\n",
    "data = Data(traces)\n",
    "figure = Figure(data=data, layout=layout)\n",
    "%time plot_url = py.plot(figure, filename=chart_filename, fileopt=\"overwrite\", auto_open=False)"
   ]
  }
 ],
 "nbformat": 4,
 "nbformat_minor": 0,
 "metadata": {
  "kernelspec": {
   "name": "python2",
   "language": "python",
   "display_name": "Python 2"
  },
  "kernel_info": {
   "name": "python2"
  },
  "language_info": {
   "mimetype": "text/x-python",
   "nbconvert_exporter": "python",
   "name": "python",
   "pygments_lexer": "ipython2",
   "version": "2.7.12",
   "file_extension": ".py",
   "codemirror_mode": {
    "version": 2,
    "name": "ipython"
   }
  }
 }
}