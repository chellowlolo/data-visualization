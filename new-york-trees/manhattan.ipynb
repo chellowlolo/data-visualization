{
 "cells": [
  {
   "cell_type": "markdown",
   "metadata": {},
   "source": [
    "**VISUALIZATION OF NYC TRESS USING PLOTLY AND MAPBOX**"
   ]
  },
  {
   "cell_type": "markdown",
   "metadata": {},
   "source": [
    "REQUIRED LIBRARIES\n",
    "\n",
    "------------------\n",
    "\n",
    "Note that Plotly requires an API key for Python not stored on this file.\n",
    "\n",
    "Attempting to graph without authentication will NOT WORK.\n",
    "\n",
    "View instructions here for API setup:\n",
    "\n",
    "https://plot.ly/python/getting-started/\n",
    "\n",
    "If Mapbox API does not work, create an account and go under \"API access tokens\", then paste the key."
   ]
  },
  {
   "cell_type": "code",
   "execution_count": null,
   "metadata": {
    "collapsed": false
   },
   "outputs": [],
   "source": [
    "import numpy as np\n",
    "import pandas as pd\n",
    "\n",
    "import plotly.plotly as py\n",
    "from plotly.graph_objs import *\n",
    "\n",
    "mapbox_access_token = 'pk.eyJ1IjoiamFja2x1byIsImEiOiJjaXdiNnAweTMwNDV1MnRsa3N0N3Zwa2VxIn0.PH6XwF_e8ww8zhCHM4kNIA'"
   ]
  },
  {
   "cell_type": "markdown",
   "metadata": {},
   "source": [
    "UNZIP DATASET BEFOREHAND"
   ]
  },
  {
   "cell_type": "code",
   "execution_count": null,
   "metadata": {
    "collapsed": false
   },
   "outputs": [],
   "source": [
    "filename = \"2015_Street_Tree_Census_-_Tree_Data.csv\"\n",
    "chart_filename = \"Manhattan trees\""
   ]
  },
  {
   "cell_type": "markdown",
   "metadata": {},
   "source": [
    "FUNCTIONS\n",
    "\n",
    "------------------\n",
    "\n",
    "These two functions normalizes outlier data and cleans up text respectively."
   ]
  },
  {
   "cell_type": "code",
   "execution_count": null,
   "metadata": {
    "collapsed": false
   },
   "outputs": [],
   "source": [
    "# Divides size by 2 and sets max, min values so that points don't pop from map\n",
    "def get_size(tree_dbh):\n",
    "    size = tree_dbh / 2\n",
    "    size = max(1, size)\n",
    "    return min(10, size)\n",
    "\n",
    "# Returns properly formatted text for species\n",
    "def title(x):\n",
    "    x = str(x)\n",
    "    return x.title()"
   ]
  },
  {
   "cell_type": "markdown",
   "metadata": {},
   "source": [
    "READ CSV\n",
    "\n",
    "-----------------\n",
    "\n",
    "Panda's built-in CSV reader will be used to load the 100+ mb dataset.\n",
    "\n",
    "Comments/notes inside code."
   ]
  },
  {
   "cell_type": "code",
   "execution_count": null,
   "metadata": {
    "collapsed": false
   },
   "outputs": [],
   "source": [
    "# Loads the CSV file and times it \n",
    "\n",
    "%time df = pd.read_csv(filename, encoding=\"utf-8-sig\")\n",
    "#print df.columns\n",
    "\n",
    "# Limits borough to Manhattan only, otherwise map may crash due to too many (500k+) points\n",
    "\n",
    "df = df[df[\"boroname\"] == \"Manhattan\"]\n",
    "\n",
    "# Divides the trees by three health categories: healthy, fair, and poor\n",
    "# This is done to ensure that the final map has 3 toggleable traces\n",
    "\n",
    "healthy = df[df[\"health\"] == \"Good\"]\n",
    "fair = df[df[\"health\"] == \"Fair\"]\n",
    "poor = df[df[\"health\"] == \"Poor\"]\n",
    "\n",
    "# For each health level, get Series for latitudes, longitudes\n",
    "# capitalized species, and normalized sizes (with pandas.apply())\n",
    "\n",
    "h_latitudes = healthy[\"latitude\"]\n",
    "h_longitudes = healthy[\"longitude\"]\n",
    "h_species = healthy[\"spc_common\"].apply(title)\n",
    "h_sizes = healthy[\"tree_dbh\"].apply(get_size)\n",
    "\n",
    "f_latitudes = fair[\"latitude\"]\n",
    "f_longitudes = fair[\"longitude\"]\n",
    "f_species = fair[\"spc_common\"].apply(title)\n",
    "f_sizes = fair[\"tree_dbh\"].apply(get_size)\n",
    "\n",
    "p_latitudes = poor[\"latitude\"]\n",
    "p_longitudes = poor[\"longitude\"]\n",
    "p_species = poor[\"spc_common\"].apply(title)\n",
    "p_sizes = poor[\"tree_dbh\"].apply(get_size)"
   ]
  },
  {
   "cell_type": "markdown",
   "metadata": {},
   "source": [
    "TRACES \n",
    "\n",
    "-------------\n",
    "\n",
    "Here we create 3 Scattermapbox traces that are used to plot the trees on the map. \n",
    "\n",
    "Healthy trees are colored green, fair ones yellow, and poor ones orange.\n",
    "\n",
    "Attributes of a Scattermapbox() object used here are:\n",
    "\n",
    "- lat : list of latitudes of each point on trace\n",
    "- long : list of longitudes of each point on trace\n",
    "- mode : markers (set by default, i.e. we are simply plotting points)\n",
    "- name : name of the trace (e.g. Healthy, Fair, Poor)\n",
    "- text : list of text shown when hovering on individual points on trace (e.g. species)\n",
    "\n",
    "And for Marker(), we have:\n",
    "\n",
    "- color : color of all markers for a given trace (optionally, list of colors for each marker)\n",
    "- size : list of sizes for each point on trace (size scales w.r.t diameter, not area)\n",
    "- opacity : opacity of each point\n",
    "\n",
    "Note that name identifies one of the three traces, while text will display the individual species of a tree\n",
    "\n",
    "Also, none of these are really \"lists\". Plotly accepts a Pandas Series by default w/o need for conversion.\n"
   ]
  },
  {
   "cell_type": "code",
   "execution_count": null,
   "metadata": {
    "collapsed": false
   },
   "outputs": [],
   "source": [
    "\n",
    "# Healthy, green\n",
    "trace0 = Scattermapbox(\n",
    "    lat = h_latitudes,\n",
    "    lon = h_longitudes,\n",
    "    mode = 'markers',\n",
    "    marker = Marker(\n",
    "        color = \"#46BE60\",\n",
    "        size = h_sizes,\n",
    "        opacity = 0.5,   \n",
    "    ),\n",
    "    name = \"Healthy\",\n",
    "    text = h_species,\n",
    ")\n",
    "\n",
    "# Fair, yellow\n",
    "trace1 = Scattermapbox(\n",
    "    lat = f_latitudes,\n",
    "    lon = f_longitudes,\n",
    "    mode = 'markers',\n",
    "    marker = Marker(\n",
    "        color = \"#D6C13C\",\n",
    "        size = f_sizes,\n",
    "        opacity = 0.5,   \n",
    "    ),\n",
    "    name = \"Fair\",\n",
    "    text = f_species,\n",
    ")\n",
    "\n",
    "# Poor, orange\n",
    "trace2 = Scattermapbox(\n",
    "    lat = p_latitudes,\n",
    "    lon = p_longitudes,\n",
    "    mode = 'markers',\n",
    "    marker = Marker(\n",
    "        color = \"#C2772C\",\n",
    "        size = p_sizes,\n",
    "        opacity = 0.5,   \n",
    "    ),\n",
    "    name = \"Poor\",\n",
    "    text = p_species,\n",
    ")\n"
   ]
  },
  {
   "cell_type": "markdown",
   "metadata": {},
   "source": [
    "LAYOUT\n",
    "\n",
    "-------------\n",
    "\n",
    "Specifies looks of the map and some of its properties not related to individual data.\n",
    "\n",
    "- Annotations() : list of one Annotation() that tells the user he/she can toggle individual traces\n",
    "- autosize : determine if graph resizes dynamically\n",
    "- height, width : specifies default height and width (if autosize true, affects map ratio)\n",
    "- Font() : specifies defaut font propreties (font-family, color and size)\n",
    "- margin : specifies margins of the map\n",
    "- paper_bgcolor : specifies background color of the margin\n",
    "- hovermode : specifies whether marker info is shown for closest point; or if info is shown for all points of a given axis (e.g. to compare prices of 3 different stocks at same time)\n",
    "- legend : specify location of legend (moved slighly downwards for annotation)\n",
    "- title : title of the graph\n",
    "\n",
    "As for Mapbox specifications:\n",
    "\n",
    "- mapbox_access_token : API key\n",
    "- bearing : degree of map rotation (for Manhattan, 28.5 degrees gives streets perpendicular to main map axis)\n",
    "- center : specifies coordinates the map should be centered\n",
    "- pitch : not used, speicifies if map is seen from bird's eye view, or with a lower viewing angle\n",
    "- zoom : specifies how zoomed in the map should be\n",
    "- style : uses the dark Mapbox style for a more aesthetic visualization\n",
    "\n",
    "Note that Plotly objects can alternatively be structured as dicts.\n"
   ]
  },
  {
   "cell_type": "code",
   "execution_count": null,
   "metadata": {
    "collapsed": false
   },
   "outputs": [],
   "source": [
    "layout = Layout(\n",
    "    annotations=Annotations([\n",
    "       Annotation(\n",
    "           x=1,\n",
    "           y=1,\n",
    "           align='right',\n",
    "           showarrow=False,\n",
    "           text='    Toggle view:',\n",
    "           xanchor='left',\n",
    "           xref='paper',\n",
    "           yref='paper'\n",
    "       )]),\n",
    "    autosize=True,\n",
    "    height=1024,\n",
    "    width=1024,\n",
    "    font=Font(\n",
    "        family = 'Overpass',\n",
    "        color = \"#CCCCCC\",\n",
    "        size = 14,\n",
    "    ),\n",
    "    margin=Margin(\n",
    "        t=80,\n",
    "        l=40,\n",
    "        b=40,\n",
    "        r=40,\n",
    "        pad=0,\n",
    "    ),\n",
    "    paper_bgcolor = \"#020202\",\n",
    "    hovermode='closest',\n",
    "    legend = dict(x=1, y=0.97),\n",
    "    title = \"Visualization of trees in Manhattan\",\n",
    "    mapbox=dict(\n",
    "        accesstoken=mapbox_access_token,\n",
    "        bearing=28.5,\n",
    "        center=dict(\n",
    "            lat=40.785,\n",
    "            lon=-73.96\n",
    "        ),\n",
    "        pitch=0,\n",
    "        zoom=11.15,\n",
    "        style=\"dark\"\n",
    "    ),\n",
    ")"
   ]
  },
  {
   "cell_type": "markdown",
   "metadata": {},
   "source": [
    "MAKING THE MAP\n",
    "\n",
    "--------------\n",
    "\n",
    "Plotly figures (e.g. graphs, or a map in this case) are structured in two parts: data and layout. These are stored in the Figure() object.\n",
    "\n",
    "Data contains all the traces, while layout specifies the layout.\n",
    "\n",
    "Alongside the figure, a plot also has a filename, along with other file creation options not discussed here.\n",
    "\n",
    "py.plot() takes all these objects and creates a Plotly plot."
   ]
  },
  {
   "cell_type": "code",
   "execution_count": null,
   "metadata": {
    "collapsed": false
   },
   "outputs": [],
   "source": [
    "traces = [trace0, trace1, trace2]\n",
    "data = Data(traces)\n",
    "figure = Figure(data=data, layout=layout)\n",
    "%time plot_url = py.plot(figure, filename=chart_filename, fileopt=\"overwrite\")"
   ]
  }
 ],
 "metadata": {
  "anaconda-cloud": {},
  "kernel_info": {
   "name": "python2"
  },
  "kernelspec": {
   "display_name": "Python [conda root]",
   "language": "python",
   "name": "conda-root-py"
  },
  "language_info": {
   "codemirror_mode": {
    "name": "ipython",
    "version": 3
   },
   "file_extension": ".py",
   "mimetype": "text/x-python",
   "name": "python",
   "nbconvert_exporter": "python",
   "pygments_lexer": "ipython3",
   "version": "3.5.2"
  }
 },
 "nbformat": 4,
 "nbformat_minor": 0
}
