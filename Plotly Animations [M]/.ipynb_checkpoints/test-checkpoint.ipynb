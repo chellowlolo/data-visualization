{
 "cells": [
  {
   "cell_type": "code",
   "execution_count": 33,
   "metadata": {
    "collapsed": false
   },
   "outputs": [
    {
     "data": {
      "text/html": [
       "<script>requirejs.config({paths: { 'plotly': ['https://cdn.plot.ly/plotly-latest.min']},});if(!window.Plotly) {{require(['plotly'],function(plotly) {window.Plotly=plotly;});}}</script>"
      ],
      "text/plain": [
       "<IPython.core.display.HTML object>"
      ]
     },
     "metadata": {},
     "output_type": "display_data"
    },
    {
     "data": {
      "text/html": [
       "<div id=\"e31b6800-d639-437d-8cce-d3babd26193b\" style=\"height: 720px; width: 1080px;\" class=\"plotly-graph-div\"></div><script type=\"text/javascript\">require([\"plotly\"], function(Plotly) { window.PLOTLYENV=window.PLOTLYENV || {};window.PLOTLYENV.BASE_URL=\"https://plot.ly\";\n",
       "        Plotly.plot(\n",
       "            'e31b6800-d639-437d-8cce-d3babd26193b',\n",
       "            [{\"y\": [1, 2, 3], \"type\": \"surface\", \"x\": [1, 2, 3], \"z\": [[1, 2, 3], [4, 5, 6], [7, 8, 9]]}],\n",
       "            {\"font\": {\"family\": \"Overpass\", \"color\": \"#CCCCCC\", \"size\": 12}, \"showlegend\": false, \"height\": 720, \"hovermode\": \"closest\", \"width\": 1080, \"updatemenus\": [{\"pad\": {\"r\": 10, \"t\": 87}, \"showactive\": false, \"type\": \"buttons\", \"buttons\": [{\"label\": \"Play\", \"method\": \"animate\", \"args\": [null]}]}], \"scene\": {\"camera\": {\"center\": {\"y\": 0, \"x\": 0, \"z\": 0}, \"up\": {\"y\": 0, \"x\": 0, \"z\": 1}, \"eye\": {\"y\": -1, \"x\": -1, \"z\": 1}}, \"aspectmode\": \"manual\", \"aspectratio\": {\"y\": 4, \"x\": 1, \"z\": 2}, \"yaxis\": {\"showgrid\": true, \"title\": \"\", \"type\": \"date\", \"zeroline\": false}, \"xaxis\": {\"showgrid\": true, \"title\": \"\", \"type\": \"category\", \"zeroline\": false}}, \"margin\": {\"pad\": 2, \"r\": 80, \"t\": 80, \"b\": 80, \"l\": 80}, \"title\": \"US Treasury Yield Curve\", \"autosize\": true},\n",
       "            {\"linkText\": \"Export to plot.ly\", \"showLink\": true}\n",
       "        ).then(function () {return Plotly.addFrames('e31b6800-d639-437d-8cce-d3babd26193b',[{\"data\": [{\"y\": [1, 2], \"x\": [1, 2]}]}, {\"data\": [{\"y\": [1, 4], \"x\": [1, 4]}]}, {\"layout\": {\"title\": \"End Title\"}, \"data\": [{\"y\": [3, 4], \"x\": [3, 4]}]}, {\"layout\": {\"title\": \"TEST\"}, \"data\": [{\"y\": [1, 2, 3], \"x\": [1, 2, 3], \"z\": [[1, 2, 3], [4, 5, 6], [7, 8, 9]]}]}, {\"layout\": {\"title\": \"TEST\"}, \"data\": [{\"y\": [1, 2, 3], \"x\": [1, 2, 3], \"z\": [[1, 2, 3], [4, 5, 6], [7, 8, 9]]}]}, {\"layout\": {\"title\": \"TEST\"}, \"data\": [{\"y\": [1, 2, 3], \"x\": [1, 2, 3], \"z\": [[1, 2, 3], [4, 5, 6], [7, 8, 9]]}]}, {\"layout\": {\"title\": \"TEST\"}, \"data\": [{\"y\": [1, 2, 3], \"x\": [1, 2, 3], \"z\": [[1, 2, 3], [4, 5, 6], [7, 8, 9]]}]}, {\"layout\": {\"title\": \"TEST\"}, \"data\": [{\"y\": [1, 2, 3], \"x\": [1, 2, 3], \"z\": [[1, 2, 3], [4, 5, 6], [7, 8, 9]]}]}, {\"layout\": {\"title\": \"TEST\"}, \"data\": [{\"y\": [1, 2, 3], \"x\": [1, 2, 3], \"z\": [[1, 2, 3], [4, 5, 6], [7, 8, 9]]}]}, {\"layout\": {\"title\": \"TEST\"}, \"data\": [{\"y\": [1, 2, 3], \"x\": [1, 2, 3], \"z\": [[1, 2, 3], [4, 5, 6], [7, 8, 9]]}]}, {\"layout\": {\"title\": \"TEST\"}, \"data\": [{\"y\": [1, 2, 3], \"x\": [1, 2, 3], \"z\": [[1, 2, 3], [4, 5, 6], [7, 8, 9]]}]}, {\"layout\": {\"title\": \"TEST\"}, \"data\": [{\"y\": [1, 2, 3], \"x\": [1, 2, 3], \"z\": [[1, 2, 3], [4, 5, 6], [7, 8, 9]]}]}, {\"layout\": {\"title\": \"TEST\"}, \"data\": [{\"y\": [1, 2, 3], \"x\": [1, 2, 3], \"z\": [[1, 2, 3], [4, 5, 6], [7, 8, 9]]}]}, {\"layout\": {\"title\": \"TEST\"}, \"data\": [{\"y\": [1, 2, 3], \"x\": [1, 2, 3], \"z\": [[1, 2, 3], [4, 5, 6], [7, 8, 9]]}]}, {\"layout\": {\"title\": \"TEST\"}, \"data\": [{\"y\": [1, 2, 3], \"x\": [1, 2, 3], \"z\": [[1, 2, 3], [4, 5, 6], [7, 8, 9]]}]}, {\"layout\": {\"title\": \"TEST\"}, \"data\": [{\"y\": [1, 2, 3], \"x\": [1, 2, 3], \"z\": [[1, 2, 3], [4, 5, 6], [7, 8, 9]]}]}, {\"layout\": {\"title\": \"TEST\"}, \"data\": [{\"y\": [1, 2, 3], \"x\": [1, 2, 3], \"z\": [[1, 2, 3], [4, 5, 6], [7, 8, 9]]}]}, {\"layout\": {\"title\": \"TEST\"}, \"data\": [{\"y\": [1, 2, 3], \"x\": [1, 2, 3], \"z\": [[1, 2, 3], [4, 5, 6], [7, 8, 9]]}]}, {\"layout\": {\"title\": \"TEST\"}, \"data\": [{\"y\": [1, 2, 3], \"x\": [1, 2, 3], \"z\": [[1, 2, 3], [4, 5, 6], [7, 8, 9]]}]}, {\"layout\": {\"title\": \"TEST\"}, \"data\": [{\"y\": [1, 2, 3], \"x\": [1, 2, 3], \"z\": [[1, 2, 3], [4, 5, 6], [7, 8, 9]]}]}, {\"layout\": {\"title\": \"TEST\"}, \"data\": [{\"y\": [1, 2, 3], \"x\": [1, 2, 3], \"z\": [[1, 2, 3], [4, 5, 6], [7, 8, 9]]}]}, {\"layout\": {\"title\": \"TEST\"}, \"data\": [{\"y\": [1, 2, 3], \"x\": [1, 2, 3], \"z\": [[1, 2, 3], [4, 5, 6], [7, 8, 9]]}]}, {\"layout\": {\"title\": \"TEST\"}, \"data\": [{\"y\": [1, 2, 3], \"x\": [1, 2, 3], \"z\": [[1, 2, 3], [4, 5, 6], [7, 8, 9]]}]}, {\"layout\": {\"title\": \"TEST\"}, \"data\": [{\"y\": [1, 2, 3], \"x\": [1, 2, 3], \"z\": [[1, 2, 3], [4, 5, 6], [7, 8, 9]]}]}, {\"layout\": {\"title\": \"TEST\"}, \"data\": [{\"y\": [1, 2, 3], \"x\": [1, 2, 3], \"z\": [[1, 2, 3], [4, 5, 6], [7, 8, 9]]}]}, {\"layout\": {\"title\": \"TEST\"}, \"data\": [{\"y\": [1, 2, 3], \"x\": [1, 2, 3], \"z\": [[1, 2, 3], [4, 5, 6], [7, 8, 9]]}]}, {\"layout\": {\"title\": \"TEST\"}, \"data\": [{\"y\": [1, 2, 3], \"x\": [1, 2, 3], \"z\": [[1, 2, 3], [4, 5, 6], [7, 8, 9]]}]}, {\"layout\": {\"title\": \"TEST\"}, \"data\": [{\"y\": [1, 2, 3], \"x\": [1, 2, 3], \"z\": [[1, 2, 3], [4, 5, 6], [7, 8, 9]]}]}, {\"layout\": {\"title\": \"TEST\"}, \"data\": [{\"y\": [1, 2, 3], \"x\": [1, 2, 3], \"z\": [[1, 2, 3], [4, 5, 6], [7, 8, 9]]}]}, {\"layout\": {\"title\": \"TEST\"}, \"data\": [{\"y\": [1, 2, 3], \"x\": [1, 2, 3], \"z\": [[1, 2, 3], [4, 5, 6], [7, 8, 9]]}]}, {\"layout\": {\"title\": \"TEST\"}, \"data\": [{\"y\": [1, 2, 3], \"x\": [1, 2, 3], \"z\": [[1, 2, 3], [4, 5, 6], [7, 8, 9]]}]}, {\"layout\": {\"title\": \"TEST\"}, \"data\": [{\"y\": [1, 2, 3], \"x\": [1, 2, 3], \"z\": [[1, 2, 3], [4, 5, 6], [7, 8, 9]]}]}, {\"layout\": {\"title\": \"TEST\"}, \"data\": [{\"y\": [1, 2, 3], \"x\": [1, 2, 3], \"z\": [[1, 2, 3], [4, 5, 6], [7, 8, 9]]}]}, {\"layout\": {\"title\": \"TEST\"}, \"data\": [{\"y\": [1, 2, 3], \"x\": [1, 2, 3], \"z\": [[1, 2, 3], [4, 5, 6], [7, 8, 9]]}]}, {\"layout\": {\"title\": \"TEST\"}, \"data\": [{\"y\": [1, 2, 3], \"x\": [1, 2, 3], \"z\": [[1, 2, 3], [4, 5, 6], [7, 8, 9]]}]}, {\"layout\": {\"title\": \"TEST\"}, \"data\": [{\"y\": [1, 2, 3], \"x\": [1, 2, 3], \"z\": [[1, 2, 3], [4, 5, 6], [7, 8, 9]]}]}, {\"layout\": {\"title\": \"TEST\"}, \"data\": [{\"y\": [1, 2, 3], \"x\": [1, 2, 3], \"z\": [[1, 2, 3], [4, 5, 6], [7, 8, 9]]}]}, {\"layout\": {\"title\": \"TEST\"}, \"data\": [{\"y\": [1, 2, 3], \"x\": [1, 2, 3], \"z\": [[1, 2, 3], [4, 5, 6], [7, 8, 9]]}]}, {\"layout\": {\"title\": \"TESasdfasdT\"}, \"data\": [{\"y\": [1, 2, 3], \"x\": [1, 2, 3], \"z\": [[1, 2, 3], [4, 5, 6], [7, 8, 9]]}]}, {\"layout\": {\"title\": \"TESasdfasdT\"}, \"data\": [{\"y\": [1, 2, 3], \"x\": [1, 2, 3], \"z\": [[1, 2, 3], [4, 5, 6], [7, 8, 9]]}]}, {\"layout\": {\"title\": \"TESasdfasdT\"}, \"data\": [{\"y\": [1, 2, 3], \"x\": [1, 2, 3], \"z\": [[1, 2, 3], [4, 5, 6], [7, 8, 9]]}]}, {\"layout\": {\"title\": \"TESasdfasdT\"}, \"data\": [{\"y\": [1, 2, 3], \"x\": [1, 2, 3], \"z\": [[1, 2, 3], [4, 5, 6], [7, 8, 9]]}]}, {\"layout\": {\"title\": \"TESasdfasdT\"}, \"data\": [{\"y\": [1, 2, 3], \"x\": [1, 2, 3], \"z\": [[1, 2, 3], [4, 5, 6], [7, 8, 9]]}]}, {\"layout\": {\"title\": \"TESasdfasdT\"}, \"data\": [{\"y\": [1, 2, 3], \"x\": [1, 2, 3], \"z\": [[1, 2, 3], [4, 5, 6], [7, 8, 9]]}]}, {\"layout\": {\"title\": \"TESasdfasdT\"}, \"data\": [{\"y\": [1, 2, 3], \"x\": [1, 2, 3], \"z\": [[1, 2, 3], [4, 5, 6], [7, 8, 9]]}]}, {\"layout\": {\"title\": \"TESasdfasdT\"}, \"data\": [{\"y\": [1, 2, 3], \"x\": [1, 2, 3], \"z\": [[1, 2, 3], [4, 5, 6], [7, 8, 9]]}]}, {\"layout\": {\"title\": \"TESasdfasdT\"}, \"data\": [{\"y\": [1, 2, 3], \"x\": [1, 2, 3], \"z\": [[1, 2, 3], [4, 5, 6], [7, 8, 9]]}]}, {\"layout\": {\"title\": \"TESasdfasdT\"}, \"data\": [{\"y\": [1, 2, 3], \"x\": [1, 2, 3], \"z\": [[1, 2, 3], [4, 5, 6], [7, 8, 9]]}]}, {\"layout\": {\"title\": \"TESasdfasdT\"}, \"data\": [{\"y\": [1, 2, 3], \"x\": [1, 2, 3], \"z\": [[1, 2, 3], [4, 5, 6], [7, 8, 9]]}]}, {\"layout\": {\"title\": \"TESasdfasdT\"}, \"data\": [{\"y\": [1, 2, 3], \"x\": [1, 2, 3], \"z\": [[1, 2, 3], [4, 5, 6], [7, 8, 9]]}]}, {\"layout\": {\"title\": \"TESasdfasdT\"}, \"data\": [{\"y\": [1, 2, 3], \"x\": [1, 2, 3], \"z\": [[1, 2, 3], [4, 5, 6], [7, 8, 9]]}]}, {\"layout\": {\"title\": \"TESasdfasdT\"}, \"data\": [{\"y\": [1, 2, 3], \"x\": [1, 2, 3], \"z\": [[1, 2, 3], [4, 5, 6], [7, 8, 9]]}]}, {\"layout\": {\"title\": \"TESasdfasdT\"}, \"data\": [{\"y\": [1, 2, 3], \"x\": [1, 2, 3], \"z\": [[1, 2, 3], [4, 5, 6], [7, 8, 9]]}]}, {\"layout\": {\"title\": \"TESasdfasdT\"}, \"data\": [{\"y\": [1, 2, 1], \"x\": [1, 2, 6], \"z\": [[1, 2, 3], [4, 5, 6], [7, 8, 9]]}]}, {\"layout\": {\"title\": \"TESasdfasdT\"}, \"data\": [{\"y\": [1, 2, 1], \"x\": [1, 2, 6], \"z\": [[1, 2, 3], [4, 5, 6], [7, 8, 9]]}]}, {\"layout\": {\"title\": \"TESasdfasdT\"}, \"data\": [{\"y\": [1, 2, 1], \"x\": [1, 2, 6], \"z\": [[1, 2, 3], [4, 5, 6], [7, 8, 9]]}]}, {\"layout\": {\"title\": \"TESasdfasdT\"}, \"data\": [{\"y\": [1, 2, 1], \"x\": [1, 2, 6], \"z\": [[1, 2, 3], [4, 5, 6], [7, 8, 9]]}]}, {\"layout\": {\"title\": \"TESasdfasdT\"}, \"data\": [{\"y\": [1, 2, 1], \"x\": [1, 2, 6], \"z\": [[1, 2, 3], [4, 5, 6], [7, 8, 9]]}]}, {\"layout\": {\"title\": \"TESasdfasdT\"}, \"data\": [{\"y\": [1, 2, 3], \"x\": [1, 2, 3], \"z\": [[1, 2, 3], [4, 5, 6], [7, 8, 9]]}]}, {\"layout\": {\"title\": \"TESasdfasdT\"}, \"data\": [{\"y\": [1, 2, 3], \"x\": [1, 2, 3], \"z\": [[1, 2, 3], [4, 5, 6], [7, 8, 9]]}]}, {\"layout\": {\"title\": \"TESasdfasdT\"}, \"data\": [{\"y\": [1, 2, 3], \"x\": [1, 2, 3], \"z\": [[1, 2, 3], [4, 5, 6], [7, 8, 9]]}]}, {\"layout\": {\"title\": \"TESasdfasdT\"}, \"data\": [{\"y\": [1, 2, 3], \"x\": [1, 2, 3], \"z\": [[1, 2, 3], [4, 5, 6], [7, 8, 9]]}]}, {\"layout\": {\"title\": \"TESasdfasdT\"}, \"data\": [{\"y\": [1, 2, 3], \"x\": [1, 2, 3], \"z\": [[1, 2, 3], [4, 5, 6], [7, 8, 9]]}]}]);}).then(function(){Plotly.animate('e31b6800-d639-437d-8cce-d3babd26193b');})\n",
       "        });</script>"
      ],
      "text/plain": [
       "<IPython.core.display.HTML object>"
      ]
     },
     "metadata": {},
     "output_type": "display_data"
    }
   ],
   "source": [
    "from plotly.offline import init_notebook_mode, iplot\n",
    "from IPython.display import display, HTML\n",
    "\n",
    "init_notebook_mode(connected=True)\n",
    "\n",
    "data = dict(\n",
    "    x = [1, 2, 3],\n",
    "    y = [1, 2, 3],\n",
    "    z = [[1,2,3], [4,5,6], [7,8,9]],\n",
    "    type = \"surface\",\n",
    ")\n",
    "\n",
    "layout = dict(\n",
    "\n",
    "    # GENERAL LAYOUT\n",
    "    width = 1080,\n",
    "    height = 720,\n",
    "    autosize = True,\n",
    "    font = dict(\n",
    "        family = 'Overpass',\n",
    "        size = 12,\n",
    "        color = \"#CCCCCC\",\n",
    "    ),\n",
    "    margin = dict(\n",
    "        t = 80,\n",
    "        l = 80,\n",
    "        b = 80,\n",
    "        r = 80,\n",
    "        pad = 2,\n",
    "    ),\n",
    "    title = \"US Treasury Yield Curve\",\n",
    "    showlegend = False,\n",
    "    hovermode = \"closest\",\n",
    "\n",
    "    # ANIMATIONS\n",
    "    updatemenus = [{\n",
    "                   'buttons': [\n",
    "                       {'args': [None],\n",
    "                        'label': 'Play',\n",
    "                        'method': 'animate'}\n",
    "               ],\n",
    "               'pad': {'r': 10, 't': 87},\n",
    "               'showactive': False,\n",
    "               'type': 'buttons'\n",
    "                }],\n",
    "\n",
    "    # COLOR THEME\n",
    "    #plot_bgcolor = \"#191A1A\",\n",
    "    #paper_bgcolor = \"#151515\",\n",
    "\n",
    "    # SCENE\n",
    "    scene = dict(\n",
    "        aspectmode = \"manual\",\n",
    "        aspectratio = dict(x = 1, y = 4, z = 2),\n",
    "        camera = {\n",
    "          \"center\": {\n",
    "            \"x\": 0,\n",
    "            \"y\": 0,\n",
    "            \"z\": 0\n",
    "          },\n",
    "          \"eye\": {\n",
    "            \"x\": -1,\n",
    "            \"y\": -1,\n",
    "            \"z\": 1,\n",
    "          },\n",
    "          \"up\": {\n",
    "            \"x\": 0,\n",
    "            \"y\": 0,\n",
    "            \"z\": 1\n",
    "          }\n",
    "        },\n",
    "        xaxis = {\n",
    "              \"showgrid\": True,\n",
    "              \"title\": \"\",\n",
    "              \"type\": \"category\",\n",
    "              \"zeroline\": False\n",
    "            },\n",
    "        yaxis = {\n",
    "              \"showgrid\": True,\n",
    "              \"title\": \"\",\n",
    "              \"type\": \"date\",\n",
    "              \"zeroline\": False\n",
    "            },\n",
    "    )\n",
    "\n",
    ")\n",
    "\n",
    "for i in range(5):\n",
    "    \n",
    "    # Create frame for each subplot\n",
    "    frame_trace1 = dict(\n",
    "        x = [1, 2, 3],\n",
    "        y = [1, 2, 3],\n",
    "        z = [[1,2,3], [4,5,6], [7,8,9]],\n",
    "        )\n",
    "\n",
    "    # [0,1,2] specifies the 3 subplots to apply frames to\n",
    "    frame = dict(\n",
    "        data = [frame_trace1],\n",
    "        layout = dict(title = \"TESasdfasdT\")\n",
    "    )\n",
    "\n",
    "    frames.append(frame)\n",
    "\n",
    "\n",
    "figure = dict(data=[data], layout=layout, frames=frames)\n",
    "\n",
    "iplot(figure)"
   ]
  },
  {
   "cell_type": "code",
   "execution_count": null,
   "metadata": {
    "collapsed": true
   },
   "outputs": [],
   "source": []
  }
 ],
 "metadata": {
  "anaconda-cloud": {},
  "kernelspec": {
   "display_name": "Python 3",
   "language": "python",
   "name": "python3"
  },
  "language_info": {
   "codemirror_mode": {
    "name": "ipython",
    "version": 3
   },
   "file_extension": ".py",
   "mimetype": "text/x-python",
   "name": "python",
   "nbconvert_exporter": "python",
   "pygments_lexer": "ipython3",
   "version": "3.5.2"
  }
 },
 "nbformat": 4,
 "nbformat_minor": 1
}
