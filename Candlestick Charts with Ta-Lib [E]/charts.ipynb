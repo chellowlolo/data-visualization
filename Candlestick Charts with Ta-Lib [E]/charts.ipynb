{
  "cells": [
    {
      "cell_type": "markdown",
      "source": [
        "# Using Plotly and TA-Lib to make financial charts"
      ],
      "metadata": {}
    },
    {
      "cell_type": "markdown",
      "source": [
        "## Import required libraries\n",
        "\n",
        "TA-Lib is an industry-standard package used for technical analysis, and has Python bindings.\n",
        "\n",
        "Note that Python TA-Lib wrappers reqires both pip install and the underlying library:\n",
        "\n",
        "- Use brew install ta-lib on Mac\n",
        "- Download installers for Windows and Linux"
      ],
      "metadata": {}
    },
    {
      "cell_type": "code",
      "source": [
        "import copy\n",
        "import numpy as np\n",
        "import pandas as pd\n",
        "import cufflinks as cf # Optional\n",
        "\n",
        "import plotly.plotly as py\n",
        "from plotly.graph_objs import *\n",
        "\n",
        "import pandas_datareader.data as web\n",
        "import talib"
      ],
      "outputs": [],
      "execution_count": 29,
      "metadata": {
        "collapsed": false,
        "outputHidden": false,
        "inputHidden": false
      }
    },
    {
      "cell_type": "markdown",
      "source": [
        "## Fetch end of day prices from Yahoo"
      ],
      "metadata": {}
    },
    {
      "cell_type": "code",
      "source": [
        "ticker = 'AAPL' \n",
        "\n",
        "df = web.get_data_yahoo(ticker) # Feed AAPL from Yahoo stock data\n",
        "df.shape # 1789 most recent trading days\n",
        "\n",
        "price = df['Adj Close'] # Get Yahoo price as DataFrame\n",
        "ndprice = price.values # Convert to NumPy ndarray (TA-Lib has no DataFrame or Series support)"
      ],
      "outputs": [],
      "execution_count": 9,
      "metadata": {
        "collapsed": false,
        "outputHidden": false,
        "inputHidden": false
      }
    },
    {
      "cell_type": "markdown",
      "source": [
        "## Test our first TA-Lib indicator\n",
        "\n",
        "Most indicators are of format \n",
        "\n",
        "#### OUTPUT, [OUTPUT2] = talib.INDICATOR(close, [timeperiod=TIMEPERIOD, **args])\n",
        "\n",
        "Due to this syntax consistency, TA-Lib's indicators are extremely easy to use as opposed to Pandas' sometimes inconsitent library, like .rolling() vs .rolling_mean() for instance. TA-Lib's calculations are additionally not done in Pyhton, which results in additional speed incease.\n",
        "\nRead full reference here: http://mrjbq7.github.io/ta-lib/"
      ],
      "metadata": {}
    },
    {
      "cell_type": "code",
      "source": [
        "MA30 = talib.MA(ndprice) # Default window of 30D"
      ],
      "outputs": [],
      "execution_count": 10,
      "metadata": {
        "collapsed": false,
        "outputHidden": false,
        "inputHidden": false
      }
    },
    {
      "cell_type": "markdown",
      "source": [
        "## Quick plot"
      ],
      "metadata": {}
    },
    {
      "cell_type": "code",
      "source": [
        "output = {\n",
        "    'Adj Close': price,\n",
        "    'MA30': MA30,\n",
        "}\n",
        "\n",
        "output = pd.DataFrame(output) # Remake a new DataFrame\n",
        "output.iplot() # Quick Plotly chart with Cufflinks (using .iplot() method on a df)"
      ],
      "outputs": [
        {
          "output_type": "execute_result",
          "execution_count": 11,
          "data": {
            "text/plain": [
              "<plotly.tools.PlotlyDisplay object>"
            ],
            "text/html": [
              "<iframe id=\"igraph\" scrolling=\"no\" style=\"border:none;\" seamless=\"seamless\" src=\"https://plot.ly/~jackluo/2393.embed\" height=\"525px\" width=\"100%\"></iframe>"
            ]
          },
          "metadata": {}
        }
      ],
      "execution_count": 11,
      "metadata": {
        "collapsed": false,
        "outputHidden": false,
        "inputHidden": false
      }
    },
    {
      "cell_type": "markdown",
      "source": [
        "## More indicators, Golden Cross\n",
        "\n",
        "Let's make the golden cross (the 50SMA and 200SMA crossover)\n",
        "The Golden Cross is one of the best known technical indicators, and is often interpreted as a sign of long-term price movement."
      ],
      "metadata": {}
    },
    {
      "cell_type": "code",
      "source": [
        "MA50 = talib.MA(ndprice, timeperiod=50)\n",
        "MA200 = talib.MA(ndprice, timeperiod=200)\n",
        "\n",
        "output = {\n",
        "    'Adj Price': price,\n",
        "    'MA50': MA50,\n",
        "    'MA200': MA200\n",
        "}\n",
        "\n",
        "output = pd.DataFrame(output)\n",
        "output.iplot()"
      ],
      "outputs": [
        {
          "output_type": "execute_result",
          "execution_count": 12,
          "data": {
            "text/plain": [
              "<plotly.tools.PlotlyDisplay object>"
            ],
            "text/html": [
              "<iframe id=\"igraph\" scrolling=\"no\" style=\"border:none;\" seamless=\"seamless\" src=\"https://plot.ly/~jackluo/2395.embed\" height=\"525px\" width=\"100%\"></iframe>"
            ]
          },
          "metadata": {}
        }
      ],
      "execution_count": 12,
      "metadata": {
        "collapsed": false,
        "outputHidden": false,
        "inputHidden": false
      }
    },
    {
      "cell_type": "markdown",
      "source": [
        "## Making Candlestick Charts\n",
        "\nFor customizability and advanced features, one must use Plotly directly as Cufflinks isn't well suited for full-on chart customization."
      ],
      "metadata": {}
    },
    {
      "cell_type": "code",
      "source": [
        "volume = df['Volume'] \n",
        "\n",
        "# Sanitize for split, dividend, etc. as O, # L, H, C not adjuted on Yahoo\n",
        "ratio = df['Close']/df['Adj Close'] \n",
        "#del df['Adj Close']\n",
        "df = df.div(ratio, axis='index') # Elementwise Pandas divide\n",
        "\n",
        "trace1 = Candlestick(\n",
        "    x = df.index,\n",
        "    open = df['Open'] ,\n",
        "    low = df['Low'] ,\n",
        "    high = df['High'] ,\n",
        "    close = df['Close'],\n",
        "    name = ticker,\n",
        ")\n",
        "\n",
        "trace2 = Scatter(\n",
        "    x = df.index,\n",
        "    y = MA50, # Plotly accepts either a DataFrame or a NumPy array \n",
        "    name = 'MA50', \n",
        "    mode = 'lines',\n",
        ")\n",
        "\n",
        "trace3 = copy.copy(trace2) # Copy trace2\n",
        "trace3.y = MA200\n",
        "trace3.name = 'MA200'\n",
        "\n",
        "data = [trace1, trace2, trace3]\n",
        "py.iplot(data)"
      ],
      "outputs": [
        {
          "output_type": "execute_result",
          "execution_count": 13,
          "data": {
            "text/plain": [
              "<plotly.tools.PlotlyDisplay object>"
            ],
            "text/html": [
              "<iframe id=\"igraph\" scrolling=\"no\" style=\"border:none;\" seamless=\"seamless\" src=\"https://plot.ly/~jackluo/2397.embed\" height=\"525px\" width=\"100%\"></iframe>"
            ]
          },
          "metadata": {}
        }
      ],
      "execution_count": 13,
      "metadata": {
        "collapsed": false,
        "outputHidden": false,
        "inputHidden": false
      }
    },
    {
      "cell_type": "markdown",
      "source": [
        "## Adding volume subplot\n",
        "\nThough leaving volume unadjusted will distort the numbers somewhat, it is customary to not adjust volume as adjusted volume tends to spike even more after a split."
      ],
      "metadata": {}
    },
    {
      "cell_type": "code",
      "source": [
        "# Data\n",
        "trace1 = Candlestick(\n",
        "    x = df.index,\n",
        "    open = df['Open'] ,\n",
        "    low = df['Low'] ,\n",
        "    high = df['High'] ,\n",
        "    close = df['Close'],\n",
        "    name = ticker,\n",
        "    yaxis = 'y1', # Main plot\n",
        ")\n",
        "\n",
        "trace2 = Scatter(\n",
        "    x = df.index,\n",
        "    y = MA50,\n",
        "    name = 'MA50',\n",
        "    mode = 'lines',\n",
        "    yaxis = 'y1', # Main plot\n",
        ")\n",
        "\n",
        "trace3 = copy.copy(trace2) # Copy trace2\n",
        "trace3.y = MA200\n",
        "trace3.name = 'MA200'\n",
        "\n",
        "trace4 = Bar(\n",
        "    x = df.index,\n",
        "    y = volume, # Non-adjusted volume, if you adjust you see spikes\n",
        "    name = 'Volume',\n",
        "    yaxis = 'y2', # Subplot\n",
        ")\n",
        "\n",
        "# Layout\n",
        "layout = Layout(\n",
        "    yaxis = dict(\n",
        "        domain = [0.25, 1],\n",
        "    ),\n",
        "    yaxis2 = dict(\n",
        "        domain = [0, 0.2],\n",
        "    ),\n",
        "    xaxis = dict(\n",
        "        rangeslider = dict(\n",
        "            visible = False,\n",
        "        ),\n",
        "    ),\n",
        ")\n",
        "\n",
        "data = [trace1, trace2, trace3, trace4]\n",
        "figure = Figure(data = data, layout = layout)\n",
        "py.iplot(figure)"
      ],
      "outputs": [
        {
          "output_type": "execute_result",
          "execution_count": 14,
          "data": {
            "text/plain": [
              "<plotly.tools.PlotlyDisplay object>"
            ],
            "text/html": [
              "<iframe id=\"igraph\" scrolling=\"no\" style=\"border:none;\" seamless=\"seamless\" src=\"https://plot.ly/~jackluo/2399.embed\" height=\"525px\" width=\"100%\"></iframe>"
            ]
          },
          "metadata": {}
        }
      ],
      "execution_count": 14,
      "metadata": {
        "collapsed": false,
        "outputHidden": false,
        "inputHidden": false
      }
    },
    {
      "cell_type": "markdown",
      "source": [
        "## Styling everything up"
      ],
      "metadata": {}
    },
    {
      "cell_type": "code",
      "source": [
        "# Data\n",
        "trace1 = Candlestick(\n",
        "    x = df.index,\n",
        "    open = df['Open'] ,\n",
        "    low = df['Low'] ,\n",
        "    high = df['High'] ,\n",
        "    close = df['Close'],\n",
        "    name = ticker,\n",
        "    yaxis = 'y1', # Main plot\n",
        ")\n",
        "\n",
        "trace2 = Scatter(\n",
        "    x = df.index,\n",
        "    y = MA50,\n",
        "    name = 'MA50',\n",
        "    mode = 'lines',\n",
        "    line = dict(color = '#1480DC'),\n",
        "    yaxis = 'y1', # Main plot\n",
        ")\n",
        "\n",
        "trace3 = copy.copy(trace2) # Copy trace2\n",
        "trace3.y = MA200\n",
        "trace3.name = 'MA200'\n",
        "\n",
        "# Either green volume bar if close > open or red bar if the opposite\n",
        "colors = [\"green\" if (value - df['Open'].values[i]) >= 0 else \"red\"\n",
        "          for i, value in enumerate(df['Close'].values)]\n",
        "\n",
        "trace4 = Bar(\n",
        "    x = df.index,\n",
        "    y = volume, # Non-adjusted volume, if you adjust you see spikes\n",
        "    name = 'Volume',\n",
        "    marker = dict(color = colors),\n",
        "    yaxis = 'y2', # Subplot,\n",
        ")\n",
        "\n",
        "# Layout\n",
        "layout = Layout(\n",
        "    \n",
        "    # GENERAL\n",
        "    title = ticker,\n",
        "    margin = dict(\n",
        "        t = 50,\n",
        "        l = 50,\n",
        "        b = 50,\n",
        "        r = 50,\n",
        "        pad = 0, \n",
        "    ),\n",
        "    font = dict(family = 'overpass'),\n",
        "    showlegend = False,\n",
        "    plot_bgcolor = '#FAFAFA',\n",
        "    paper_bgcolor = '#F5F6F9',\n",
        "    \n",
        "    # AXIS\n",
        "    yaxis = dict(\n",
        "        domain = [0.25, 1],\n",
        "        type = 'log',\n",
        "    ),\n",
        "    yaxis2 = dict(\n",
        "        domain = [0, 0.2],\n",
        "    ),\n",
        "    xaxis = dict(\n",
        "        rangeslider = dict(\n",
        "            visible = False,\n",
        "        ),\n",
        "    ),\n",
        "    \n",
        ")\n",
        "\n",
        "data = [trace1, trace2, trace3, trace4]\n",
        "figure = Figure(data = data, layout = layout)\n",
        "py.iplot(figure)"
      ],
      "outputs": [
        {
          "output_type": "execute_result",
          "execution_count": 31,
          "data": {
            "text/plain": [
              "<plotly.tools.PlotlyDisplay object>"
            ],
            "text/html": [
              "<iframe id=\"igraph\" scrolling=\"no\" style=\"border:none;\" seamless=\"seamless\" src=\"https://plot.ly/~jackluo/2471.embed\" height=\"525px\" width=\"100%\"></iframe>"
            ]
          },
          "metadata": {}
        }
      ],
      "execution_count": 31,
      "metadata": {
        "collapsed": false,
        "outputHidden": false,
        "inputHidden": false
      }
    }
  ],
  "metadata": {
    "kernelspec": {
      "name": "python3",
      "language": "python",
      "display_name": "Python 3"
    },
    "kernel_info": {
      "name": "python3"
    },
    "language_info": {
      "name": "python",
      "version": "3.6.0",
      "mimetype": "text/x-python",
      "codemirror_mode": {
        "name": "ipython",
        "version": 3
      },
      "pygments_lexer": "ipython3",
      "nbconvert_exporter": "python",
      "file_extension": ".py"
    }
  },
  "nbformat": 4,
  "nbformat_minor": 4
}