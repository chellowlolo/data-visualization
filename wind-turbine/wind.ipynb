{
 "cells": [
  {
   "cell_type": "markdown",
   "metadata": {
    "collapsed": false,
    "outputExpanded": false
   },
   "source": [
    "First import the prerequisites, pandas, sqlalchemy and plotly. Install them with \"pip install\" or Anaconda if that isn't done already."
   ]
  },
  {
   "cell_type": "code",
   "execution_count": null,
   "metadata": {
    "collapsed": false,
    "outputExpanded": false
   },
   "outputs": [],
   "source": [
    "import pandas as pd \n",
    "from sqlalchemy import create_engine\n",
    "\n",
    "import plotly.plotly as py\n",
    "from plotly.graph_objs import *"
   ]
  },
  {
   "cell_type": "markdown",
   "metadata": {
    "collapsed": false,
    "outputExpanded": false
   },
   "source": [
    "Import the SQLite database so that it can be read with Pandas.\n",
    "\n",
    "Note the three slashes instead of just one for a relative path."
   ]
  },
  {
   "cell_type": "code",
   "execution_count": null,
   "metadata": {
    "collapsed": false,
    "outputExpanded": false
   },
   "outputs": [],
   "source": [
    "disk_engine = create_engine(\"sqlite:///assets/turbine_locations.db\")"
   ]
  },
  {
   "cell_type": "code",
   "execution_count": null,
   "metadata": {
    "collapsed": false,
    "outputExpanded": false
   },
   "outputs": [],
   "source": [
    "df = pd.read_sql_query(\"Select lat_DD, long_DD, count(*) from data group by lat_DD, long_DD \", disk_engine)"
   ]
  },
  {
   "cell_type": "markdown",
   "metadata": {
    "collapsed": false,
    "outputExpanded": false
   },
   "source": [
    "Let's query the dataframe to see everything works fine so far."
   ]
  },
  {
   "cell_type": "code",
   "execution_count": null,
   "metadata": {
    "collapsed": false,
    "outputExpanded": false
   },
   "outputs": [],
   "source": [
    "print(df)"
   ]
  },
  {
   "cell_type": "code",
   "execution_count": null,
   "metadata": {
    "collapsed": false,
    "outputExpanded": false
   },
   "outputs": [],
   "source": [
    "print df[\"lat_DD\"].values"
   ]
  },
  {
   "cell_type": "markdown",
   "metadata": {
    "collapsed": false,
    "outputExpanded": false
   },
   "source": [
    "Now let's do a basic graph with Plotly. First setup your account for Plotly graphing here if you haven't used Plotly before : \n",
    "\n",
    "https://plot.ly/python/getting-started/\n",
    "\n",
    "Do not skip this step as Plotly requires API authentication prior to graphing."
   ]
  },
  {
   "cell_type": "code",
   "execution_count": null,
   "metadata": {
    "collapsed": false,
    "outputExpanded": false
   },
   "outputs": [],
   "source": [
    "mapbox_access_token = 'pk.eyJ1IjoicGxvdGx5ZXhhbXBsZXMiLCJhIjoiY2l1azN6bGMxMDE2djJ6c2M0dmFob3pjdCJ9.iQcf9R_QqzfhgIliXixmFg'\n",
    "\n",
    "trace = Scattermapbox(\n",
    "        lat=df['lat_DD'].values,\n",
    "        lon=df['long_DD'].values,\n",
    "        mode='markers',\n",
    "        marker=Marker(\n",
    "            size=5\n",
    "        ),\n",
    "    )\n",
    "\n",
    "data = Data([trace])\n",
    "\n",
    "layout = Layout(\n",
    "    autosize=True,\n",
    "    hovermode='closest',\n",
    "    mapbox=dict(\n",
    "        accesstoken=mapbox_access_token,\n",
    "        bearing=0,\n",
    "        center=dict(\n",
    "            lat=42,\n",
    "            lon=-95\n",
    "        ),\n",
    "        pitch=0,\n",
    "        zoom=5\n",
    "    ),\n",
    ")\n",
    "\n",
    "fig = Figure(data=data,layout=layout)\n",
    "plot_url = py.plot(fig, filename = \"Mapbox 1\", validate=False)"
   ]
  },
  {
   "cell_type": "code",
   "execution_count": null,
   "metadata": {
    "collapsed": false,
    "outputExpanded": false
   },
   "outputs": [],
   "source": [
    "mapbox_access_token = 'pk.eyJ1IjoicGxvdGx5ZXhhbXBsZXMiLCJhIjoiY2l1azN6bGMxMDE2djJ6c2M0dmFob3pjdCJ9.iQcf9R_QqzfhgIliXixmFg'\n",
    "\n",
    "trace = Scattermapbox(\n",
    "        lat=df['lat_DD'].values,\n",
    "        lon=df['long_DD'].values,\n",
    "        mode='markers',\n",
    "        marker=Marker(\n",
    "            color=\"#FFFFFF\",\n",
    "            size=5\n",
    "        ),\n",
    "    )\n",
    "\n",
    "data = Data([trace])\n",
    "\n",
    "layout = Layout(\n",
    "    annotations=Annotations([\n",
    "        Annotation(\n",
    "            x=0.00,\n",
    "            y=1.07,\n",
    "            showarrow=False,\n",
    "            text=\"Map 1 : Visualization of wind turbine locations in the US\",\n",
    "            xref='paper',\n",
    "            yref='paper'\n",
    "        )\n",
    "    ]),\n",
    "    font=Font(family=\"Droid Sans\", size=14, color=\"FFFFFF\"),\n",
    "    autosize=True,\n",
    "    hovermode='closest',\n",
    "    paper_bgcolor='rgb(40, 40, 40)',\n",
    "    margin=Margin(\n",
    "        t=60,\n",
    "        l=20,\n",
    "        b=20,\n",
    "        r=20,\n",
    "        pad=0\n",
    "    ),\n",
    "    title = \"\",\n",
    "    mapbox=dict(\n",
    "        accesstoken=mapbox_access_token,\n",
    "        bearing=0,\n",
    "        center=dict(\n",
    "            lat=42,\n",
    "            lon=-95\n",
    "        ),\n",
    "        pitch=0,\n",
    "        zoom=5,\n",
    "        style=\"dark\"\n",
    "    ),\n",
    ")\n",
    "\n",
    "fig = Figure(data=data,layout=layout)\n",
    "plot_url = py.plot(fig, filename = \"Mapbox 1 styled\", validate=False)"
   ]
  },
  {
   "cell_type": "markdown",
   "metadata": {
    "collapsed": false,
    "outputExpanded": false
   },
   "source": [
    "Looks much better already. Now let's add color and vary the size of the points with respect to blade length."
   ]
  },
  {
   "cell_type": "code",
   "execution_count": null,
   "metadata": {
    "collapsed": false,
    "outputExpanded": false
   },
   "outputs": [],
   "source": [
    "df = pd.read_sql_query(\"Select lat_DD, long_DD, blade_l, count(*) from data group by lat_DD, long_DD, blade_l\", disk_engine)\n",
    "\n",
    "mapbox_access_token = 'pk.eyJ1IjoicGxvdGx5ZXhhbXBsZXMiLCJhIjoiY2l1azN6bGMxMDE2djJ6c2M0dmFob3pjdCJ9.iQcf9R_QqzfhgIliXixmFg'\n",
    "\n",
    "trace = Scattermapbox(\n",
    "    lat=df['lat_DD'].values,\n",
    "    lon=df['long_DD'].values,\n",
    "    mode='markers',\n",
    "    marker=Marker(\n",
    "        color=[max(float(i), 5) for i in df['blade_l'].values],\n",
    "        colorscale=[[0, 'rgb(221,42,145)'], [0.35, 'rgb(177,77,236)'], [0.5, 'rgb(118,117,237)'], [0.6, 'rgb(46,142,191)'], [0.7, 'rgb(11,152,121)'], [1, 'rgb(19,152,99)']],\n",
    "        reversescale=True,\n",
    "        showscale=True,\n",
    "        autocolorscale=False,\n",
    "        colorbar=ColorBar(\n",
    "            title='Turbine<br>blade<br>length (m)'\n",
    "        ),\n",
    "        size=[max(float(i)/5, 5) for i in df['blade_l'].values],\n",
    "        opacity=0.8\n",
    "      \n",
    "    ),\n",
    ")\n",
    " \n",
    "data = Data([trace])\n",
    "\n",
    "layout = Layout(\n",
    "    annotations=Annotations([\n",
    "        Annotation(\n",
    "            x=0.00,\n",
    "            y=1.07,\n",
    "            showarrow=False,\n",
    "            text=\"Map 2 : Visualization of wind turbine locations and their size in the US\",\n",
    "            xref='paper',\n",
    "            yref='paper'\n",
    "        )\n",
    "    ]),\n",
    "    font=Font(family=\"Droid Sans\", size=14, color=\"FFFFFF\"),\n",
    "    autosize=True,\n",
    "    hovermode='closest',\n",
    "    paper_bgcolor='rgb(40, 40, 40)',\n",
    "    margin=Margin(\n",
    "        t=60,\n",
    "        l=20,\n",
    "        b=20,\n",
    "        r=20,\n",
    "        pad=0\n",
    "    ),\n",
    "    title = \"\",\n",
    "    mapbox=dict(\n",
    "        accesstoken=mapbox_access_token,\n",
    "        bearing=0,\n",
    "        center=dict(\n",
    "            lat=42,\n",
    "            lon=-95\n",
    "        ),\n",
    "        pitch=0,\n",
    "        zoom=5,\n",
    "        style=\"dark\"\n",
    "    ),\n",
    ")\n",
    "\n",
    "fig = Figure(data=data,layout=layout)\n",
    "plot_url = py.plot(fig, filename = \"Mapbox 2\", validate=False)\n"
   ]
  }
 ],
 "metadata": {
  "anaconda-cloud": {},
  "kernel_info": {
   "name": "python3"
  },
  "kernelspec": {
   "display_name": "Python [conda root]",
   "language": "python",
   "name": "conda-root-py"
  },
  "language_info": {
   "codemirror_mode": {
    "name": "ipython",
    "version": 3
   },
   "file_extension": ".py",
   "mimetype": "text/x-python",
   "name": "python",
   "nbconvert_exporter": "python",
   "pygments_lexer": "ipython3",
   "version": "3.5.2"
  }
 },
 "nbformat": 4,
 "nbformat_minor": 0
}
