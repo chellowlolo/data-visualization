{
 "cells": [
  {
   "cell_type": "markdown",
   "execution_count": null,
   "metadata": {
    "collapsed": false
   },
   "source": [
    "Now that the database has been imported, let's import the basics. I will be using Python 2.7x here, but Python 3.x should work just fine with a few tweaks.\n",
    "\nFirst import the prerequisites, pandas, sqlalchemy and plotly. Install them with \"pip install\" if that isn't done already."
   ],
   "outputs": []
  },
  {
   "cell_type": "code",
   "execution_count": 12,
   "metadata": {
    "collapsed": false
   },
   "source": [
    "import pandas as pd \n",
    "from sqlalchemy import create_engine\n",
    "\n",
    "import plotly.plotly as py\n",
    "from plotly.graph_objs import *"
   ],
   "outputs": []
  },
  {
   "cell_type": "markdown",
   "execution_count": null,
   "metadata": {
    "collapsed": false
   },
   "source": [
    "Import the SQLite database so that it can be read with Pandas.\n",
    "\nNote the three slashes instead of just one for a relative path."
   ],
   "outputs": []
  },
  {
   "cell_type": "code",
   "execution_count": 13,
   "metadata": {
    "collapsed": false
   },
   "source": [
    "disk_engine = create_engine(\"sqlite:///assets/turbine_locations.db\")"
   ],
   "outputs": []
  },
  {
   "cell_type": "code",
   "execution_count": 14,
   "metadata": {
    "collapsed": false
   },
   "source": [
    "df = pd.read_sql_query(\"Select lat_DD, long_DD, count(*) from data group by lat_DD, long_DD \", disk_engine)"
   ],
   "outputs": []
  },
  {
   "cell_type": "markdown",
   "execution_count": null,
   "metadata": {
    "collapsed": false
   },
   "source": [
    "Let's query the dataframe to see everything works fine so far."
   ],
   "outputs": []
  },
  {
   "cell_type": "code",
   "execution_count": 15,
   "metadata": {
    "collapsed": false
   },
   "source": [
    "print df"
   ],
   "outputs": [
    {
     "text": [
      "          lat_DD      long_DD  count(*)\n",
      "0      18.964696  -155.690085         1\n",
      "1      18.965596  -155.690085         1\n",
      "2      18.966796  -155.690085         1\n",
      "3      18.967996  -155.690085         1\n",
      "4      18.968896  -155.690085         1\n",
      "5      18.969796  -155.689985         1\n",
      "6      18.970896  -155.689885         1\n",
      "7      18.971996  -155.689585         1\n",
      "8      18.972896  -155.689585         1\n",
      "9      18.973696  -155.689585         1\n",
      "10     18.974796  -155.689285         1\n",
      "11     18.975896  -155.688985         1\n",
      "12     18.976996  -155.688685         1\n",
      "13     18.977996  -155.688385         1\n",
      "14     18.989496  -155.671285         1\n",
      "15     18.989696  -155.665685         1\n",
      "16     18.989796  -155.671285         1\n",
      "17     18.990096  -155.665785         1\n",
      "18     18.990096  -155.668185         1\n",
      "19     18.990196  -155.671285         1\n",
      "20     18.990396  -155.665785         1\n",
      "21     18.990496  -155.668185         1\n",
      "22     18.990496  -155.671285         1\n",
      "23     18.990796  -155.668185         1\n",
      "24     18.990796  -155.671285         1\n",
      "25     18.990996  -155.665885         1\n",
      "26     18.991196  -155.668185         1\n",
      "27     18.991196  -155.671285         1\n",
      "28     18.991496  -155.668185         1\n",
      "29     18.991496  -155.671285         1\n",
      "...          ...          ...       ...\n",
      "48924  64.570501  -165.427676         1\n",
      "48925  64.570901  -165.426376         1\n",
      "48926  64.571201  -165.427276         1\n",
      "48927  64.571701  -165.427476         1\n",
      "48928  64.572001  -165.426476         1\n",
      "48929  64.572201  -165.425276         1\n",
      "48930    66.6073  -160.016673         1\n",
      "48931    66.6078  -160.017673         1\n",
      "48932    66.6084  -160.018673         1\n",
      "48933    66.6089  -160.019573         1\n",
      "48934  66.831601  -162.559973         1\n",
      "48935  66.834401  -162.557273         1\n",
      "48936  66.835001  -162.557273         1\n",
      "48937  66.835701  -162.557273         1\n",
      "48938  66.836401  -162.557273         1\n",
      "48939  66.836653  -162.563122         1\n",
      "48940  66.837101  -162.557273         1\n",
      "48941  66.837801  -162.563273         1\n",
      "48942  66.837901  -162.551573         1\n",
      "48943  66.837901  -162.557273         1\n",
      "48944  66.837901  -162.562373         1\n",
      "48945  66.838501  -162.557373         1\n",
      "48946  66.838501  -162.563273         1\n",
      "48947  66.838601  -162.551473         1\n",
      "48948  66.839201  -162.551473         1\n",
      "48949  66.839201  -162.557273         1\n",
      "48950  66.839201  -162.563273         1\n",
      "48951  66.839901  -162.551473         1\n",
      "48952  66.839901  -162.557273         1\n",
      "48953  66.839901  -162.563173         1\n",
      "\n",
      "[48954 rows x 3 columns]\n"
     ],
     "name": "stdout",
     "output_type": "stream"
    }
   ]
  },
  {
   "cell_type": "code",
   "execution_count": 16,
   "metadata": {
    "collapsed": false
   },
   "source": [
    "print df[\"lat_DD\"].values"
   ],
   "outputs": [
    {
     "text": [
      "[u'18.964696' u'18.965596' u'18.966796' ..., u'66.839901' u'66.839901'\n",
      " u'66.839901']\n"
     ],
     "name": "stdout",
     "output_type": "stream"
    }
   ]
  },
  {
   "cell_type": "markdown",
   "execution_count": 7,
   "metadata": {
    "collapsed": false
   },
   "source": [
    "Now let's do a basic graph with Plotly. First setup your account for Plotly graphing here if you haven't used Plotly before : \n",
    "\n",
    "https://plot.ly/python/getting-started/\n",
    "\nDo not skip this step as Plotly requires API authentication prior to graphing."
   ],
   "outputs": []
  },
  {
   "cell_type": "code",
   "execution_count": 17,
   "metadata": {
    "collapsed": false
   },
   "source": [
    "mapbox_access_token = 'pk.eyJ1IjoicGxvdGx5ZXhhbXBsZXMiLCJhIjoiY2l1azN6bGMxMDE2djJ6c2M0dmFob3pjdCJ9.iQcf9R_QqzfhgIliXixmFg'\n",
    "\n",
    "trace = Scattermapbox(\n",
    "        lat=df['lat_DD'].values,\n",
    "        lon=df['long_DD'].values,\n",
    "        mode='markers',\n",
    "        marker=Marker(\n",
    "            size=5\n",
    "        ),\n",
    "    )\n",
    "\n",
    "data = Data([trace])\n",
    "\n",
    "layout = Layout(\n",
    "    autosize=True,\n",
    "    hovermode='closest',\n",
    "    mapbox=dict(\n",
    "        accesstoken=mapbox_access_token,\n",
    "        bearing=0,\n",
    "        center=dict(\n",
    "            lat=42,\n",
    "            lon=-95\n",
    "        ),\n",
    "        pitch=0,\n",
    "        zoom=5\n",
    "    ),\n",
    ")\n",
    "\n",
    "fig = Figure(data=data,layout=layout)\n",
    "plot_url = py.plot(fig, filename = \"Mapbox 1\", validate=False)"
   ],
   "outputs": []
  },
  {
   "cell_type": "code",
   "execution_count": 20,
   "metadata": {
    "collapsed": false
   },
   "source": [
    "mapbox_access_token = 'pk.eyJ1IjoicGxvdGx5ZXhhbXBsZXMiLCJhIjoiY2l1azN6bGMxMDE2djJ6c2M0dmFob3pjdCJ9.iQcf9R_QqzfhgIliXixmFg'\n",
    "\n",
    "trace = Scattermapbox(\n",
    "        lat=df['lat_DD'].values,\n",
    "        lon=df['long_DD'].values,\n",
    "        mode='markers',\n",
    "        marker=Marker(\n",
    "            color=\"#FFFFFF\",\n",
    "            size=5\n",
    "        ),\n",
    "    )\n",
    "\n",
    "data = Data([trace])\n",
    "\n",
    "layout = Layout(\n",
    "    annotations=Annotations([\n",
    "        Annotation(\n",
    "            x=0.00,\n",
    "            y=1.07,\n",
    "            showarrow=False,\n",
    "            text=\"Map 1 : Visualization of wind turbine locations in the US\",\n",
    "            xref='paper',\n",
    "            yref='paper'\n",
    "        )\n",
    "    ]),\n",
    "    font=Font(family=\"Droid Sans\", size=14, color=\"FFFFFF\"),\n",
    "    autosize=True,\n",
    "    hovermode='closest',\n",
    "    paper_bgcolor='rgb(40, 40, 40)',\n",
    "    margin=Margin(\n",
    "        t=60,\n",
    "        l=20,\n",
    "        b=20,\n",
    "        r=20,\n",
    "        pad=0\n",
    "    ),\n",
    "    title = \"\",\n",
    "    mapbox=dict(\n",
    "        accesstoken=mapbox_access_token,\n",
    "        bearing=0,\n",
    "        center=dict(\n",
    "            lat=42,\n",
    "            lon=-95\n",
    "        ),\n",
    "        pitch=0,\n",
    "        zoom=5,\n",
    "        style=\"dark\"\n",
    "    ),\n",
    ")\n",
    "\n",
    "fig = Figure(data=data,layout=layout)\n",
    "plot_url = py.plot(fig, filename = \"Mapbox 1 styled\", validate=False)"
   ],
   "outputs": []
  },
  {
   "cell_type": "markdown",
   "execution_count": 48,
   "metadata": {
    "collapsed": false
   },
   "source": [
    "Looks much better already. Now let's add color and vary the size of the points with respect to blade length."
   ],
   "outputs": []
  },
  {
   "cell_type": "code",
   "execution_count": 23,
   "metadata": {
    "collapsed": false
   },
   "source": [
    "df = pd.read_sql_query(\"Select lat_DD, long_DD, blade_l, count(*) from data group by lat_DD, long_DD, blade_l\", disk_engine)\n",
    "\n",
    "mapbox_access_token = 'pk.eyJ1IjoicGxvdGx5ZXhhbXBsZXMiLCJhIjoiY2l1azN6bGMxMDE2djJ6c2M0dmFob3pjdCJ9.iQcf9R_QqzfhgIliXixmFg'\n",
    "\n",
    "trace = Scattermapbox(\n",
    "    lat=df['lat_DD'].values,\n",
    "    lon=df['long_DD'].values,\n",
    "    mode='markers',\n",
    "    marker=Marker(\n",
    "        color=[max(float(i), 5) for i in df['blade_l'].values],\n",
    "        colorscale=[[0, 'rgb(221,42,145)'], [0.35, 'rgb(177,77,236)'], [0.5, 'rgb(118,117,237)'], [0.6, 'rgb(46,142,191)'], [0.7, 'rgb(11,152,121)'], [1, 'rgb(19,152,99)']],\n",
    "        reversescale=True,\n",
    "        showscale=True,\n",
    "        autocolorscale=False,\n",
    "        colorbar=ColorBar(\n",
    "            title='Turbine<br>blade<br>length (m)'\n",
    "        ),\n",
    "        size=[max(float(i)/5, 5) for i in df['blade_l'].values],\n",
    "        opacity=0.8\n",
    "      \n",
    "    ),\n",
    ")\n",
    " \n",
    "data = Data([trace])\n",
    "\n",
    "layout = Layout(\n",
    "    annotations=Annotations([\n",
    "        Annotation(\n",
    "            x=0.00,\n",
    "            y=1.07,\n",
    "            showarrow=False,\n",
    "            text=\"Map 2 : Visualization of wind turbine locations and their size in the US\",\n",
    "            xref='paper',\n",
    "            yref='paper'\n",
    "        )\n",
    "    ]),\n",
    "    font=Font(family=\"Droid Sans\", size=14, color=\"FFFFFF\"),\n",
    "    autosize=True,\n",
    "    hovermode='closest',\n",
    "    paper_bgcolor='rgb(40, 40, 40)',\n",
    "    margin=Margin(\n",
    "        t=60,\n",
    "        l=20,\n",
    "        b=20,\n",
    "        r=20,\n",
    "        pad=0\n",
    "    ),\n",
    "    title = \"\",\n",
    "    mapbox=dict(\n",
    "        accesstoken=mapbox_access_token,\n",
    "        bearing=0,\n",
    "        center=dict(\n",
    "            lat=42,\n",
    "            lon=-95\n",
    "        ),\n",
    "        pitch=0,\n",
    "        zoom=5,\n",
    "        style=\"dark\"\n",
    "    ),\n",
    ")\n",
    "\n",
    "fig = Figure(data=data,layout=layout)\n",
    "plot_url = py.plot(fig, filename = \"Mapbox 2\", validate=False)\n"
   ],
   "outputs": []
  },
  {
   "cell_type": "code",
   "execution_count": 20,
   "metadata": {
    "collapsed": false
   },
   "source": [],
   "outputs": []
  },
  {
   "cell_type": "code",
   "execution_count": 20,
   "metadata": {
    "collapsed": false
   },
   "source": [],
   "outputs": []
  },
  {
   "cell_type": "code",
   "execution_count": 20,
   "metadata": {
    "collapsed": false
   },
   "source": [],
   "outputs": []
  }
 ],
 "nbformat": 4,
 "nbformat_minor": 0,
 "metadata": {
  "kernelspec": {
   "name": "python2",
   "language": "python",
   "display_name": "Python 2"
  },
  "kernel_info": {
   "name": "python2"
  },
  "language_info": {
   "mimetype": "text/x-python",
   "nbconvert_exporter": "python",
   "name": "python",
   "pygments_lexer": "ipython2",
   "version": "2.7.12",
   "file_extension": ".py",
   "codemirror_mode": {
    "version": 2,
    "name": "ipython"
   }
  }
 }
}